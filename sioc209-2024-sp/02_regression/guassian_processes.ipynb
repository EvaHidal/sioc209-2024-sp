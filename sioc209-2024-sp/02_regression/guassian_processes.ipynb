{
 "cells": [
  {
   "cell_type": "markdown",
   "id": "a6f6ad06",
   "metadata": {},
   "source": [
    "# Gaussian Process Regression"
   ]
  },
  {
   "cell_type": "markdown",
   "id": "fc312cc8",
   "metadata": {},
   "source": [
    "GPs are not really 'Deep Learning' but I wanted to include an example because they are powerful and expressive regression models with some nice properties"
   ]
  },
  {
   "cell_type": "markdown",
   "id": "30bfdca8",
   "metadata": {},
   "source": [
    "Recent work composing 'nested' GPs, referred to as 'Deep GPs' are also useful to know about and can offer a powerful alternative to NN's, particularly in the low-data regime."
   ]
  },
  {
   "cell_type": "markdown",
   "id": "28dd245c",
   "metadata": {},
   "source": []
  }
 ],
 "metadata": {
  "language_info": {
   "name": "python"
  }
 },
 "nbformat": 4,
 "nbformat_minor": 5
}
