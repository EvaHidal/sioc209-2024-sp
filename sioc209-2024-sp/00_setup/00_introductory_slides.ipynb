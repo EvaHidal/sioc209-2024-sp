{
 "cells": [
  {
   "cell_type": "markdown",
   "metadata": {},
   "source": [
    "# Welcome to SIO(C) 209 - Deep Learning for Geo and Environmental Science"
   ]
  },
  {
   "cell_type": "markdown",
   "metadata": {},
   "source": [
    " - This hands-on course will introduce you to the application of deep learning techniques in the field of environmental sciences. \n",
    " - It covers the main classes of supervised and unsupervised machine learning algorithms and provides practical experience in training and validating real-world models. \n",
    " - You will gain the skills necessary to analyze environmental data, make predictions, and uncover hidden patterns."
   ]
  },
  {
   "cell_type": "markdown",
   "metadata": {},
   "source": [
    "### Prerequisites \n",
    "\n",
    "This is not an 'introduction to ML' course. I'll assume you have:\n",
    " - Prior knowledge of machine learning fundamentals, including linear algebra, gradient descent and backpropagation. \n",
    " - Basic programming skills (e.g., Python"
   ]
  },
  {
   "cell_type": "markdown",
   "metadata": {},
   "source": [
    "\n",
    "### Course Objectives\n",
    "By the end of the course, students should be able to:\n",
    " - Understand the principles of machine learning and its applications in environmental sciences.\n",
    " - Apply supervised and unsupervised machine learning techniques to environmental data.\n",
    " - Evaluate and validate machine learning models using appropriate metrics.\n",
    " - Interpret and communicate results effectively.\n",
    " - Develop proficiency in using machine learning libraries and tools in Python.\n"
   ]
  },
  {
   "cell_type": "markdown",
   "metadata": {},
   "source": [
    "### Course Objectives - specifics\n",
    "\n",
    "Specifically, we will cover:\n",
    "- Preparing your data for machine learning\n",
    "- Choosing a model to use\n",
    "- Basic introduction to different classes of models:\n",
    "  - Deep Neural Networks\n",
    "  - Gaussian processes\n",
    "  - Tree based models\n",
    "- Fine tuning / hyper parameter estimation for specific example tasks"
   ]
  },
  {
   "cell_type": "markdown",
   "metadata": {},
   "source": [
    "### Course Objectives - extras\n",
    "\n",
    "If we have time, we will also cover:\n",
    " - Generative models\n",
    " - Large language models\n",
    " - A deep dive on *why* these models work at all"
   ]
  },
  {
   "cell_type": "markdown",
   "metadata": {},
   "source": [
    "### Course Objectives - not covering \n",
    "\n",
    "For the avoidance of doubt, we won't cover:\n",
    "- The mathematical underpinnings of:\n",
    " - Linear algebra (including Ridge, SVM, PCA, etc)\n",
    " - Neural networks and back propagation\n",
    " - Gradient descent\n",
    "- Time series analysis\n",
    "- Designing your own machine learning algorithms"
   ]
  },
  {
   "cell_type": "markdown",
   "metadata": {},
   "source": [
    "### Course Objectives\n",
    "\n",
    "Instead, we will try and build your understanding of these methods through practice."
   ]
  },
  {
   "cell_type": "markdown",
   "metadata": {},
   "source": [
    "We will work through published examples of:\n",
    "- Climate model emulation\n",
    "- Plankton classification\n",
    "- Whale call detection\n",
    "- Learning stream modification patterns in a river basin\n",
    "- Satellite image clustering  "
   ]
  },
  {
   "cell_type": "markdown",
   "metadata": {},
   "source": [
    "## Introductions"
   ]
  },
  {
   "cell_type": "markdown",
   "metadata": {},
   "source": [
    "### About me\n",
    " - Assistant Professor at SIO and HDSI, joined in Spring 2023\n",
    " - Run the [Climate Analytics Lab (CAL)](http://climate-analytics-lab.github.io/) - harnessing machine learning to improve climate projections"
   ]
  },
  {
   "cell_type": "markdown",
   "metadata": {},
   "source": [
    "<center><img src=\"_images/CAL.png\" alt=\"logo\"/></center>"
   ]
  },
  {
   "cell_type": "markdown",
   "metadata": {},
   "source": [
    "### About me\n",
    " - Assistant Professor at SIO and HDSI, joined in Spring 2023\n",
    " - Run the Climate Analytics Lab (CAL) - harnessing machine learning to improve climate projections\n",
    " - PhD from University of Manchester 2011 in Theoretical Physics\n",
    " - Worked as a software consultant 2011-2015 - many projects!\n",
    " - Postdoc + Senior Postdoc at University of Oxford 2015-2023 \n",
    " - Moved over from the UK with my wife and two kids (11 & 13)"
   ]
  },
  {
   "cell_type": "markdown",
   "metadata": {},
   "source": [
    "### Tell me about you\n",
    " \n",
    "  - What year are you in and which program?\n",
    "  - Previous experience with Python\n",
    "  - Previous experience with machine learning / statistics\n",
    "  - Any related projects you might have worked on"
   ]
  },
  {
   "cell_type": "markdown",
   "metadata": {},
   "source": [
    "### Expectations\n",
    " - This is a graduate course so please feel free interrupt to ask questions\n",
    " - Let me know if you find the pace too fast, or too slow\n",
    " - I would encourage you to work in pairs during class exercises\n",
    " - Let me know if there is something I can do to make your learning easier\n",
    " - Be courteous and respectful of staff and other learners at all times \n",
    " - Feel free to use ChatGPT and other AI assistants in your work!"
   ]
  },
  {
   "cell_type": "markdown",
   "metadata": {},
   "source": [
    "### Logistics\n",
    "\n",
    " - Most course material will be made available on GitHub\n",
    " - Course specific material will be on Canvas:\n",
    "   - Lecture schedule and recordings\n",
    "   - Links to key datasets\n",
    "   - Office hours\n",
    "   - Grading policy\n",
    "   - Academic integrity policy"
   ]
  },
  {
   "cell_type": "markdown",
   "metadata": {},
   "source": [
    "### Grading and course structure"
   ]
  },
  {
   "cell_type": "markdown",
   "metadata": {},
   "source": [
    "- **TBD**\n",
    "- Coursework and final project can be completed collaboratively, but must be submitted individually. Co-authors should be explicitly declared."
   ]
  },
  {
   "cell_type": "markdown",
   "metadata": {},
   "source": [
    "### Course textbook and resources\n",
    "\n",
    "There is no official textbook but we will be heavily leaning on both:\n",
    " - Deep Learning with Python by François Chollet\n",
    " - Understanding Deep Learning by Simon Prince\n",
    "\n",
    " We also build heavily on the \"[Machine Learning for Earth and Environmental Sciences](https://tbeucler.github.io/2023_MLEES_Published_Book/)\" course by Tom Beucler at UNI Lausanne and \"[An Introduction to Earth and Environmental Data Science](https://earth-env-data-science.github.io/intro.html)\" by Ryan Abernathy."
   ]
  },
  {
   "cell_type": "markdown",
   "metadata": {},
   "source": [
    "### Course textbook and resources\n",
    "\n",
    "As the first running of this class many notes and lectures will appear as we go along, but a Jupyter Book with extended notes (and the lecture slides) is available on GitHub: https://github.com/climate-analytics-lab/sioc209-2024-sp\n",
    "\n",
    "If you find any mistakes or have suggestions for improvements you can always make a pull request :-)"
   ]
  },
  {
   "cell_type": "markdown",
   "metadata": {},
   "source": [
    "## Python Setup"
   ]
  },
  {
   "cell_type": "markdown",
   "metadata": {},
   "source": [
    "During the course we will explore a number of real use-cases which use a variety of Python libraries, reflecting the broad options available. "
   ]
  },
  {
   "cell_type": "markdown",
   "metadata": {},
   "source": [
    "We have tried to harmonize the Python environment for the course to make it as straight-forward as possible, but you may still want to use multiple environments to keep the examples clean and separate."
   ]
  },
  {
   "cell_type": "markdown",
   "metadata": {},
   "source": [
    "We will use the rest of this lecture to ensure everyone has at least the base environment setup somewhere."
   ]
  },
  {
   "cell_type": "markdown",
   "metadata": {},
   "source": [
    "### Where to setup your environment\n",
    "\n",
    "As we will discover, deep learning often involves large amounts of data - 10s Gb or more. Sometimes much more.\n",
    "\n",
    "At the same time, training these algorithms can be much more efficient using specific hardware, such as GPUs and TPUs. Getting the data on to these chips is invariably the main bottleneck and so we want the data as close to them as possible (and ideally in memory).\n",
    "\n",
    "Therefore, we often find ourselves wanting, or needing, to use remote environments on large clusters which host the data and the hardware."
   ]
  },
  {
   "cell_type": "markdown",
   "metadata": {},
   "source": [
    "### Remote options\n",
    "\n",
    "Ideally you will have access to a dedicated cluster in your lab, or perhaps at a larger facility (e.g. [SDSC](https://www.sdsc.edu)). \n",
    "\n",
    "For this course we have deliberately cut down data sizes to make working on your laptop feasible, but you also have a couple of remote options:\n",
    "- UCSD DataHub\n",
    "- Google Colab"
   ]
  },
  {
   "cell_type": "markdown",
   "metadata": {},
   "source": [
    "### Remote options - DataHub\n",
    "\n",
    "DataHub provides free JupyterHub instances for classes in UCSD: https://datahub.ucsd.edu/"
   ]
  },
  {
   "cell_type": "markdown",
   "metadata": {},
   "source": [
    "Click 'Log In' and select the SIO 209 course to get a specific configuration that includes most of the key libraries we will use pre-installed."
   ]
  },
  {
   "cell_type": "markdown",
   "metadata": {},
   "source": [
    "Shared datasets will also be made available in the read-only `public` folder for ease of access"
   ]
  },
  {
   "cell_type": "markdown",
   "metadata": {},
   "source": [
    "### Remote options - Google Colab\n",
    "\n",
    "Google also provides a free (as in beer) platform for running small machine learning pipelines in the cloud: http://colab.research.google.com"
   ]
  },
  {
   "cell_type": "markdown",
   "metadata": {},
   "source": [
    "With this you can open notebooks in Drive, from GitHub or uploaded locally. You can also make use of Google's TPUs for efficient learning on small-ish tasks."
   ]
  },
  {
   "cell_type": "markdown",
   "metadata": {},
   "source": [
    "Shared data can be added directly by mounting the 'CAL Shared Data' Drive in your workspace. Specific libraries (such as `xarray`) need to be installed each time"
   ]
  },
  {
   "cell_type": "markdown",
   "metadata": {},
   "source": [
    "### Local options\n",
    "\n",
    "As noted, most of the examples used in this course should be runnable on your laptop, albeit slowly. "
   ]
  },
  {
   "cell_type": "markdown",
   "metadata": {},
   "source": [
    "Setting up a local environment is best done using `conda` and `pip`. "
   ]
  },
  {
   "cell_type": "markdown",
   "metadata": {},
   "source": [
    "I usually create a new environment using `conda` with e.g. `xarray` and `cartopy` and then install the ML libraries with `pip` which then includes optimizations for your hardware. YMMV!"
   ]
  },
  {
   "cell_type": "markdown",
   "metadata": {},
   "source": [
    "\n",
    "See detailed instructions [here](python_env_setup.md). Note, you can make use of Mac GPU's with `pip install tensorflow-metal`"
   ]
  },
  {
   "cell_type": "markdown",
   "metadata": {},
   "source": [
    "### Python requirements\n",
    "\n",
    "The full list of python packages required is in the [evironment.yml](../../environment.yml) file, but these are the important ones:\n",
    " - `python=3.10` (for compatibility)\n",
    " - `xarray`\n",
    " - `netcdf4`\n",
    " - `cartopy`\n",
    " - `scikit-learn`\n",
    " - `tensorflow`\n",
    "\n"
   ]
  },
  {
   "cell_type": "markdown",
   "metadata": {},
   "source": []
  }
 ],
 "metadata": {
  "language_info": {
   "name": "python"
  }
 },
 "nbformat": 4,
 "nbformat_minor": 2
}
