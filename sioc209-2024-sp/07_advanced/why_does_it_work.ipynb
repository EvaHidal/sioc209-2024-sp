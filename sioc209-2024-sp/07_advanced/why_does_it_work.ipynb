{
 "cells": [
  {
   "cell_type": "markdown",
   "id": "0579b37e",
   "metadata": {},
   "source": [
    "# Why does Deep Learning Work?!"
   ]
  },
  {
   "cell_type": "markdown",
   "id": "ed5b60f5",
   "metadata": {},
   "source": []
  }
 ],
 "metadata": {
  "language_info": {
   "name": "python"
  }
 },
 "nbformat": 4,
 "nbformat_minor": 5
}
