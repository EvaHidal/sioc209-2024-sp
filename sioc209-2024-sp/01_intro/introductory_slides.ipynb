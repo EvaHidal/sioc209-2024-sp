{
 "cells": [
  {
   "cell_type": "markdown",
   "metadata": {},
   "source": [
    "# Welcome to SIO(C) 209 - Deep Learning for Geo and Environmental Science"
   ]
  },
  {
   "cell_type": "markdown",
   "metadata": {},
   "source": [
    "- This hands-on graduate-level course introduces students to the application of machine learning techniques in the field of environmental sciences. \n",
    " - It covers the main classes of supervised and unsupervised machine learning algorithms and provides practical experience in training and validating real-world models. \n",
    " - Students will gain the skills necessary to analyze environmental data, make predictions, and uncover hidden patterns."
   ]
  },
  {
   "cell_type": "markdown",
   "metadata": {},
   "source": [
    "### Prerequisites \n",
    "\n",
    "This is not an 'introduction to ML' course. I'll assume you have:\n",
    " - Prior knowledge of machine learning fundamentals, including linear algebra, gradient descent and backpropagation. \n",
    " - Basic programming skills (e.g., Python"
   ]
  },
  {
   "cell_type": "markdown",
   "metadata": {},
   "source": [
    "\n",
    "### Course Objectives\n",
    "By the end of the course, students should be able to:\n",
    " - Understand the principles of machine learning and its applications in environmental sciences.\n",
    " - Apply supervised and unsupervised machine learning techniques to environmental data.\n",
    " - Evaluate and validate machine learning models using appropriate metrics.\n",
    " - Interpret and communicate results effectively.\n",
    " - Develop proficiency in using machine learning libraries and tools in Python.\n",
    "\n"
   ]
  },
  {
   "cell_type": "markdown",
   "metadata": {},
   "source": []
  },
  {
   "cell_type": "markdown",
   "metadata": {},
   "source": [
    "## Introductions"
   ]
  },
  {
   "cell_type": "markdown",
   "metadata": {},
   "source": [
    "### About me\n",
    " - Assistant Professor at SIO and HDSI, joined in Spring 2023\n",
    " - Run the Climate Analytics Lab (CAL) - harnessing machine learning to improve climate projections\n",
    " - PhD from University of Manchester 2011 in Theoretical Physics\n",
    " - Worked as a software consultant 2011-2015 - many projects!\n",
    " - Postdoc + Senior Postdoc at University of Oxford 2015-2023 \n",
    " - Moved over from the UK with my wife and two kids (11 & 13)"
   ]
  },
  {
   "cell_type": "markdown",
   "metadata": {},
   "source": [
    "### Expectations\n",
    " - This is a graduate course so please feel free to ask questions\n",
    " - Let me know if you find the pace too fast, or too slow\n",
    " - Let me know if there is something I can do to make your learning easier\n",
    " - Be courteous and respectful of staff and other learners at all times \n",
    " - Feel free to use ChatGPT and other AI assistants in your work!"
   ]
  },
  {
   "cell_type": "markdown",
   "metadata": {},
   "source": [
    "### Logistics\n",
    "\n",
    " - Most course material will be made available on GitHub\n",
    " - Course specific material will be on Canvas:\n",
    "   - Lecture schedule and recordings\n",
    "   - Office hours\n",
    "   - Grading policy\n",
    "   - Academic integrity policy"
   ]
  },
  {
   "cell_type": "markdown",
   "metadata": {},
   "source": []
  }
 ],
 "metadata": {
  "language_info": {
   "name": "python"
  }
 },
 "nbformat": 4,
 "nbformat_minor": 2
}
