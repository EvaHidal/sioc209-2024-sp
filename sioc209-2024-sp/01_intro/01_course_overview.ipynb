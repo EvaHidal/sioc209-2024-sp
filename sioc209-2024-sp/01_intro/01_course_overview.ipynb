{
 "cells": [
  {
   "cell_type": "markdown",
   "id": "bfa485b5",
   "metadata": {},
   "source": [
    "# Deep Learning for Geo/Environmental sciences\n",
    "\n",
    "<center><img src=\"../logo.jpg\" alt=\"logo\" width=\"200\"/></center>\n",
    "*Created with ChapGPT"
   ]
  },
  {
   "cell_type": "markdown",
   "id": "d2563a7e",
   "metadata": {},
   "source": [
    "## Review of key machine learning concepts"
   ]
  },
  {
   "cell_type": "markdown",
   "id": "695e09ee",
   "metadata": {},
   "source": [
    "<center><img src=\"_images/machine_learning_2x.png\" alt=\"xkcd machine learning\" width=\"200\"/></center>\n",
    "*XKCD 1838"
   ]
  },
  {
   "cell_type": "markdown",
   "id": "9224c28f",
   "metadata": {},
   "source": [
    "Examples in real life"
   ]
  },
  {
   "cell_type": "markdown",
   "id": "2e0a6764",
   "metadata": {},
   "source": [
    "Briefly Chart the evolution since Turing "
   ]
  },
  {
   "cell_type": "markdown",
   "id": "943217e1",
   "metadata": {},
   "source": [
    "Data driven modelling\n",
    "\n"
   ]
  },
  {
   "cell_type": "markdown",
   "id": "83fec404",
   "metadata": {},
   "source": [
    "High dimensional statistics"
   ]
  },
  {
   "cell_type": "markdown",
   "id": "806ef594",
   "metadata": {},
   "source": [
    "## Different classes of ML\n",
    "\n",
    "<center><img src=\"_images/ML_overview.png\" alt=\"xkcd machine learning\"/></center>\n"
   ]
  },
  {
   "cell_type": "markdown",
   "id": "207c3ce5",
   "metadata": {},
   "source": [
    "### Supervised"
   ]
  },
  {
   "cell_type": "markdown",
   "id": "49bb9c50",
   "metadata": {},
   "source": [
    "Regression"
   ]
  },
  {
   "cell_type": "markdown",
   "id": "ebe72e63",
   "metadata": {},
   "source": [
    "Classification"
   ]
  },
  {
   "cell_type": "markdown",
   "id": "6a671e0f",
   "metadata": {},
   "source": [
    "detection / segmentation"
   ]
  },
  {
   "cell_type": "markdown",
   "id": "11f8cbb7",
   "metadata": {},
   "source": [
    "### Unsupervised "
   ]
  },
  {
   "cell_type": "markdown",
   "id": "ea918e1b",
   "metadata": {},
   "source": [
    "Dimensionality reduction"
   ]
  },
  {
   "cell_type": "markdown",
   "id": "bbe21325",
   "metadata": {},
   "source": [
    "Clustering"
   ]
  },
  {
   "cell_type": "markdown",
   "id": "b9841ecf",
   "metadata": {},
   "source": [
    "### Self-supervised"
   ]
  },
  {
   "cell_type": "markdown",
   "id": "4e970fd0",
   "metadata": {},
   "source": [
    "We use inductive biases to encourage certain desirable behaviours"
   ]
  },
  {
   "cell_type": "markdown",
   "id": "716c515b",
   "metadata": {},
   "source": [
    "### Generative models"
   ]
  },
  {
   "cell_type": "markdown",
   "id": "81dffa36",
   "metadata": {},
   "source": [
    "### Semi-supervised"
   ]
  },
  {
   "cell_type": "markdown",
   "id": "4c4647c0",
   "metadata": {},
   "source": []
  },
  {
   "cell_type": "markdown",
   "id": "27dd7a03",
   "metadata": {},
   "source": [
    "### Reinforcement learning"
   ]
  },
  {
   "cell_type": "markdown",
   "id": "683330ba",
   "metadata": {},
   "source": []
  },
  {
   "cell_type": "markdown",
   "id": "6217fb0a",
   "metadata": {},
   "source": [
    "## What is deep learning?"
   ]
  },
  {
   "cell_type": "markdown",
   "id": "2625e1bc",
   "metadata": {},
   "source": [
    "The phrase 'Deep learning' relates to the use of deep neural networks for a given machine learning task. It has become synonymous with many aspects of machine learning because of these models flexibility and performance across a wide range of tasks."
   ]
  },
  {
   "cell_type": "markdown",
   "id": "ecec8d44",
   "metadata": {},
   "source": [
    "The *universal approximation theorem* tells us that any continuous 1D function can be approximated by an infinitely wide shallow Neural Network. So why go deeper?"
   ]
  },
  {
   "cell_type": "markdown",
   "id": "3a17e297",
   "metadata": {},
   "source": [
    "While shallow NNs can be very effective regressors, it turns out that they can be impractical for some functions - requiring enourmous numbers of hidden units."
   ]
  },
  {
   "cell_type": "markdown",
   "id": "9acc8b83",
   "metadata": {},
   "source": [
    "In fact, some functions can be modelled much more efficiently by increasing the number of layers, rather than the width of the layers - particularly those with large numbers of inputs"
   ]
  },
  {
   "cell_type": "markdown",
   "id": "6b4900da",
   "metadata": {},
   "source": []
  }
 ],
 "metadata": {
  "language_info": {
   "name": "python"
  }
 },
 "nbformat": 4,
 "nbformat_minor": 5
}
