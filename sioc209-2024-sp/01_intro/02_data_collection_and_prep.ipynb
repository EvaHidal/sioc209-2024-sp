{
 "cells": [
  {
   "cell_type": "markdown",
   "metadata": {},
   "source": [
    "# Deep Learning for Geo/Environmental sciences\n",
    "\n",
    "<center><img src=\"../logo_2.png\" alt=\"logo\" width=\"600\"/></center>\n",
    "\n",
    "<em>*Created with ChapGPT</em>"
   ]
  },
  {
   "cell_type": "markdown",
   "metadata": {},
   "source": [
    "## Lecture 3: Data collection and preparation\n",
    "\n",
    " - Tabular and time-series data with `Pandas`\n",
    " - Data wrangling\n",
    " - Test/train/val split\n",
    "    - Sacred nature of test data: P-value hacking, data leakage, etc. "
   ]
  },
  {
   "cell_type": "markdown",
   "id": "2c0397e0-4592-48dd-90d9-6a6dc95be2f9",
   "metadata": {
    "slideshow": {
     "slide_type": "slide"
    },
    "tags": [
     "id_section-1"
    ]
   },
   "source": [
    "## Introduction to Pandas\n",
    "\n",
    "<div style=\"text-align: center;\">\n",
    "    <img width=\"40%\" src=\"https://hips.hearstapps.com/elleuk.cdnds.net/16/36/3200x1599/gallery-1473083573-pandas.jpg\" alt=\"Waving panda\" style=\"min-width: 400px\">\n",
    "    <div><small><em><a href=\"https://www.elle.com/uk/life-and-culture/culture/news/a31745/10-ways-to-celebrate-pandas-no-longer-being-endangered/\">Source</a></em></small></div>\n",
    "</div>"
   ]
  },
  {
   "cell_type": "markdown",
   "id": "40c6aa50",
   "metadata": {
    "slideshow": {
     "slide_type": "subslide"
    }
   },
   "source": [
    "Pandas is a powerful library especially designed to work with tabular data and has powerful time-series analysis tools. It leans on many ideas from `R` and is built on top of `NumPy`. It is a very powerful tool for data manipulation and analysis."
   ]
  },
  {
   "cell_type": "markdown",
   "id": "42dc9b08",
   "metadata": {
    "slideshow": {
     "slide_type": "fragment"
    }
   },
   "source": [
    "These slides lean heavily on a fantastic [Pandas Workshop](https://github.com/stefmolin/pandas-workshop/tree/main) put together by Stefanie Molin."
   ]
  },
  {
   "cell_type": "markdown",
   "id": "4f32bdf0",
   "metadata": {
    "slideshow": {
     "slide_type": "fragment"
    }
   },
   "source": [
    "We will begin by introducing the `Series`, `DataFrame`, and `Index` classes, which are the basic building blocks of the pandas library, and showing how to work with them. By the end of this section, you will be able to create DataFrames and perform operations on them to inspect and filter the data."
   ]
  },
  {
   "cell_type": "code",
   "execution_count": 1,
   "id": "a2313f0a",
   "metadata": {
    "slideshow": {
     "slide_type": "fragment"
    }
   },
   "outputs": [],
   "source": [
    "import pandas as pd"
   ]
  },
  {
   "cell_type": "markdown",
   "id": "c2157875-85e2-4cac-aa9e-7d04e47015a4",
   "metadata": {
    "slideshow": {
     "slide_type": "slide"
    },
    "tags": [
     "id_anatomy-of-a-dataframe"
    ]
   },
   "source": [
    "## Anatomy of a DataFrame\n",
    "\n",
    "A **DataFrame** is composed of one or more **Series**. The names of the **Series** form the column names, and the row labels form the **Index**."
   ]
  },
  {
   "cell_type": "code",
   "execution_count": 3,
   "id": "071b9893-98aa-4f8e-9dff-b34cf7e56a01",
   "metadata": {
    "slideshow": {
     "slide_type": "subslide"
    },
    "tags": []
   },
   "outputs": [
    {
     "ename": "FileNotFoundError",
     "evalue": "[Errno 2] No such file or directory: 'public/Meteorite_Landings.csv'",
     "output_type": "error",
     "traceback": [
      "\u001b[0;31m---------------------------------------------------------------------------\u001b[0m",
      "\u001b[0;31mFileNotFoundError\u001b[0m                         Traceback (most recent call last)",
      "Cell \u001b[0;32mIn[3], line 1\u001b[0m\n\u001b[0;32m----> 1\u001b[0m meteorites \u001b[38;5;241m=\u001b[39m \u001b[43mpd\u001b[49m\u001b[38;5;241;43m.\u001b[39;49m\u001b[43mread_csv\u001b[49m\u001b[43m(\u001b[49m\u001b[38;5;124;43m'\u001b[39;49m\u001b[38;5;124;43mpublic/Meteorite_Landings.csv\u001b[39;49m\u001b[38;5;124;43m'\u001b[39;49m\u001b[43m,\u001b[49m\u001b[43m \u001b[49m\u001b[43mnrows\u001b[49m\u001b[38;5;241;43m=\u001b[39;49m\u001b[38;5;241;43m5\u001b[39;49m\u001b[43m)\u001b[49m\n\u001b[1;32m      2\u001b[0m meteorites\n",
      "File \u001b[0;32m~/miniconda3/envs/sio209_dev/lib/python3.10/site-packages/pandas/io/parsers/readers.py:1026\u001b[0m, in \u001b[0;36mread_csv\u001b[0;34m(filepath_or_buffer, sep, delimiter, header, names, index_col, usecols, dtype, engine, converters, true_values, false_values, skipinitialspace, skiprows, skipfooter, nrows, na_values, keep_default_na, na_filter, verbose, skip_blank_lines, parse_dates, infer_datetime_format, keep_date_col, date_parser, date_format, dayfirst, cache_dates, iterator, chunksize, compression, thousands, decimal, lineterminator, quotechar, quoting, doublequote, escapechar, comment, encoding, encoding_errors, dialect, on_bad_lines, delim_whitespace, low_memory, memory_map, float_precision, storage_options, dtype_backend)\u001b[0m\n\u001b[1;32m   1013\u001b[0m kwds_defaults \u001b[38;5;241m=\u001b[39m _refine_defaults_read(\n\u001b[1;32m   1014\u001b[0m     dialect,\n\u001b[1;32m   1015\u001b[0m     delimiter,\n\u001b[0;32m   (...)\u001b[0m\n\u001b[1;32m   1022\u001b[0m     dtype_backend\u001b[38;5;241m=\u001b[39mdtype_backend,\n\u001b[1;32m   1023\u001b[0m )\n\u001b[1;32m   1024\u001b[0m kwds\u001b[38;5;241m.\u001b[39mupdate(kwds_defaults)\n\u001b[0;32m-> 1026\u001b[0m \u001b[38;5;28;01mreturn\u001b[39;00m \u001b[43m_read\u001b[49m\u001b[43m(\u001b[49m\u001b[43mfilepath_or_buffer\u001b[49m\u001b[43m,\u001b[49m\u001b[43m \u001b[49m\u001b[43mkwds\u001b[49m\u001b[43m)\u001b[49m\n",
      "File \u001b[0;32m~/miniconda3/envs/sio209_dev/lib/python3.10/site-packages/pandas/io/parsers/readers.py:620\u001b[0m, in \u001b[0;36m_read\u001b[0;34m(filepath_or_buffer, kwds)\u001b[0m\n\u001b[1;32m    617\u001b[0m _validate_names(kwds\u001b[38;5;241m.\u001b[39mget(\u001b[38;5;124m\"\u001b[39m\u001b[38;5;124mnames\u001b[39m\u001b[38;5;124m\"\u001b[39m, \u001b[38;5;28;01mNone\u001b[39;00m))\n\u001b[1;32m    619\u001b[0m \u001b[38;5;66;03m# Create the parser.\u001b[39;00m\n\u001b[0;32m--> 620\u001b[0m parser \u001b[38;5;241m=\u001b[39m \u001b[43mTextFileReader\u001b[49m\u001b[43m(\u001b[49m\u001b[43mfilepath_or_buffer\u001b[49m\u001b[43m,\u001b[49m\u001b[43m \u001b[49m\u001b[38;5;241;43m*\u001b[39;49m\u001b[38;5;241;43m*\u001b[39;49m\u001b[43mkwds\u001b[49m\u001b[43m)\u001b[49m\n\u001b[1;32m    622\u001b[0m \u001b[38;5;28;01mif\u001b[39;00m chunksize \u001b[38;5;129;01mor\u001b[39;00m iterator:\n\u001b[1;32m    623\u001b[0m     \u001b[38;5;28;01mreturn\u001b[39;00m parser\n",
      "File \u001b[0;32m~/miniconda3/envs/sio209_dev/lib/python3.10/site-packages/pandas/io/parsers/readers.py:1620\u001b[0m, in \u001b[0;36mTextFileReader.__init__\u001b[0;34m(self, f, engine, **kwds)\u001b[0m\n\u001b[1;32m   1617\u001b[0m     \u001b[38;5;28mself\u001b[39m\u001b[38;5;241m.\u001b[39moptions[\u001b[38;5;124m\"\u001b[39m\u001b[38;5;124mhas_index_names\u001b[39m\u001b[38;5;124m\"\u001b[39m] \u001b[38;5;241m=\u001b[39m kwds[\u001b[38;5;124m\"\u001b[39m\u001b[38;5;124mhas_index_names\u001b[39m\u001b[38;5;124m\"\u001b[39m]\n\u001b[1;32m   1619\u001b[0m \u001b[38;5;28mself\u001b[39m\u001b[38;5;241m.\u001b[39mhandles: IOHandles \u001b[38;5;241m|\u001b[39m \u001b[38;5;28;01mNone\u001b[39;00m \u001b[38;5;241m=\u001b[39m \u001b[38;5;28;01mNone\u001b[39;00m\n\u001b[0;32m-> 1620\u001b[0m \u001b[38;5;28mself\u001b[39m\u001b[38;5;241m.\u001b[39m_engine \u001b[38;5;241m=\u001b[39m \u001b[38;5;28;43mself\u001b[39;49m\u001b[38;5;241;43m.\u001b[39;49m\u001b[43m_make_engine\u001b[49m\u001b[43m(\u001b[49m\u001b[43mf\u001b[49m\u001b[43m,\u001b[49m\u001b[43m \u001b[49m\u001b[38;5;28;43mself\u001b[39;49m\u001b[38;5;241;43m.\u001b[39;49m\u001b[43mengine\u001b[49m\u001b[43m)\u001b[49m\n",
      "File \u001b[0;32m~/miniconda3/envs/sio209_dev/lib/python3.10/site-packages/pandas/io/parsers/readers.py:1880\u001b[0m, in \u001b[0;36mTextFileReader._make_engine\u001b[0;34m(self, f, engine)\u001b[0m\n\u001b[1;32m   1878\u001b[0m     \u001b[38;5;28;01mif\u001b[39;00m \u001b[38;5;124m\"\u001b[39m\u001b[38;5;124mb\u001b[39m\u001b[38;5;124m\"\u001b[39m \u001b[38;5;129;01mnot\u001b[39;00m \u001b[38;5;129;01min\u001b[39;00m mode:\n\u001b[1;32m   1879\u001b[0m         mode \u001b[38;5;241m+\u001b[39m\u001b[38;5;241m=\u001b[39m \u001b[38;5;124m\"\u001b[39m\u001b[38;5;124mb\u001b[39m\u001b[38;5;124m\"\u001b[39m\n\u001b[0;32m-> 1880\u001b[0m \u001b[38;5;28mself\u001b[39m\u001b[38;5;241m.\u001b[39mhandles \u001b[38;5;241m=\u001b[39m \u001b[43mget_handle\u001b[49m\u001b[43m(\u001b[49m\n\u001b[1;32m   1881\u001b[0m \u001b[43m    \u001b[49m\u001b[43mf\u001b[49m\u001b[43m,\u001b[49m\n\u001b[1;32m   1882\u001b[0m \u001b[43m    \u001b[49m\u001b[43mmode\u001b[49m\u001b[43m,\u001b[49m\n\u001b[1;32m   1883\u001b[0m \u001b[43m    \u001b[49m\u001b[43mencoding\u001b[49m\u001b[38;5;241;43m=\u001b[39;49m\u001b[38;5;28;43mself\u001b[39;49m\u001b[38;5;241;43m.\u001b[39;49m\u001b[43moptions\u001b[49m\u001b[38;5;241;43m.\u001b[39;49m\u001b[43mget\u001b[49m\u001b[43m(\u001b[49m\u001b[38;5;124;43m\"\u001b[39;49m\u001b[38;5;124;43mencoding\u001b[39;49m\u001b[38;5;124;43m\"\u001b[39;49m\u001b[43m,\u001b[49m\u001b[43m \u001b[49m\u001b[38;5;28;43;01mNone\u001b[39;49;00m\u001b[43m)\u001b[49m\u001b[43m,\u001b[49m\n\u001b[1;32m   1884\u001b[0m \u001b[43m    \u001b[49m\u001b[43mcompression\u001b[49m\u001b[38;5;241;43m=\u001b[39;49m\u001b[38;5;28;43mself\u001b[39;49m\u001b[38;5;241;43m.\u001b[39;49m\u001b[43moptions\u001b[49m\u001b[38;5;241;43m.\u001b[39;49m\u001b[43mget\u001b[49m\u001b[43m(\u001b[49m\u001b[38;5;124;43m\"\u001b[39;49m\u001b[38;5;124;43mcompression\u001b[39;49m\u001b[38;5;124;43m\"\u001b[39;49m\u001b[43m,\u001b[49m\u001b[43m \u001b[49m\u001b[38;5;28;43;01mNone\u001b[39;49;00m\u001b[43m)\u001b[49m\u001b[43m,\u001b[49m\n\u001b[1;32m   1885\u001b[0m \u001b[43m    \u001b[49m\u001b[43mmemory_map\u001b[49m\u001b[38;5;241;43m=\u001b[39;49m\u001b[38;5;28;43mself\u001b[39;49m\u001b[38;5;241;43m.\u001b[39;49m\u001b[43moptions\u001b[49m\u001b[38;5;241;43m.\u001b[39;49m\u001b[43mget\u001b[49m\u001b[43m(\u001b[49m\u001b[38;5;124;43m\"\u001b[39;49m\u001b[38;5;124;43mmemory_map\u001b[39;49m\u001b[38;5;124;43m\"\u001b[39;49m\u001b[43m,\u001b[49m\u001b[43m \u001b[49m\u001b[38;5;28;43;01mFalse\u001b[39;49;00m\u001b[43m)\u001b[49m\u001b[43m,\u001b[49m\n\u001b[1;32m   1886\u001b[0m \u001b[43m    \u001b[49m\u001b[43mis_text\u001b[49m\u001b[38;5;241;43m=\u001b[39;49m\u001b[43mis_text\u001b[49m\u001b[43m,\u001b[49m\n\u001b[1;32m   1887\u001b[0m \u001b[43m    \u001b[49m\u001b[43merrors\u001b[49m\u001b[38;5;241;43m=\u001b[39;49m\u001b[38;5;28;43mself\u001b[39;49m\u001b[38;5;241;43m.\u001b[39;49m\u001b[43moptions\u001b[49m\u001b[38;5;241;43m.\u001b[39;49m\u001b[43mget\u001b[49m\u001b[43m(\u001b[49m\u001b[38;5;124;43m\"\u001b[39;49m\u001b[38;5;124;43mencoding_errors\u001b[39;49m\u001b[38;5;124;43m\"\u001b[39;49m\u001b[43m,\u001b[49m\u001b[43m \u001b[49m\u001b[38;5;124;43m\"\u001b[39;49m\u001b[38;5;124;43mstrict\u001b[39;49m\u001b[38;5;124;43m\"\u001b[39;49m\u001b[43m)\u001b[49m\u001b[43m,\u001b[49m\n\u001b[1;32m   1888\u001b[0m \u001b[43m    \u001b[49m\u001b[43mstorage_options\u001b[49m\u001b[38;5;241;43m=\u001b[39;49m\u001b[38;5;28;43mself\u001b[39;49m\u001b[38;5;241;43m.\u001b[39;49m\u001b[43moptions\u001b[49m\u001b[38;5;241;43m.\u001b[39;49m\u001b[43mget\u001b[49m\u001b[43m(\u001b[49m\u001b[38;5;124;43m\"\u001b[39;49m\u001b[38;5;124;43mstorage_options\u001b[39;49m\u001b[38;5;124;43m\"\u001b[39;49m\u001b[43m,\u001b[49m\u001b[43m \u001b[49m\u001b[38;5;28;43;01mNone\u001b[39;49;00m\u001b[43m)\u001b[49m\u001b[43m,\u001b[49m\n\u001b[1;32m   1889\u001b[0m \u001b[43m\u001b[49m\u001b[43m)\u001b[49m\n\u001b[1;32m   1890\u001b[0m \u001b[38;5;28;01massert\u001b[39;00m \u001b[38;5;28mself\u001b[39m\u001b[38;5;241m.\u001b[39mhandles \u001b[38;5;129;01mis\u001b[39;00m \u001b[38;5;129;01mnot\u001b[39;00m \u001b[38;5;28;01mNone\u001b[39;00m\n\u001b[1;32m   1891\u001b[0m f \u001b[38;5;241m=\u001b[39m \u001b[38;5;28mself\u001b[39m\u001b[38;5;241m.\u001b[39mhandles\u001b[38;5;241m.\u001b[39mhandle\n",
      "File \u001b[0;32m~/miniconda3/envs/sio209_dev/lib/python3.10/site-packages/pandas/io/common.py:873\u001b[0m, in \u001b[0;36mget_handle\u001b[0;34m(path_or_buf, mode, encoding, compression, memory_map, is_text, errors, storage_options)\u001b[0m\n\u001b[1;32m    868\u001b[0m \u001b[38;5;28;01melif\u001b[39;00m \u001b[38;5;28misinstance\u001b[39m(handle, \u001b[38;5;28mstr\u001b[39m):\n\u001b[1;32m    869\u001b[0m     \u001b[38;5;66;03m# Check whether the filename is to be opened in binary mode.\u001b[39;00m\n\u001b[1;32m    870\u001b[0m     \u001b[38;5;66;03m# Binary mode does not support 'encoding' and 'newline'.\u001b[39;00m\n\u001b[1;32m    871\u001b[0m     \u001b[38;5;28;01mif\u001b[39;00m ioargs\u001b[38;5;241m.\u001b[39mencoding \u001b[38;5;129;01mand\u001b[39;00m \u001b[38;5;124m\"\u001b[39m\u001b[38;5;124mb\u001b[39m\u001b[38;5;124m\"\u001b[39m \u001b[38;5;129;01mnot\u001b[39;00m \u001b[38;5;129;01min\u001b[39;00m ioargs\u001b[38;5;241m.\u001b[39mmode:\n\u001b[1;32m    872\u001b[0m         \u001b[38;5;66;03m# Encoding\u001b[39;00m\n\u001b[0;32m--> 873\u001b[0m         handle \u001b[38;5;241m=\u001b[39m \u001b[38;5;28;43mopen\u001b[39;49m\u001b[43m(\u001b[49m\n\u001b[1;32m    874\u001b[0m \u001b[43m            \u001b[49m\u001b[43mhandle\u001b[49m\u001b[43m,\u001b[49m\n\u001b[1;32m    875\u001b[0m \u001b[43m            \u001b[49m\u001b[43mioargs\u001b[49m\u001b[38;5;241;43m.\u001b[39;49m\u001b[43mmode\u001b[49m\u001b[43m,\u001b[49m\n\u001b[1;32m    876\u001b[0m \u001b[43m            \u001b[49m\u001b[43mencoding\u001b[49m\u001b[38;5;241;43m=\u001b[39;49m\u001b[43mioargs\u001b[49m\u001b[38;5;241;43m.\u001b[39;49m\u001b[43mencoding\u001b[49m\u001b[43m,\u001b[49m\n\u001b[1;32m    877\u001b[0m \u001b[43m            \u001b[49m\u001b[43merrors\u001b[49m\u001b[38;5;241;43m=\u001b[39;49m\u001b[43merrors\u001b[49m\u001b[43m,\u001b[49m\n\u001b[1;32m    878\u001b[0m \u001b[43m            \u001b[49m\u001b[43mnewline\u001b[49m\u001b[38;5;241;43m=\u001b[39;49m\u001b[38;5;124;43m\"\u001b[39;49m\u001b[38;5;124;43m\"\u001b[39;49m\u001b[43m,\u001b[49m\n\u001b[1;32m    879\u001b[0m \u001b[43m        \u001b[49m\u001b[43m)\u001b[49m\n\u001b[1;32m    880\u001b[0m     \u001b[38;5;28;01melse\u001b[39;00m:\n\u001b[1;32m    881\u001b[0m         \u001b[38;5;66;03m# Binary mode\u001b[39;00m\n\u001b[1;32m    882\u001b[0m         handle \u001b[38;5;241m=\u001b[39m \u001b[38;5;28mopen\u001b[39m(handle, ioargs\u001b[38;5;241m.\u001b[39mmode)\n",
      "\u001b[0;31mFileNotFoundError\u001b[0m: [Errno 2] No such file or directory: 'public/Meteorite_Landings.csv'"
     ]
    }
   ],
   "source": [
    "meteorites = pd.read_csv('public/Meteorite_Landings.csv', nrows=5)\n",
    "meteorites"
   ]
  },
  {
   "cell_type": "markdown",
   "id": "43123c4d-579e-4dc2-981e-ce2e2c361b7e",
   "metadata": {},
   "source": [
    "*Source: [NASA's Open Data Portal](https://data.nasa.gov/Space-Science/Meteorite-Landings/gh4g-9sfh)*"
   ]
  },
  {
   "cell_type": "markdown",
   "id": "f551654b-3a2d-463d-8f7d-b731729af6ee",
   "metadata": {
    "slideshow": {
     "slide_type": "subslide"
    },
    "tags": [
     "id_series"
    ]
   },
   "source": [
    "#### Series:"
   ]
  },
  {
   "cell_type": "code",
   "execution_count": 3,
   "id": "9f080ea9-4e02-49b5-aff0-e33fbca0f70e",
   "metadata": {
    "tags": []
   },
   "outputs": [
    {
     "data": {
      "text/plain": [
       "0      Aachen\n",
       "1      Aarhus\n",
       "2        Abee\n",
       "3    Acapulco\n",
       "4     Achiras\n",
       "Name: name, dtype: object"
      ]
     },
     "execution_count": 3,
     "metadata": {},
     "output_type": "execute_result"
    }
   ],
   "source": [
    "meteorites.name"
   ]
  },
  {
   "cell_type": "markdown",
   "id": "470e1162-6261-4d7d-8628-09138ad675e0",
   "metadata": {
    "slideshow": {
     "slide_type": "subslide"
    },
    "tags": [
     "id_columns-and-index"
    ]
   },
   "source": [
    "#### Columns:"
   ]
  },
  {
   "cell_type": "code",
   "execution_count": 4,
   "id": "8d2f752f-ac30-490b-8885-f4d9e15040aa",
   "metadata": {
    "tags": []
   },
   "outputs": [
    {
     "data": {
      "text/plain": [
       "Index(['name', 'id', 'nametype', 'recclass', 'mass (g)', 'fall', 'year',\n",
       "       'reclat', 'reclong', 'GeoLocation'],\n",
       "      dtype='object')"
      ]
     },
     "execution_count": 4,
     "metadata": {},
     "output_type": "execute_result"
    }
   ],
   "source": [
    "meteorites.columns"
   ]
  },
  {
   "cell_type": "markdown",
   "id": "e8db9b93-c19f-4776-bf8a-46d680c5f9ad",
   "metadata": {
    "slideshow": {
     "slide_type": "fragment"
    },
    "tags": []
   },
   "source": [
    "#### Index:"
   ]
  },
  {
   "cell_type": "code",
   "execution_count": 5,
   "id": "f2527b06-8b03-4543-bbd6-4ecdf44078e2",
   "metadata": {
    "tags": []
   },
   "outputs": [
    {
     "data": {
      "text/plain": [
       "RangeIndex(start=0, stop=5, step=1)"
      ]
     },
     "execution_count": 5,
     "metadata": {},
     "output_type": "execute_result"
    }
   ],
   "source": [
    "meteorites.index"
   ]
  },
  {
   "cell_type": "markdown",
   "id": "dd3f6f0c-b4b2-4d28-9ecb-2c2788253979",
   "metadata": {
    "slideshow": {
     "slide_type": "slide"
    },
    "tags": [
     "id_creating-dataframes"
    ]
   },
   "source": [
    "## Creating DataFrames\n",
    "\n",
    "We can create DataFrames from a variety of sources such as other Python objects, flat files, webscraping, and API requests. Here, we will see just a couple of examples, but be sure to check out [this page](https://pandas.pydata.org/pandas-docs/stable/user_guide/io.html) in the documentation for a complete list."
   ]
  },
  {
   "cell_type": "markdown",
   "id": "56e2efea-5bb3-4f02-a495-bf2f84557c7b",
   "metadata": {
    "slideshow": {
     "slide_type": "subslide"
    },
    "tags": [
     "id_read-csv"
    ]
   },
   "source": [
    "### Using a flat file"
   ]
  },
  {
   "cell_type": "code",
   "execution_count": 6,
   "id": "4eed5d04-aec5-4862-85d0-60b3067711de",
   "metadata": {},
   "outputs": [],
   "source": [
    "import pandas as pd\n",
    "\n",
    "meteorites = pd.read_csv('public/Meteorite_Landings.csv')"
   ]
  },
  {
   "cell_type": "markdown",
   "id": "d2de1e5f",
   "metadata": {
    "slideshow": {
     "slide_type": "subslide"
    }
   },
   "source": [
    "### From scratch"
   ]
  },
  {
   "cell_type": "markdown",
   "id": "94d2c332",
   "metadata": {},
   "source": [
    "Another common approach is using a dictionary as the argument to `pd.DataFrame()`"
   ]
  },
  {
   "cell_type": "code",
   "execution_count": 7,
   "id": "fd16d05c",
   "metadata": {
    "slideshow": {
     "slide_type": "fragment"
    }
   },
   "outputs": [
    {
     "data": {
      "text/html": [
       "<div>\n",
       "<style scoped>\n",
       "    .dataframe tbody tr th:only-of-type {\n",
       "        vertical-align: middle;\n",
       "    }\n",
       "\n",
       "    .dataframe tbody tr th {\n",
       "        vertical-align: top;\n",
       "    }\n",
       "\n",
       "    .dataframe thead th {\n",
       "        text-align: right;\n",
       "    }\n",
       "</style>\n",
       "<table border=\"1\" class=\"dataframe\">\n",
       "  <thead>\n",
       "    <tr style=\"text-align: right;\">\n",
       "      <th></th>\n",
       "      <th>apples</th>\n",
       "      <th>oranges</th>\n",
       "    </tr>\n",
       "  </thead>\n",
       "  <tbody>\n",
       "    <tr>\n",
       "      <th>0</th>\n",
       "      <td>3</td>\n",
       "      <td>0</td>\n",
       "    </tr>\n",
       "    <tr>\n",
       "      <th>1</th>\n",
       "      <td>2</td>\n",
       "      <td>3</td>\n",
       "    </tr>\n",
       "    <tr>\n",
       "      <th>2</th>\n",
       "      <td>0</td>\n",
       "      <td>7</td>\n",
       "    </tr>\n",
       "    <tr>\n",
       "      <th>3</th>\n",
       "      <td>1</td>\n",
       "      <td>2</td>\n",
       "    </tr>\n",
       "  </tbody>\n",
       "</table>\n",
       "</div>"
      ],
      "text/plain": [
       "   apples  oranges\n",
       "0       3        0\n",
       "1       2        3\n",
       "2       0        7\n",
       "3       1        2"
      ]
     },
     "execution_count": 7,
     "metadata": {},
     "output_type": "execute_result"
    }
   ],
   "source": [
    "data = {\n",
    "    'apples': [3, 2, 0, 1], \n",
    "    'oranges': [0, 3, 7, 2]\n",
    "}\n",
    "\n",
    "pd.DataFrame(data)"
   ]
  },
  {
   "cell_type": "markdown",
   "id": "31d3f618",
   "metadata": {
    "slideshow": {
     "slide_type": "subslide"
    }
   },
   "source": [
    "We can also specify an index:"
   ]
  },
  {
   "cell_type": "code",
   "execution_count": 8,
   "id": "b1b659a9",
   "metadata": {},
   "outputs": [
    {
     "data": {
      "text/html": [
       "<div>\n",
       "<style scoped>\n",
       "    .dataframe tbody tr th:only-of-type {\n",
       "        vertical-align: middle;\n",
       "    }\n",
       "\n",
       "    .dataframe tbody tr th {\n",
       "        vertical-align: top;\n",
       "    }\n",
       "\n",
       "    .dataframe thead th {\n",
       "        text-align: right;\n",
       "    }\n",
       "</style>\n",
       "<table border=\"1\" class=\"dataframe\">\n",
       "  <thead>\n",
       "    <tr style=\"text-align: right;\">\n",
       "      <th></th>\n",
       "      <th>apples</th>\n",
       "      <th>oranges</th>\n",
       "    </tr>\n",
       "  </thead>\n",
       "  <tbody>\n",
       "    <tr>\n",
       "      <th>Ke</th>\n",
       "      <td>3</td>\n",
       "      <td>0</td>\n",
       "    </tr>\n",
       "    <tr>\n",
       "      <th>Julian</th>\n",
       "      <td>2</td>\n",
       "      <td>3</td>\n",
       "    </tr>\n",
       "    <tr>\n",
       "      <th>Duong</th>\n",
       "      <td>0</td>\n",
       "      <td>7</td>\n",
       "    </tr>\n",
       "    <tr>\n",
       "      <th>Andreas</th>\n",
       "      <td>1</td>\n",
       "      <td>2</td>\n",
       "    </tr>\n",
       "  </tbody>\n",
       "</table>\n",
       "</div>"
      ],
      "text/plain": [
       "         apples  oranges\n",
       "Ke            3        0\n",
       "Julian        2        3\n",
       "Duong         0        7\n",
       "Andreas       1        2"
      ]
     },
     "execution_count": 8,
     "metadata": {},
     "output_type": "execute_result"
    }
   ],
   "source": [
    "data = {\n",
    "    'apples': [3, 2, 0, 1], \n",
    "    'oranges': [0, 3, 7, 2]\n",
    "}\n",
    "\n",
    "pd.DataFrame(data, index = ['Ke', 'Julian', 'Duong', 'Andreas'])"
   ]
  },
  {
   "cell_type": "markdown",
   "id": "a2fc22ea",
   "metadata": {
    "slideshow": {
     "slide_type": "subslide"
    }
   },
   "source": [
    "If we have an existing DataFrame we can also specify the index using `set_index()`"
   ]
  },
  {
   "cell_type": "code",
   "execution_count": 9,
   "id": "2d588364",
   "metadata": {},
   "outputs": [
    {
     "data": {
      "text/html": [
       "<div>\n",
       "<style scoped>\n",
       "    .dataframe tbody tr th:only-of-type {\n",
       "        vertical-align: middle;\n",
       "    }\n",
       "\n",
       "    .dataframe tbody tr th {\n",
       "        vertical-align: top;\n",
       "    }\n",
       "\n",
       "    .dataframe thead th {\n",
       "        text-align: right;\n",
       "    }\n",
       "</style>\n",
       "<table border=\"1\" class=\"dataframe\">\n",
       "  <thead>\n",
       "    <tr style=\"text-align: right;\">\n",
       "      <th></th>\n",
       "      <th>apples</th>\n",
       "      <th>oranges</th>\n",
       "      <th>names</th>\n",
       "    </tr>\n",
       "  </thead>\n",
       "  <tbody>\n",
       "    <tr>\n",
       "      <th>0</th>\n",
       "      <td>3</td>\n",
       "      <td>0</td>\n",
       "      <td>Ke</td>\n",
       "    </tr>\n",
       "    <tr>\n",
       "      <th>1</th>\n",
       "      <td>2</td>\n",
       "      <td>3</td>\n",
       "      <td>Julian</td>\n",
       "    </tr>\n",
       "    <tr>\n",
       "      <th>2</th>\n",
       "      <td>0</td>\n",
       "      <td>7</td>\n",
       "      <td>Duong</td>\n",
       "    </tr>\n",
       "    <tr>\n",
       "      <th>3</th>\n",
       "      <td>1</td>\n",
       "      <td>2</td>\n",
       "      <td>Andreas</td>\n",
       "    </tr>\n",
       "  </tbody>\n",
       "</table>\n",
       "</div>"
      ],
      "text/plain": [
       "   apples  oranges    names\n",
       "0       3        0       Ke\n",
       "1       2        3   Julian\n",
       "2       0        7    Duong\n",
       "3       1        2  Andreas"
      ]
     },
     "execution_count": 9,
     "metadata": {},
     "output_type": "execute_result"
    }
   ],
   "source": [
    "data = {\n",
    "    'apples': [3, 2, 0, 1], \n",
    "    'oranges': [0, 3, 7, 2],\n",
    "    'names': ['Ke', 'Julian', 'Duong', 'Andreas']\n",
    "}\n",
    "\n",
    "df = pd.DataFrame(data)\n",
    "df"
   ]
  },
  {
   "cell_type": "code",
   "execution_count": 10,
   "id": "0450ae34",
   "metadata": {},
   "outputs": [
    {
     "data": {
      "text/html": [
       "<div>\n",
       "<style scoped>\n",
       "    .dataframe tbody tr th:only-of-type {\n",
       "        vertical-align: middle;\n",
       "    }\n",
       "\n",
       "    .dataframe tbody tr th {\n",
       "        vertical-align: top;\n",
       "    }\n",
       "\n",
       "    .dataframe thead th {\n",
       "        text-align: right;\n",
       "    }\n",
       "</style>\n",
       "<table border=\"1\" class=\"dataframe\">\n",
       "  <thead>\n",
       "    <tr style=\"text-align: right;\">\n",
       "      <th></th>\n",
       "      <th>apples</th>\n",
       "      <th>oranges</th>\n",
       "    </tr>\n",
       "    <tr>\n",
       "      <th>names</th>\n",
       "      <th></th>\n",
       "      <th></th>\n",
       "    </tr>\n",
       "  </thead>\n",
       "  <tbody>\n",
       "    <tr>\n",
       "      <th>Ke</th>\n",
       "      <td>3</td>\n",
       "      <td>0</td>\n",
       "    </tr>\n",
       "    <tr>\n",
       "      <th>Julian</th>\n",
       "      <td>2</td>\n",
       "      <td>3</td>\n",
       "    </tr>\n",
       "    <tr>\n",
       "      <th>Duong</th>\n",
       "      <td>0</td>\n",
       "      <td>7</td>\n",
       "    </tr>\n",
       "    <tr>\n",
       "      <th>Andreas</th>\n",
       "      <td>1</td>\n",
       "      <td>2</td>\n",
       "    </tr>\n",
       "  </tbody>\n",
       "</table>\n",
       "</div>"
      ],
      "text/plain": [
       "         apples  oranges\n",
       "names                   \n",
       "Ke            3        0\n",
       "Julian        2        3\n",
       "Duong         0        7\n",
       "Andreas       1        2"
      ]
     },
     "execution_count": 10,
     "metadata": {},
     "output_type": "execute_result"
    }
   ],
   "source": [
    "df.set_index('names')"
   ]
  },
  {
   "cell_type": "markdown",
   "id": "4c12ce67-b1de-40a9-ad22-b39125f6b9cc",
   "metadata": {
    "slideshow": {
     "slide_type": "subslide"
    },
    "tags": [
     "id_api-request"
    ]
   },
   "source": [
    "### Using data from an API\n",
    "\n",
    "Collect the data from [NASA's Open Data Portal](https://data.nasa.gov/Space-Science/Meteorite-Landings/gh4g-9sfh) using the Socrata Open Data API (SODA) with the `requests` library:"
   ]
  },
  {
   "cell_type": "code",
   "execution_count": 11,
   "id": "f1b681d4-e59f-4037-abcd-e48614691c9f",
   "metadata": {
    "tags": []
   },
   "outputs": [],
   "source": [
    "import requests\n",
    "\n",
    "response = requests.get(\n",
    "    'https://data.nasa.gov/resource/gh4g-9sfh.json',\n",
    "    params={'$limit': 50_000}\n",
    ")\n",
    "\n",
    "if response.ok:\n",
    "    payload = response.json()\n",
    "else:\n",
    "    print(f'Request was not successful and returned code: {response.status_code}.')\n",
    "    payload = None"
   ]
  },
  {
   "cell_type": "markdown",
   "id": "cceed83a-d7f8-4b38-b02d-20aa0b8e2afb",
   "metadata": {
    "slideshow": {
     "slide_type": "subslide"
    },
    "tags": [
     "id_create-from-payload"
    ]
   },
   "source": [
    "Create the DataFrame with the resulting payload:"
   ]
  },
  {
   "cell_type": "code",
   "execution_count": 12,
   "id": "b528ae4f-e7d1-4aa9-acb6-16fea333d6cf",
   "metadata": {},
   "outputs": [
    {
     "data": {
      "text/html": [
       "<div>\n",
       "<style scoped>\n",
       "    .dataframe tbody tr th:only-of-type {\n",
       "        vertical-align: middle;\n",
       "    }\n",
       "\n",
       "    .dataframe tbody tr th {\n",
       "        vertical-align: top;\n",
       "    }\n",
       "\n",
       "    .dataframe thead th {\n",
       "        text-align: right;\n",
       "    }\n",
       "</style>\n",
       "<table border=\"1\" class=\"dataframe\">\n",
       "  <thead>\n",
       "    <tr style=\"text-align: right;\">\n",
       "      <th></th>\n",
       "      <th>name</th>\n",
       "      <th>id</th>\n",
       "      <th>nametype</th>\n",
       "      <th>recclass</th>\n",
       "      <th>mass</th>\n",
       "      <th>fall</th>\n",
       "      <th>year</th>\n",
       "      <th>reclat</th>\n",
       "      <th>reclong</th>\n",
       "      <th>geolocation</th>\n",
       "      <th>:@computed_region_cbhk_fwbd</th>\n",
       "      <th>:@computed_region_nnqa_25f4</th>\n",
       "    </tr>\n",
       "  </thead>\n",
       "  <tbody>\n",
       "    <tr>\n",
       "      <th>0</th>\n",
       "      <td>Aachen</td>\n",
       "      <td>1</td>\n",
       "      <td>Valid</td>\n",
       "      <td>L5</td>\n",
       "      <td>21</td>\n",
       "      <td>Fell</td>\n",
       "      <td>1880-01-01T00:00:00.000</td>\n",
       "      <td>50.775000</td>\n",
       "      <td>6.083330</td>\n",
       "      <td>{'latitude': '50.775', 'longitude': '6.08333'}</td>\n",
       "      <td>NaN</td>\n",
       "      <td>NaN</td>\n",
       "    </tr>\n",
       "    <tr>\n",
       "      <th>1</th>\n",
       "      <td>Aarhus</td>\n",
       "      <td>2</td>\n",
       "      <td>Valid</td>\n",
       "      <td>H6</td>\n",
       "      <td>720</td>\n",
       "      <td>Fell</td>\n",
       "      <td>1951-01-01T00:00:00.000</td>\n",
       "      <td>56.183330</td>\n",
       "      <td>10.233330</td>\n",
       "      <td>{'latitude': '56.18333', 'longitude': '10.23333'}</td>\n",
       "      <td>NaN</td>\n",
       "      <td>NaN</td>\n",
       "    </tr>\n",
       "    <tr>\n",
       "      <th>2</th>\n",
       "      <td>Abee</td>\n",
       "      <td>6</td>\n",
       "      <td>Valid</td>\n",
       "      <td>EH4</td>\n",
       "      <td>107000</td>\n",
       "      <td>Fell</td>\n",
       "      <td>1952-01-01T00:00:00.000</td>\n",
       "      <td>54.216670</td>\n",
       "      <td>-113.000000</td>\n",
       "      <td>{'latitude': '54.21667', 'longitude': '-113.0'}</td>\n",
       "      <td>NaN</td>\n",
       "      <td>NaN</td>\n",
       "    </tr>\n",
       "  </tbody>\n",
       "</table>\n",
       "</div>"
      ],
      "text/plain": [
       "     name id nametype recclass    mass  fall                     year   \n",
       "0  Aachen  1    Valid       L5      21  Fell  1880-01-01T00:00:00.000  \\\n",
       "1  Aarhus  2    Valid       H6     720  Fell  1951-01-01T00:00:00.000   \n",
       "2    Abee  6    Valid      EH4  107000  Fell  1952-01-01T00:00:00.000   \n",
       "\n",
       "      reclat      reclong                                        geolocation   \n",
       "0  50.775000     6.083330     {'latitude': '50.775', 'longitude': '6.08333'}  \\\n",
       "1  56.183330    10.233330  {'latitude': '56.18333', 'longitude': '10.23333'}   \n",
       "2  54.216670  -113.000000    {'latitude': '54.21667', 'longitude': '-113.0'}   \n",
       "\n",
       "  :@computed_region_cbhk_fwbd :@computed_region_nnqa_25f4  \n",
       "0                         NaN                         NaN  \n",
       "1                         NaN                         NaN  \n",
       "2                         NaN                         NaN  "
      ]
     },
     "execution_count": 12,
     "metadata": {},
     "output_type": "execute_result"
    }
   ],
   "source": [
    "import pandas as pd\n",
    "\n",
    "df = pd.DataFrame(payload)\n",
    "df.head(3)"
   ]
  },
  {
   "cell_type": "markdown",
   "id": "20c5ca3a-bf32-48cc-8eb5-15fd678092e1",
   "metadata": {
    "slideshow": {
     "slide_type": "fragment"
    },
    "tags": []
   },
   "source": [
    "*Tip: `df.to_csv('data.csv')` writes this data to a new file called `data.csv`.*"
   ]
  },
  {
   "cell_type": "markdown",
   "id": "f4364557-213a-4605-a8e9-d56d575e15db",
   "metadata": {
    "slideshow": {
     "slide_type": "slide"
    },
    "tags": [
     "id_inspecting-the-data"
    ]
   },
   "source": [
    "## Inspecting the data\n",
    "Now that we have some data, we need to perform an initial inspection of it. This gives us information on what the data looks like, how many rows/columns there are, and how much data we have. "
   ]
  },
  {
   "cell_type": "markdown",
   "id": "b9cfcc92-e4b0-4dc8-91ed-4d097132f7be",
   "metadata": {
    "slideshow": {
     "slide_type": "fragment"
    },
    "tags": []
   },
   "source": [
    "Let's inspect the `meteorites` data."
   ]
  },
  {
   "cell_type": "markdown",
   "id": "c56fc4d1-805d-46ff-8ebb-ba00f2df713b",
   "metadata": {
    "slideshow": {
     "slide_type": "subslide"
    },
    "tags": [
     "id_rows-and-columns"
    ]
   },
   "source": [
    "#### How many rows and columns are there?"
   ]
  },
  {
   "cell_type": "code",
   "execution_count": 13,
   "id": "24268ca3-aa52-491b-bc02-ed0a4d85be6f",
   "metadata": {},
   "outputs": [
    {
     "data": {
      "text/plain": [
       "(45716, 10)"
      ]
     },
     "execution_count": 13,
     "metadata": {},
     "output_type": "execute_result"
    }
   ],
   "source": [
    "meteorites.shape"
   ]
  },
  {
   "cell_type": "markdown",
   "id": "9113617e-b071-467c-afda-9813c4c60801",
   "metadata": {
    "slideshow": {
     "slide_type": "fragment"
    },
    "tags": []
   },
   "source": [
    "#### What are the column names?"
   ]
  },
  {
   "cell_type": "code",
   "execution_count": 14,
   "id": "eda374e6-8860-45cd-9625-1893b42c3518",
   "metadata": {},
   "outputs": [
    {
     "data": {
      "text/plain": [
       "Index(['name', 'id', 'nametype', 'recclass', 'mass (g)', 'fall', 'year',\n",
       "       'reclat', 'reclong', 'GeoLocation'],\n",
       "      dtype='object')"
      ]
     },
     "execution_count": 14,
     "metadata": {},
     "output_type": "execute_result"
    }
   ],
   "source": [
    "meteorites.columns"
   ]
  },
  {
   "cell_type": "markdown",
   "id": "e77d9d1a-6c64-4554-be7f-f0e0ecea556e",
   "metadata": {
    "slideshow": {
     "slide_type": "subslide"
    },
    "tags": [
     "id_dtypes"
    ]
   },
   "source": [
    "#### What type of data does each column currently hold?"
   ]
  },
  {
   "cell_type": "code",
   "execution_count": 15,
   "id": "ade5a00e-5056-4fc2-bd13-55eaa5cf0328",
   "metadata": {},
   "outputs": [
    {
     "data": {
      "text/plain": [
       "name            object\n",
       "id               int64\n",
       "nametype        object\n",
       "recclass        object\n",
       "mass (g)       float64\n",
       "fall            object\n",
       "year            object\n",
       "reclat         float64\n",
       "reclong        float64\n",
       "GeoLocation     object\n",
       "dtype: object"
      ]
     },
     "execution_count": 15,
     "metadata": {},
     "output_type": "execute_result"
    }
   ],
   "source": [
    "meteorites.dtypes"
   ]
  },
  {
   "cell_type": "markdown",
   "id": "2d878656-ee43-41ee-9d2a-8663f6b548de",
   "metadata": {
    "slideshow": {
     "slide_type": "subslide"
    },
    "tags": [
     "id_head"
    ]
   },
   "source": [
    "#### What does the data look like?"
   ]
  },
  {
   "cell_type": "code",
   "execution_count": 16,
   "id": "5a04730d-0470-4038-82c1-26441299e3c2",
   "metadata": {},
   "outputs": [
    {
     "data": {
      "text/html": [
       "<div>\n",
       "<style scoped>\n",
       "    .dataframe tbody tr th:only-of-type {\n",
       "        vertical-align: middle;\n",
       "    }\n",
       "\n",
       "    .dataframe tbody tr th {\n",
       "        vertical-align: top;\n",
       "    }\n",
       "\n",
       "    .dataframe thead th {\n",
       "        text-align: right;\n",
       "    }\n",
       "</style>\n",
       "<table border=\"1\" class=\"dataframe\">\n",
       "  <thead>\n",
       "    <tr style=\"text-align: right;\">\n",
       "      <th></th>\n",
       "      <th>name</th>\n",
       "      <th>id</th>\n",
       "      <th>nametype</th>\n",
       "      <th>recclass</th>\n",
       "      <th>mass (g)</th>\n",
       "      <th>fall</th>\n",
       "      <th>year</th>\n",
       "      <th>reclat</th>\n",
       "      <th>reclong</th>\n",
       "      <th>GeoLocation</th>\n",
       "    </tr>\n",
       "  </thead>\n",
       "  <tbody>\n",
       "    <tr>\n",
       "      <th>0</th>\n",
       "      <td>Aachen</td>\n",
       "      <td>1</td>\n",
       "      <td>Valid</td>\n",
       "      <td>L5</td>\n",
       "      <td>21.0</td>\n",
       "      <td>Fell</td>\n",
       "      <td>01/01/1880 12:00:00 AM</td>\n",
       "      <td>50.77500</td>\n",
       "      <td>6.08333</td>\n",
       "      <td>(50.775, 6.08333)</td>\n",
       "    </tr>\n",
       "    <tr>\n",
       "      <th>1</th>\n",
       "      <td>Aarhus</td>\n",
       "      <td>2</td>\n",
       "      <td>Valid</td>\n",
       "      <td>H6</td>\n",
       "      <td>720.0</td>\n",
       "      <td>Fell</td>\n",
       "      <td>01/01/1951 12:00:00 AM</td>\n",
       "      <td>56.18333</td>\n",
       "      <td>10.23333</td>\n",
       "      <td>(56.18333, 10.23333)</td>\n",
       "    </tr>\n",
       "    <tr>\n",
       "      <th>2</th>\n",
       "      <td>Abee</td>\n",
       "      <td>6</td>\n",
       "      <td>Valid</td>\n",
       "      <td>EH4</td>\n",
       "      <td>107000.0</td>\n",
       "      <td>Fell</td>\n",
       "      <td>01/01/1952 12:00:00 AM</td>\n",
       "      <td>54.21667</td>\n",
       "      <td>-113.00000</td>\n",
       "      <td>(54.21667, -113.0)</td>\n",
       "    </tr>\n",
       "    <tr>\n",
       "      <th>3</th>\n",
       "      <td>Acapulco</td>\n",
       "      <td>10</td>\n",
       "      <td>Valid</td>\n",
       "      <td>Acapulcoite</td>\n",
       "      <td>1914.0</td>\n",
       "      <td>Fell</td>\n",
       "      <td>01/01/1976 12:00:00 AM</td>\n",
       "      <td>16.88333</td>\n",
       "      <td>-99.90000</td>\n",
       "      <td>(16.88333, -99.9)</td>\n",
       "    </tr>\n",
       "    <tr>\n",
       "      <th>4</th>\n",
       "      <td>Achiras</td>\n",
       "      <td>370</td>\n",
       "      <td>Valid</td>\n",
       "      <td>L6</td>\n",
       "      <td>780.0</td>\n",
       "      <td>Fell</td>\n",
       "      <td>01/01/1902 12:00:00 AM</td>\n",
       "      <td>-33.16667</td>\n",
       "      <td>-64.95000</td>\n",
       "      <td>(-33.16667, -64.95)</td>\n",
       "    </tr>\n",
       "  </tbody>\n",
       "</table>\n",
       "</div>"
      ],
      "text/plain": [
       "       name   id nametype     recclass  mass (g)  fall   \n",
       "0    Aachen    1    Valid           L5      21.0  Fell  \\\n",
       "1    Aarhus    2    Valid           H6     720.0  Fell   \n",
       "2      Abee    6    Valid          EH4  107000.0  Fell   \n",
       "3  Acapulco   10    Valid  Acapulcoite    1914.0  Fell   \n",
       "4   Achiras  370    Valid           L6     780.0  Fell   \n",
       "\n",
       "                     year    reclat    reclong           GeoLocation  \n",
       "0  01/01/1880 12:00:00 AM  50.77500    6.08333     (50.775, 6.08333)  \n",
       "1  01/01/1951 12:00:00 AM  56.18333   10.23333  (56.18333, 10.23333)  \n",
       "2  01/01/1952 12:00:00 AM  54.21667 -113.00000    (54.21667, -113.0)  \n",
       "3  01/01/1976 12:00:00 AM  16.88333  -99.90000     (16.88333, -99.9)  \n",
       "4  01/01/1902 12:00:00 AM -33.16667  -64.95000   (-33.16667, -64.95)  "
      ]
     },
     "execution_count": 16,
     "metadata": {},
     "output_type": "execute_result"
    }
   ],
   "source": [
    "meteorites.head()"
   ]
  },
  {
   "cell_type": "markdown",
   "id": "08c22017-6e52-4ab4-bc90-8f955ef2be0a",
   "metadata": {
    "slideshow": {
     "slide_type": "subslide"
    },
    "tags": [
     "id_tail"
    ]
   },
   "source": [
    "Sometimes there may be extraneous data at the end of the file, so checking the bottom few rows is also important:"
   ]
  },
  {
   "cell_type": "code",
   "execution_count": 17,
   "id": "94e84ed2-4022-4a65-9e4e-865b8bd4b04b",
   "metadata": {
    "tags": []
   },
   "outputs": [
    {
     "data": {
      "text/html": [
       "<div>\n",
       "<style scoped>\n",
       "    .dataframe tbody tr th:only-of-type {\n",
       "        vertical-align: middle;\n",
       "    }\n",
       "\n",
       "    .dataframe tbody tr th {\n",
       "        vertical-align: top;\n",
       "    }\n",
       "\n",
       "    .dataframe thead th {\n",
       "        text-align: right;\n",
       "    }\n",
       "</style>\n",
       "<table border=\"1\" class=\"dataframe\">\n",
       "  <thead>\n",
       "    <tr style=\"text-align: right;\">\n",
       "      <th></th>\n",
       "      <th>name</th>\n",
       "      <th>id</th>\n",
       "      <th>nametype</th>\n",
       "      <th>recclass</th>\n",
       "      <th>mass (g)</th>\n",
       "      <th>fall</th>\n",
       "      <th>year</th>\n",
       "      <th>reclat</th>\n",
       "      <th>reclong</th>\n",
       "      <th>GeoLocation</th>\n",
       "    </tr>\n",
       "  </thead>\n",
       "  <tbody>\n",
       "    <tr>\n",
       "      <th>45711</th>\n",
       "      <td>Zillah 002</td>\n",
       "      <td>31356</td>\n",
       "      <td>Valid</td>\n",
       "      <td>Eucrite</td>\n",
       "      <td>172.0</td>\n",
       "      <td>Found</td>\n",
       "      <td>01/01/1990 12:00:00 AM</td>\n",
       "      <td>29.03700</td>\n",
       "      <td>17.01850</td>\n",
       "      <td>(29.037, 17.0185)</td>\n",
       "    </tr>\n",
       "    <tr>\n",
       "      <th>45712</th>\n",
       "      <td>Zinder</td>\n",
       "      <td>30409</td>\n",
       "      <td>Valid</td>\n",
       "      <td>Pallasite, ungrouped</td>\n",
       "      <td>46.0</td>\n",
       "      <td>Found</td>\n",
       "      <td>01/01/1999 12:00:00 AM</td>\n",
       "      <td>13.78333</td>\n",
       "      <td>8.96667</td>\n",
       "      <td>(13.78333, 8.96667)</td>\n",
       "    </tr>\n",
       "    <tr>\n",
       "      <th>45713</th>\n",
       "      <td>Zlin</td>\n",
       "      <td>30410</td>\n",
       "      <td>Valid</td>\n",
       "      <td>H4</td>\n",
       "      <td>3.3</td>\n",
       "      <td>Found</td>\n",
       "      <td>01/01/1939 12:00:00 AM</td>\n",
       "      <td>49.25000</td>\n",
       "      <td>17.66667</td>\n",
       "      <td>(49.25, 17.66667)</td>\n",
       "    </tr>\n",
       "    <tr>\n",
       "      <th>45714</th>\n",
       "      <td>Zubkovsky</td>\n",
       "      <td>31357</td>\n",
       "      <td>Valid</td>\n",
       "      <td>L6</td>\n",
       "      <td>2167.0</td>\n",
       "      <td>Found</td>\n",
       "      <td>01/01/2003 12:00:00 AM</td>\n",
       "      <td>49.78917</td>\n",
       "      <td>41.50460</td>\n",
       "      <td>(49.78917, 41.5046)</td>\n",
       "    </tr>\n",
       "    <tr>\n",
       "      <th>45715</th>\n",
       "      <td>Zulu Queen</td>\n",
       "      <td>30414</td>\n",
       "      <td>Valid</td>\n",
       "      <td>L3.7</td>\n",
       "      <td>200.0</td>\n",
       "      <td>Found</td>\n",
       "      <td>01/01/1976 12:00:00 AM</td>\n",
       "      <td>33.98333</td>\n",
       "      <td>-115.68333</td>\n",
       "      <td>(33.98333, -115.68333)</td>\n",
       "    </tr>\n",
       "  </tbody>\n",
       "</table>\n",
       "</div>"
      ],
      "text/plain": [
       "             name     id nametype              recclass  mass (g)   fall   \n",
       "45711  Zillah 002  31356    Valid               Eucrite     172.0  Found  \\\n",
       "45712      Zinder  30409    Valid  Pallasite, ungrouped      46.0  Found   \n",
       "45713        Zlin  30410    Valid                    H4       3.3  Found   \n",
       "45714   Zubkovsky  31357    Valid                    L6    2167.0  Found   \n",
       "45715  Zulu Queen  30414    Valid                  L3.7     200.0  Found   \n",
       "\n",
       "                         year    reclat    reclong             GeoLocation  \n",
       "45711  01/01/1990 12:00:00 AM  29.03700   17.01850       (29.037, 17.0185)  \n",
       "45712  01/01/1999 12:00:00 AM  13.78333    8.96667     (13.78333, 8.96667)  \n",
       "45713  01/01/1939 12:00:00 AM  49.25000   17.66667       (49.25, 17.66667)  \n",
       "45714  01/01/2003 12:00:00 AM  49.78917   41.50460     (49.78917, 41.5046)  \n",
       "45715  01/01/1976 12:00:00 AM  33.98333 -115.68333  (33.98333, -115.68333)  "
      ]
     },
     "execution_count": 17,
     "metadata": {},
     "output_type": "execute_result"
    }
   ],
   "source": [
    "meteorites.tail()"
   ]
  },
  {
   "cell_type": "markdown",
   "id": "1923d7f7-8974-475f-a7cf-eb2067d3d35d",
   "metadata": {
    "slideshow": {
     "slide_type": "subslide"
    },
    "tags": [
     "id_info-method"
    ]
   },
   "source": [
    "#### Get some information about the DataFrame"
   ]
  },
  {
   "cell_type": "code",
   "execution_count": 18,
   "id": "befbd207-284a-4c4f-8617-ff155989ad5f",
   "metadata": {},
   "outputs": [
    {
     "name": "stdout",
     "output_type": "stream",
     "text": [
      "<class 'pandas.core.frame.DataFrame'>\n",
      "RangeIndex: 45716 entries, 0 to 45715\n",
      "Data columns (total 10 columns):\n",
      " #   Column       Non-Null Count  Dtype  \n",
      "---  ------       --------------  -----  \n",
      " 0   name         45716 non-null  object \n",
      " 1   id           45716 non-null  int64  \n",
      " 2   nametype     45716 non-null  object \n",
      " 3   recclass     45716 non-null  object \n",
      " 4   mass (g)     45585 non-null  float64\n",
      " 5   fall         45716 non-null  object \n",
      " 6   year         45425 non-null  object \n",
      " 7   reclat       38401 non-null  float64\n",
      " 8   reclong      38401 non-null  float64\n",
      " 9   GeoLocation  38401 non-null  object \n",
      "dtypes: float64(3), int64(1), object(6)\n",
      "memory usage: 3.5+ MB\n"
     ]
    }
   ],
   "source": [
    "meteorites.info()"
   ]
  },
  {
   "cell_type": "markdown",
   "id": "a348133a-b5a2-4e5b-b680-305c16dca0f3",
   "metadata": {
    "slideshow": {
     "slide_type": "slide"
    },
    "tags": [
     "id_extracting-subsets"
    ]
   },
   "source": [
    "## Extracting subsets\n",
    "\n",
    "A crucial part of working with DataFrames is extracting subsets of the data: finding rows that meet a certain set of criteria, isolating columns/rows of interest, etc. After narrowing down our data, we are closer to discovering insights. This section will be the backbone of many analysis tasks."
   ]
  },
  {
   "cell_type": "markdown",
   "id": "51afc2d0-aec1-4e92-a329-db7562189a54",
   "metadata": {
    "slideshow": {
     "slide_type": "subslide"
    },
    "tags": [
     "id_selecting-columns"
    ]
   },
   "source": [
    "#### Selecting columns\n",
    "\n",
    "We can select columns as attributes if their names would be valid Python variables:"
   ]
  },
  {
   "cell_type": "code",
   "execution_count": 19,
   "id": "b033c5d3-d7e1-4fa8-9e29-929ba1fe5403",
   "metadata": {},
   "outputs": [
    {
     "data": {
      "text/plain": [
       "0            Aachen\n",
       "1            Aarhus\n",
       "2              Abee\n",
       "3          Acapulco\n",
       "4           Achiras\n",
       "            ...    \n",
       "45711    Zillah 002\n",
       "45712        Zinder\n",
       "45713          Zlin\n",
       "45714     Zubkovsky\n",
       "45715    Zulu Queen\n",
       "Name: name, Length: 45716, dtype: object"
      ]
     },
     "execution_count": 19,
     "metadata": {},
     "output_type": "execute_result"
    }
   ],
   "source": [
    "meteorites.name"
   ]
  },
  {
   "cell_type": "markdown",
   "id": "eae393b7-0e4f-4bc8-a0a8-1cb2e744036c",
   "metadata": {
    "slideshow": {
     "slide_type": "subslide"
    },
    "tags": []
   },
   "source": [
    "If they aren't, we have to select them as keys. However, we can select multiple columns at once this way:"
   ]
  },
  {
   "cell_type": "code",
   "execution_count": 21,
   "id": "8d7ece3d-fb40-45af-9d6b-ee7218b3a27e",
   "metadata": {},
   "outputs": [
    {
     "data": {
      "text/html": [
       "<div>\n",
       "<style scoped>\n",
       "    .dataframe tbody tr th:only-of-type {\n",
       "        vertical-align: middle;\n",
       "    }\n",
       "\n",
       "    .dataframe tbody tr th {\n",
       "        vertical-align: top;\n",
       "    }\n",
       "\n",
       "    .dataframe thead th {\n",
       "        text-align: right;\n",
       "    }\n",
       "</style>\n",
       "<table border=\"1\" class=\"dataframe\">\n",
       "  <thead>\n",
       "    <tr style=\"text-align: right;\">\n",
       "      <th></th>\n",
       "      <th>name</th>\n",
       "      <th>mass (g)</th>\n",
       "    </tr>\n",
       "  </thead>\n",
       "  <tbody>\n",
       "    <tr>\n",
       "      <th>0</th>\n",
       "      <td>Aachen</td>\n",
       "      <td>21.0</td>\n",
       "    </tr>\n",
       "    <tr>\n",
       "      <th>1</th>\n",
       "      <td>Aarhus</td>\n",
       "      <td>720.0</td>\n",
       "    </tr>\n",
       "    <tr>\n",
       "      <th>2</th>\n",
       "      <td>Abee</td>\n",
       "      <td>107000.0</td>\n",
       "    </tr>\n",
       "    <tr>\n",
       "      <th>3</th>\n",
       "      <td>Acapulco</td>\n",
       "      <td>1914.0</td>\n",
       "    </tr>\n",
       "    <tr>\n",
       "      <th>4</th>\n",
       "      <td>Achiras</td>\n",
       "      <td>780.0</td>\n",
       "    </tr>\n",
       "    <tr>\n",
       "      <th>...</th>\n",
       "      <td>...</td>\n",
       "      <td>...</td>\n",
       "    </tr>\n",
       "    <tr>\n",
       "      <th>45711</th>\n",
       "      <td>Zillah 002</td>\n",
       "      <td>172.0</td>\n",
       "    </tr>\n",
       "    <tr>\n",
       "      <th>45712</th>\n",
       "      <td>Zinder</td>\n",
       "      <td>46.0</td>\n",
       "    </tr>\n",
       "    <tr>\n",
       "      <th>45713</th>\n",
       "      <td>Zlin</td>\n",
       "      <td>3.3</td>\n",
       "    </tr>\n",
       "    <tr>\n",
       "      <th>45714</th>\n",
       "      <td>Zubkovsky</td>\n",
       "      <td>2167.0</td>\n",
       "    </tr>\n",
       "    <tr>\n",
       "      <th>45715</th>\n",
       "      <td>Zulu Queen</td>\n",
       "      <td>200.0</td>\n",
       "    </tr>\n",
       "  </tbody>\n",
       "</table>\n",
       "<p>45716 rows × 2 columns</p>\n",
       "</div>"
      ],
      "text/plain": [
       "             name  mass (g)\n",
       "0          Aachen      21.0\n",
       "1          Aarhus     720.0\n",
       "2            Abee  107000.0\n",
       "3        Acapulco    1914.0\n",
       "4         Achiras     780.0\n",
       "...           ...       ...\n",
       "45711  Zillah 002     172.0\n",
       "45712      Zinder      46.0\n",
       "45713        Zlin       3.3\n",
       "45714   Zubkovsky    2167.0\n",
       "45715  Zulu Queen     200.0\n",
       "\n",
       "[45716 rows x 2 columns]"
      ]
     },
     "execution_count": 21,
     "metadata": {},
     "output_type": "execute_result"
    }
   ],
   "source": [
    "meteorites[['name', 'mass (g)']]"
   ]
  },
  {
   "cell_type": "markdown",
   "id": "13e1ad0e-11af-4f01-9ddd-b1cd4dc4337e",
   "metadata": {
    "slideshow": {
     "slide_type": "subslide"
    },
    "tags": [
     "id_selecting-rows"
    ]
   },
   "source": [
    "#### Selecting rows"
   ]
  },
  {
   "cell_type": "code",
   "execution_count": 22,
   "id": "cd449e0c-17e6-47b2-b7f9-512320090df1",
   "metadata": {},
   "outputs": [
    {
     "data": {
      "text/html": [
       "<div>\n",
       "<style scoped>\n",
       "    .dataframe tbody tr th:only-of-type {\n",
       "        vertical-align: middle;\n",
       "    }\n",
       "\n",
       "    .dataframe tbody tr th {\n",
       "        vertical-align: top;\n",
       "    }\n",
       "\n",
       "    .dataframe thead th {\n",
       "        text-align: right;\n",
       "    }\n",
       "</style>\n",
       "<table border=\"1\" class=\"dataframe\">\n",
       "  <thead>\n",
       "    <tr style=\"text-align: right;\">\n",
       "      <th></th>\n",
       "      <th>name</th>\n",
       "      <th>id</th>\n",
       "      <th>nametype</th>\n",
       "      <th>recclass</th>\n",
       "      <th>mass (g)</th>\n",
       "      <th>fall</th>\n",
       "      <th>year</th>\n",
       "      <th>reclat</th>\n",
       "      <th>reclong</th>\n",
       "      <th>GeoLocation</th>\n",
       "    </tr>\n",
       "  </thead>\n",
       "  <tbody>\n",
       "    <tr>\n",
       "      <th>100</th>\n",
       "      <td>Benton</td>\n",
       "      <td>5026</td>\n",
       "      <td>Valid</td>\n",
       "      <td>LL6</td>\n",
       "      <td>2840.0</td>\n",
       "      <td>Fell</td>\n",
       "      <td>01/01/1949 12:00:00 AM</td>\n",
       "      <td>45.95000</td>\n",
       "      <td>-67.55000</td>\n",
       "      <td>(45.95, -67.55)</td>\n",
       "    </tr>\n",
       "    <tr>\n",
       "      <th>101</th>\n",
       "      <td>Berduc</td>\n",
       "      <td>48975</td>\n",
       "      <td>Valid</td>\n",
       "      <td>L6</td>\n",
       "      <td>270.0</td>\n",
       "      <td>Fell</td>\n",
       "      <td>01/01/2008 12:00:00 AM</td>\n",
       "      <td>-31.91000</td>\n",
       "      <td>-58.32833</td>\n",
       "      <td>(-31.91, -58.32833)</td>\n",
       "    </tr>\n",
       "    <tr>\n",
       "      <th>102</th>\n",
       "      <td>Béréba</td>\n",
       "      <td>5028</td>\n",
       "      <td>Valid</td>\n",
       "      <td>Eucrite-mmict</td>\n",
       "      <td>18000.0</td>\n",
       "      <td>Fell</td>\n",
       "      <td>01/01/1924 12:00:00 AM</td>\n",
       "      <td>11.65000</td>\n",
       "      <td>-3.65000</td>\n",
       "      <td>(11.65, -3.65)</td>\n",
       "    </tr>\n",
       "    <tr>\n",
       "      <th>103</th>\n",
       "      <td>Berlanguillas</td>\n",
       "      <td>5029</td>\n",
       "      <td>Valid</td>\n",
       "      <td>L6</td>\n",
       "      <td>1440.0</td>\n",
       "      <td>Fell</td>\n",
       "      <td>01/01/1811 12:00:00 AM</td>\n",
       "      <td>41.68333</td>\n",
       "      <td>-3.80000</td>\n",
       "      <td>(41.68333, -3.8)</td>\n",
       "    </tr>\n",
       "  </tbody>\n",
       "</table>\n",
       "</div>"
      ],
      "text/plain": [
       "              name     id nametype       recclass  mass (g)  fall   \n",
       "100         Benton   5026    Valid            LL6    2840.0  Fell  \\\n",
       "101         Berduc  48975    Valid             L6     270.0  Fell   \n",
       "102         Béréba   5028    Valid  Eucrite-mmict   18000.0  Fell   \n",
       "103  Berlanguillas   5029    Valid             L6    1440.0  Fell   \n",
       "\n",
       "                       year    reclat   reclong          GeoLocation  \n",
       "100  01/01/1949 12:00:00 AM  45.95000 -67.55000      (45.95, -67.55)  \n",
       "101  01/01/2008 12:00:00 AM -31.91000 -58.32833  (-31.91, -58.32833)  \n",
       "102  01/01/1924 12:00:00 AM  11.65000  -3.65000       (11.65, -3.65)  \n",
       "103  01/01/1811 12:00:00 AM  41.68333  -3.80000     (41.68333, -3.8)  "
      ]
     },
     "execution_count": 22,
     "metadata": {},
     "output_type": "execute_result"
    }
   ],
   "source": [
    "meteorites[100:104]"
   ]
  },
  {
   "cell_type": "markdown",
   "id": "6c8bf6a3-bcc2-448f-a6d4-44b5b01293e5",
   "metadata": {
    "slideshow": {
     "slide_type": "subslide"
    },
    "tags": [
     "id_indexing"
    ]
   },
   "source": [
    "#### Indexing\n",
    "\n",
    "We use `iloc[]` to select rows and columns by their position:"
   ]
  },
  {
   "cell_type": "code",
   "execution_count": 23,
   "id": "4ff42eae-fa1d-4936-bb13-a020281b0728",
   "metadata": {},
   "outputs": [
    {
     "data": {
      "text/html": [
       "<div>\n",
       "<style scoped>\n",
       "    .dataframe tbody tr th:only-of-type {\n",
       "        vertical-align: middle;\n",
       "    }\n",
       "\n",
       "    .dataframe tbody tr th {\n",
       "        vertical-align: top;\n",
       "    }\n",
       "\n",
       "    .dataframe thead th {\n",
       "        text-align: right;\n",
       "    }\n",
       "</style>\n",
       "<table border=\"1\" class=\"dataframe\">\n",
       "  <thead>\n",
       "    <tr style=\"text-align: right;\">\n",
       "      <th></th>\n",
       "      <th>name</th>\n",
       "      <th>recclass</th>\n",
       "      <th>mass (g)</th>\n",
       "      <th>year</th>\n",
       "    </tr>\n",
       "  </thead>\n",
       "  <tbody>\n",
       "    <tr>\n",
       "      <th>100</th>\n",
       "      <td>Benton</td>\n",
       "      <td>LL6</td>\n",
       "      <td>2840.0</td>\n",
       "      <td>01/01/1949 12:00:00 AM</td>\n",
       "    </tr>\n",
       "    <tr>\n",
       "      <th>101</th>\n",
       "      <td>Berduc</td>\n",
       "      <td>L6</td>\n",
       "      <td>270.0</td>\n",
       "      <td>01/01/2008 12:00:00 AM</td>\n",
       "    </tr>\n",
       "    <tr>\n",
       "      <th>102</th>\n",
       "      <td>Béréba</td>\n",
       "      <td>Eucrite-mmict</td>\n",
       "      <td>18000.0</td>\n",
       "      <td>01/01/1924 12:00:00 AM</td>\n",
       "    </tr>\n",
       "    <tr>\n",
       "      <th>103</th>\n",
       "      <td>Berlanguillas</td>\n",
       "      <td>L6</td>\n",
       "      <td>1440.0</td>\n",
       "      <td>01/01/1811 12:00:00 AM</td>\n",
       "    </tr>\n",
       "  </tbody>\n",
       "</table>\n",
       "</div>"
      ],
      "text/plain": [
       "              name       recclass  mass (g)                    year\n",
       "100         Benton            LL6    2840.0  01/01/1949 12:00:00 AM\n",
       "101         Berduc             L6     270.0  01/01/2008 12:00:00 AM\n",
       "102         Béréba  Eucrite-mmict   18000.0  01/01/1924 12:00:00 AM\n",
       "103  Berlanguillas             L6    1440.0  01/01/1811 12:00:00 AM"
      ]
     },
     "execution_count": 23,
     "metadata": {},
     "output_type": "execute_result"
    }
   ],
   "source": [
    "meteorites.iloc[100:104, [0, 3, 4, 6]]"
   ]
  },
  {
   "cell_type": "markdown",
   "id": "1c9690c7-1f45-450c-ba8e-0b70fc1e3e6a",
   "metadata": {
    "slideshow": {
     "slide_type": "fragment"
    },
    "tags": []
   },
   "source": [
    "We use `loc[]` to select by name:"
   ]
  },
  {
   "cell_type": "code",
   "execution_count": 24,
   "id": "bba2c44a-aea5-4482-b087-673104aa9b32",
   "metadata": {},
   "outputs": [
    {
     "data": {
      "text/html": [
       "<div>\n",
       "<style scoped>\n",
       "    .dataframe tbody tr th:only-of-type {\n",
       "        vertical-align: middle;\n",
       "    }\n",
       "\n",
       "    .dataframe tbody tr th {\n",
       "        vertical-align: top;\n",
       "    }\n",
       "\n",
       "    .dataframe thead th {\n",
       "        text-align: right;\n",
       "    }\n",
       "</style>\n",
       "<table border=\"1\" class=\"dataframe\">\n",
       "  <thead>\n",
       "    <tr style=\"text-align: right;\">\n",
       "      <th></th>\n",
       "      <th>mass (g)</th>\n",
       "      <th>fall</th>\n",
       "      <th>year</th>\n",
       "    </tr>\n",
       "  </thead>\n",
       "  <tbody>\n",
       "    <tr>\n",
       "      <th>100</th>\n",
       "      <td>2840.0</td>\n",
       "      <td>Fell</td>\n",
       "      <td>01/01/1949 12:00:00 AM</td>\n",
       "    </tr>\n",
       "    <tr>\n",
       "      <th>101</th>\n",
       "      <td>270.0</td>\n",
       "      <td>Fell</td>\n",
       "      <td>01/01/2008 12:00:00 AM</td>\n",
       "    </tr>\n",
       "    <tr>\n",
       "      <th>102</th>\n",
       "      <td>18000.0</td>\n",
       "      <td>Fell</td>\n",
       "      <td>01/01/1924 12:00:00 AM</td>\n",
       "    </tr>\n",
       "    <tr>\n",
       "      <th>103</th>\n",
       "      <td>1440.0</td>\n",
       "      <td>Fell</td>\n",
       "      <td>01/01/1811 12:00:00 AM</td>\n",
       "    </tr>\n",
       "    <tr>\n",
       "      <th>104</th>\n",
       "      <td>960.0</td>\n",
       "      <td>Fell</td>\n",
       "      <td>01/01/2004 12:00:00 AM</td>\n",
       "    </tr>\n",
       "  </tbody>\n",
       "</table>\n",
       "</div>"
      ],
      "text/plain": [
       "     mass (g)  fall                    year\n",
       "100    2840.0  Fell  01/01/1949 12:00:00 AM\n",
       "101     270.0  Fell  01/01/2008 12:00:00 AM\n",
       "102   18000.0  Fell  01/01/1924 12:00:00 AM\n",
       "103    1440.0  Fell  01/01/1811 12:00:00 AM\n",
       "104     960.0  Fell  01/01/2004 12:00:00 AM"
      ]
     },
     "execution_count": 24,
     "metadata": {},
     "output_type": "execute_result"
    }
   ],
   "source": [
    "meteorites.loc[100:104, 'mass (g)':'year']"
   ]
  },
  {
   "cell_type": "markdown",
   "id": "177e4fc3-9cd5-4e61-8ac0-f024a8cd15a3",
   "metadata": {
    "slideshow": {
     "slide_type": "subslide"
    },
    "tags": [
     "id_filtering-with-boolean-masks"
    ]
   },
   "source": [
    "#### Filtering with Boolean masks\n",
    "\n",
    "A **Boolean mask** is a array-like structure of Boolean values &ndash; it's a way to specify which rows/columns we want to select (`True`) and which we don't (`False`)."
   ]
  },
  {
   "cell_type": "markdown",
   "id": "40dcbfaf-acd3-4ca3-8582-07d9eedafc3d",
   "metadata": {
    "slideshow": {
     "slide_type": "subslide"
    },
    "tags": []
   },
   "source": [
    "Here's an example of a Boolean mask for meteorites weighing more than 50 grams that were found on Earth (i.e., they were not observed falling):"
   ]
  },
  {
   "cell_type": "code",
   "execution_count": 27,
   "id": "f0dcb663-dddc-487e-83e5-b41b4fdaa903",
   "metadata": {},
   "outputs": [
    {
     "data": {
      "text/plain": [
       "0        False\n",
       "1        False\n",
       "2        False\n",
       "3        False\n",
       "4        False\n",
       "         ...  \n",
       "45711     True\n",
       "45712    False\n",
       "45713    False\n",
       "45714     True\n",
       "45715     True\n",
       "Length: 45716, dtype: bool"
      ]
     },
     "execution_count": 27,
     "metadata": {},
     "output_type": "execute_result"
    }
   ],
   "source": [
    "(meteorites['mass (g)'] > 50) & (meteorites.fall == 'Found')"
   ]
  },
  {
   "cell_type": "markdown",
   "id": "c5eb55fd-5d09-4da8-be4b-f588b58943d2",
   "metadata": {
    "slideshow": {
     "slide_type": "fragment"
    },
    "tags": []
   },
   "source": [
    "**Important**: Take note of the syntax here. We surround each condition with parentheses, and we use bitwise operators (`&`, `|`, `~`) instead of logical operators (`and`, `or`, `not`)."
   ]
  },
  {
   "cell_type": "markdown",
   "id": "e57f9cff-2153-493d-9023-d6395e50cbe0",
   "metadata": {
    "slideshow": {
     "slide_type": "subslide"
    },
    "tags": []
   },
   "source": [
    "We can use a Boolean mask to select the subset of meteorites weighing more than 1 million grams (1,000 kilograms or roughly 2,205 pounds) that were observed falling:"
   ]
  },
  {
   "cell_type": "code",
   "execution_count": 28,
   "id": "18294622-156a-426f-b6bf-674315b74bf2",
   "metadata": {},
   "outputs": [
    {
     "data": {
      "text/html": [
       "<div>\n",
       "<style scoped>\n",
       "    .dataframe tbody tr th:only-of-type {\n",
       "        vertical-align: middle;\n",
       "    }\n",
       "\n",
       "    .dataframe tbody tr th {\n",
       "        vertical-align: top;\n",
       "    }\n",
       "\n",
       "    .dataframe thead th {\n",
       "        text-align: right;\n",
       "    }\n",
       "</style>\n",
       "<table border=\"1\" class=\"dataframe\">\n",
       "  <thead>\n",
       "    <tr style=\"text-align: right;\">\n",
       "      <th></th>\n",
       "      <th>name</th>\n",
       "      <th>id</th>\n",
       "      <th>nametype</th>\n",
       "      <th>recclass</th>\n",
       "      <th>mass (g)</th>\n",
       "      <th>fall</th>\n",
       "      <th>year</th>\n",
       "      <th>reclat</th>\n",
       "      <th>reclong</th>\n",
       "      <th>GeoLocation</th>\n",
       "    </tr>\n",
       "  </thead>\n",
       "  <tbody>\n",
       "    <tr>\n",
       "      <th>29</th>\n",
       "      <td>Allende</td>\n",
       "      <td>2278</td>\n",
       "      <td>Valid</td>\n",
       "      <td>CV3</td>\n",
       "      <td>2000000.0</td>\n",
       "      <td>Fell</td>\n",
       "      <td>01/01/1969 12:00:00 AM</td>\n",
       "      <td>26.96667</td>\n",
       "      <td>-105.31667</td>\n",
       "      <td>(26.96667, -105.31667)</td>\n",
       "    </tr>\n",
       "    <tr>\n",
       "      <th>419</th>\n",
       "      <td>Jilin</td>\n",
       "      <td>12171</td>\n",
       "      <td>Valid</td>\n",
       "      <td>H5</td>\n",
       "      <td>4000000.0</td>\n",
       "      <td>Fell</td>\n",
       "      <td>01/01/1976 12:00:00 AM</td>\n",
       "      <td>44.05000</td>\n",
       "      <td>126.16667</td>\n",
       "      <td>(44.05, 126.16667)</td>\n",
       "    </tr>\n",
       "    <tr>\n",
       "      <th>506</th>\n",
       "      <td>Kunya-Urgench</td>\n",
       "      <td>12379</td>\n",
       "      <td>Valid</td>\n",
       "      <td>H5</td>\n",
       "      <td>1100000.0</td>\n",
       "      <td>Fell</td>\n",
       "      <td>01/01/1998 12:00:00 AM</td>\n",
       "      <td>42.25000</td>\n",
       "      <td>59.20000</td>\n",
       "      <td>(42.25, 59.2)</td>\n",
       "    </tr>\n",
       "    <tr>\n",
       "      <th>707</th>\n",
       "      <td>Norton County</td>\n",
       "      <td>17922</td>\n",
       "      <td>Valid</td>\n",
       "      <td>Aubrite</td>\n",
       "      <td>1100000.0</td>\n",
       "      <td>Fell</td>\n",
       "      <td>01/01/1948 12:00:00 AM</td>\n",
       "      <td>39.68333</td>\n",
       "      <td>-99.86667</td>\n",
       "      <td>(39.68333, -99.86667)</td>\n",
       "    </tr>\n",
       "    <tr>\n",
       "      <th>920</th>\n",
       "      <td>Sikhote-Alin</td>\n",
       "      <td>23593</td>\n",
       "      <td>Valid</td>\n",
       "      <td>Iron, IIAB</td>\n",
       "      <td>23000000.0</td>\n",
       "      <td>Fell</td>\n",
       "      <td>01/01/1947 12:00:00 AM</td>\n",
       "      <td>46.16000</td>\n",
       "      <td>134.65333</td>\n",
       "      <td>(46.16, 134.65333)</td>\n",
       "    </tr>\n",
       "  </tbody>\n",
       "</table>\n",
       "</div>"
      ],
      "text/plain": [
       "              name     id nametype    recclass    mass (g)  fall   \n",
       "29         Allende   2278    Valid         CV3   2000000.0  Fell  \\\n",
       "419          Jilin  12171    Valid          H5   4000000.0  Fell   \n",
       "506  Kunya-Urgench  12379    Valid          H5   1100000.0  Fell   \n",
       "707  Norton County  17922    Valid     Aubrite   1100000.0  Fell   \n",
       "920   Sikhote-Alin  23593    Valid  Iron, IIAB  23000000.0  Fell   \n",
       "\n",
       "                       year    reclat    reclong             GeoLocation  \n",
       "29   01/01/1969 12:00:00 AM  26.96667 -105.31667  (26.96667, -105.31667)  \n",
       "419  01/01/1976 12:00:00 AM  44.05000  126.16667      (44.05, 126.16667)  \n",
       "506  01/01/1998 12:00:00 AM  42.25000   59.20000           (42.25, 59.2)  \n",
       "707  01/01/1948 12:00:00 AM  39.68333  -99.86667   (39.68333, -99.86667)  \n",
       "920  01/01/1947 12:00:00 AM  46.16000  134.65333      (46.16, 134.65333)  "
      ]
     },
     "execution_count": 28,
     "metadata": {},
     "output_type": "execute_result"
    }
   ],
   "source": [
    "meteorites[(meteorites['mass (g)'] > 1e6) & (meteorites.fall == 'Fell')]"
   ]
  },
  {
   "cell_type": "markdown",
   "id": "c8c71775-3657-4b5b-b68b-1519829a76e1",
   "metadata": {
    "slideshow": {
     "slide_type": "fragment"
    },
    "tags": []
   },
   "source": [
    "*Tip: Boolean masks can be used with `loc[]` and `iloc[]`.*"
   ]
  },
  {
   "cell_type": "markdown",
   "id": "ce56faca-d470-4a11-9b80-7b942951a9aa",
   "metadata": {
    "slideshow": {
     "slide_type": "subslide"
    },
    "tags": [
     "id_query-method"
    ]
   },
   "source": [
    "An alternative to this is the `query()` method:"
   ]
  },
  {
   "cell_type": "code",
   "execution_count": 29,
   "id": "2ef48350-5dc0-49b2-93e1-b02f715d18a3",
   "metadata": {
    "tags": []
   },
   "outputs": [
    {
     "data": {
      "text/html": [
       "<div>\n",
       "<style scoped>\n",
       "    .dataframe tbody tr th:only-of-type {\n",
       "        vertical-align: middle;\n",
       "    }\n",
       "\n",
       "    .dataframe tbody tr th {\n",
       "        vertical-align: top;\n",
       "    }\n",
       "\n",
       "    .dataframe thead th {\n",
       "        text-align: right;\n",
       "    }\n",
       "</style>\n",
       "<table border=\"1\" class=\"dataframe\">\n",
       "  <thead>\n",
       "    <tr style=\"text-align: right;\">\n",
       "      <th></th>\n",
       "      <th>name</th>\n",
       "      <th>id</th>\n",
       "      <th>nametype</th>\n",
       "      <th>recclass</th>\n",
       "      <th>mass (g)</th>\n",
       "      <th>fall</th>\n",
       "      <th>year</th>\n",
       "      <th>reclat</th>\n",
       "      <th>reclong</th>\n",
       "      <th>GeoLocation</th>\n",
       "    </tr>\n",
       "  </thead>\n",
       "  <tbody>\n",
       "    <tr>\n",
       "      <th>29</th>\n",
       "      <td>Allende</td>\n",
       "      <td>2278</td>\n",
       "      <td>Valid</td>\n",
       "      <td>CV3</td>\n",
       "      <td>2000000.0</td>\n",
       "      <td>Fell</td>\n",
       "      <td>01/01/1969 12:00:00 AM</td>\n",
       "      <td>26.96667</td>\n",
       "      <td>-105.31667</td>\n",
       "      <td>(26.96667, -105.31667)</td>\n",
       "    </tr>\n",
       "    <tr>\n",
       "      <th>419</th>\n",
       "      <td>Jilin</td>\n",
       "      <td>12171</td>\n",
       "      <td>Valid</td>\n",
       "      <td>H5</td>\n",
       "      <td>4000000.0</td>\n",
       "      <td>Fell</td>\n",
       "      <td>01/01/1976 12:00:00 AM</td>\n",
       "      <td>44.05000</td>\n",
       "      <td>126.16667</td>\n",
       "      <td>(44.05, 126.16667)</td>\n",
       "    </tr>\n",
       "    <tr>\n",
       "      <th>506</th>\n",
       "      <td>Kunya-Urgench</td>\n",
       "      <td>12379</td>\n",
       "      <td>Valid</td>\n",
       "      <td>H5</td>\n",
       "      <td>1100000.0</td>\n",
       "      <td>Fell</td>\n",
       "      <td>01/01/1998 12:00:00 AM</td>\n",
       "      <td>42.25000</td>\n",
       "      <td>59.20000</td>\n",
       "      <td>(42.25, 59.2)</td>\n",
       "    </tr>\n",
       "    <tr>\n",
       "      <th>707</th>\n",
       "      <td>Norton County</td>\n",
       "      <td>17922</td>\n",
       "      <td>Valid</td>\n",
       "      <td>Aubrite</td>\n",
       "      <td>1100000.0</td>\n",
       "      <td>Fell</td>\n",
       "      <td>01/01/1948 12:00:00 AM</td>\n",
       "      <td>39.68333</td>\n",
       "      <td>-99.86667</td>\n",
       "      <td>(39.68333, -99.86667)</td>\n",
       "    </tr>\n",
       "    <tr>\n",
       "      <th>920</th>\n",
       "      <td>Sikhote-Alin</td>\n",
       "      <td>23593</td>\n",
       "      <td>Valid</td>\n",
       "      <td>Iron, IIAB</td>\n",
       "      <td>23000000.0</td>\n",
       "      <td>Fell</td>\n",
       "      <td>01/01/1947 12:00:00 AM</td>\n",
       "      <td>46.16000</td>\n",
       "      <td>134.65333</td>\n",
       "      <td>(46.16, 134.65333)</td>\n",
       "    </tr>\n",
       "  </tbody>\n",
       "</table>\n",
       "</div>"
      ],
      "text/plain": [
       "              name     id nametype    recclass    mass (g)  fall   \n",
       "29         Allende   2278    Valid         CV3   2000000.0  Fell  \\\n",
       "419          Jilin  12171    Valid          H5   4000000.0  Fell   \n",
       "506  Kunya-Urgench  12379    Valid          H5   1100000.0  Fell   \n",
       "707  Norton County  17922    Valid     Aubrite   1100000.0  Fell   \n",
       "920   Sikhote-Alin  23593    Valid  Iron, IIAB  23000000.0  Fell   \n",
       "\n",
       "                       year    reclat    reclong             GeoLocation  \n",
       "29   01/01/1969 12:00:00 AM  26.96667 -105.31667  (26.96667, -105.31667)  \n",
       "419  01/01/1976 12:00:00 AM  44.05000  126.16667      (44.05, 126.16667)  \n",
       "506  01/01/1998 12:00:00 AM  42.25000   59.20000           (42.25, 59.2)  \n",
       "707  01/01/1948 12:00:00 AM  39.68333  -99.86667   (39.68333, -99.86667)  \n",
       "920  01/01/1947 12:00:00 AM  46.16000  134.65333      (46.16, 134.65333)  "
      ]
     },
     "execution_count": 29,
     "metadata": {},
     "output_type": "execute_result"
    }
   ],
   "source": [
    "meteorites.query(\"`mass (g)` > 1e6 and fall == 'Fell'\")"
   ]
  },
  {
   "cell_type": "markdown",
   "id": "3a8b60a0-7f33-411f-a11e-34d8d6dfe670",
   "metadata": {
    "slideshow": {
     "slide_type": "fragment"
    },
    "tags": []
   },
   "source": [
    "*Tip: Here, we can use both logical operators and bitwise operators.*"
   ]
  },
  {
   "cell_type": "markdown",
   "id": "96a7b264-7cfc-403f-8c69-380e20ae163f",
   "metadata": {
    "slideshow": {
     "slide_type": "slide"
    },
    "tags": [
     "id_calculating-summary-statistics"
    ]
   },
   "source": [
    "## Calculating summary statistics\n",
    "\n",
    "In the next section of this workshop, we will discuss data cleaning for a more meaningful analysis of our datasets; however, we can already extract some interesting insights from the `meteorites` data by calculating summary statistics."
   ]
  },
  {
   "cell_type": "markdown",
   "id": "1bb77a5b-a57f-41f4-8131-4704f47a3b42",
   "metadata": {
    "slideshow": {
     "slide_type": "subslide"
    },
    "tags": [
     "id_value-counts"
    ]
   },
   "source": [
    "#### How many of the meteorites were found versus observed falling?"
   ]
  },
  {
   "cell_type": "code",
   "execution_count": 31,
   "id": "78de2225-84df-4df2-8388-30a6b2e22877",
   "metadata": {},
   "outputs": [
    {
     "data": {
      "text/plain": [
       "fall\n",
       "Found    0.975785\n",
       "Fell     0.024215\n",
       "Name: proportion, dtype: float64"
      ]
     },
     "execution_count": 31,
     "metadata": {},
     "output_type": "execute_result"
    }
   ],
   "source": [
    "meteorites.fall.value_counts(normalize=True)"
   ]
  },
  {
   "cell_type": "markdown",
   "id": "ba5f43b1-9070-46a8-bc8e-ec4502a8e1c2",
   "metadata": {
    "slideshow": {
     "slide_type": "fragment"
    },
    "tags": []
   },
   "source": [
    "*Tip: Pass in `normalize=True` to see this result as percentages. Check the [documentation](https://pandas.pydata.org/docs/reference/api/pandas.Series.value_counts.html) for additional functionality.*"
   ]
  },
  {
   "cell_type": "markdown",
   "id": "0fdb3a88-1c1f-4a37-84ed-d521be8fd8b0",
   "metadata": {
    "slideshow": {
     "slide_type": "subslide"
    },
    "tags": [
     "id_mean"
    ]
   },
   "source": [
    "#### What was the mass of the average meterorite?"
   ]
  },
  {
   "cell_type": "code",
   "execution_count": 32,
   "id": "1770a856-cb3d-42a4-abef-656198b9cdab",
   "metadata": {},
   "outputs": [
    {
     "data": {
      "text/plain": [
       "13278.078548601512"
      ]
     },
     "execution_count": 32,
     "metadata": {},
     "output_type": "execute_result"
    }
   ],
   "source": [
    "meteorites['mass (g)'].mean()"
   ]
  },
  {
   "cell_type": "markdown",
   "id": "91b223c6-e174-4b8c-89ec-dc4538f36873",
   "metadata": {
    "slideshow": {
     "slide_type": "fragment"
    },
    "tags": []
   },
   "source": [
    "**Important**: The mean isn't always the best measure of central tendency. If there are outliers in the distribution, the mean will be skewed. Here, the mean is being pulled higher by some very heavy meteorites &ndash; the distribution is [right-skewed](https://www.analyticsvidhya.com/blog/2020/07/what-is-skewness-statistics/)."
   ]
  },
  {
   "cell_type": "markdown",
   "id": "b7da8f8d-2838-4f3a-a011-1623c16b5c30",
   "metadata": {
    "slideshow": {
     "slide_type": "subslide"
    },
    "tags": [
     "id_quantiles"
    ]
   },
   "source": [
    "Taking a look at some quantiles at the extremes of the distribution shows that the mean is between the 95th and 99th percentile of the distribution, so it isn't a good measure of central tendency here:"
   ]
  },
  {
   "cell_type": "code",
   "execution_count": 33,
   "id": "0821d8e4-6096-4506-8d84-2f0f0ed09bd7",
   "metadata": {},
   "outputs": [
    {
     "data": {
      "text/plain": [
       "0.01        0.44\n",
       "0.05        1.10\n",
       "0.50       32.60\n",
       "0.95     4000.00\n",
       "0.99    50600.00\n",
       "Name: mass (g), dtype: float64"
      ]
     },
     "execution_count": 33,
     "metadata": {},
     "output_type": "execute_result"
    }
   ],
   "source": [
    "meteorites['mass (g)'].quantile([0.01, 0.05, 0.5, 0.95, 0.99])"
   ]
  },
  {
   "cell_type": "markdown",
   "id": "9ba56ba7-cb62-46a1-81b6-5117a2210460",
   "metadata": {
    "slideshow": {
     "slide_type": "fragment"
    },
    "tags": []
   },
   "source": [
    "A better measure in this case is the median (50th percentile), since it is robust to outliers:"
   ]
  },
  {
   "cell_type": "code",
   "execution_count": 34,
   "id": "4aca7862-5a00-4f9e-88d8-004c6d680e0d",
   "metadata": {},
   "outputs": [
    {
     "data": {
      "text/plain": [
       "32.6"
      ]
     },
     "execution_count": 34,
     "metadata": {},
     "output_type": "execute_result"
    }
   ],
   "source": [
    "meteorites['mass (g)'].median()"
   ]
  },
  {
   "cell_type": "markdown",
   "id": "377ade97-183d-428b-9b56-2cc1a1d3915f",
   "metadata": {
    "slideshow": {
     "slide_type": "subslide"
    },
    "tags": [
     "id_max-and-idxmax"
    ]
   },
   "source": [
    "#### What was the mass of the heaviest meteorite?"
   ]
  },
  {
   "cell_type": "code",
   "execution_count": 36,
   "id": "35cd0108-7ef5-4911-bc6d-56249dff6b42",
   "metadata": {},
   "outputs": [
    {
     "data": {
      "text/plain": [
       "16392"
      ]
     },
     "execution_count": 36,
     "metadata": {},
     "output_type": "execute_result"
    }
   ],
   "source": [
    "meteorites['mass (g)'].idxmax()"
   ]
  },
  {
   "cell_type": "markdown",
   "id": "6efc5b1b-413b-4378-9656-7c4d6001dc27",
   "metadata": {
    "slideshow": {
     "slide_type": "fragment"
    },
    "tags": []
   },
   "source": [
    "Let's extract the information on this meteorite:"
   ]
  },
  {
   "cell_type": "code",
   "execution_count": 37,
   "id": "edf8ab72-ba40-4eb9-9015-37c0d60ef86d",
   "metadata": {},
   "outputs": [
    {
     "data": {
      "text/plain": [
       "name                             Hoba\n",
       "id                              11890\n",
       "nametype                        Valid\n",
       "recclass                    Iron, IVB\n",
       "mass (g)                   60000000.0\n",
       "fall                            Found\n",
       "year           01/01/1920 12:00:00 AM\n",
       "reclat                      -19.58333\n",
       "reclong                      17.91667\n",
       "GeoLocation     (-19.58333, 17.91667)\n",
       "Name: 16392, dtype: object"
      ]
     },
     "execution_count": 37,
     "metadata": {},
     "output_type": "execute_result"
    }
   ],
   "source": [
    "meteorites.loc[meteorites['mass (g)'].idxmax()]"
   ]
  },
  {
   "cell_type": "markdown",
   "id": "65367403-e010-4dc7-8cef-d280a8c94fd3",
   "metadata": {
    "slideshow": {
     "slide_type": "subslide"
    },
    "tags": []
   },
   "source": [
    "*Fun fact: This meteorite landed in Namibia and is a tourist attraction.*\n",
    "\n",
    "<div>\n",
    "    <img width=\"25%\" style=\"margin-top: -5px; margin-bottom: -5px; min-width: 200px\" src=\"https://upload.wikimedia.org/wikipedia/commons/thumb/a/a7/Hoba_meteorite_%2815682150765%29.jpg/1280px-Hoba_meteorite_%2815682150765%29.jpg\" alt=\"Hoba meteorite (source: Wikipedia)\"/>\n",
    "    <div><small><em>Source: Wikipedia</em></small></div>\n",
    "</div>"
   ]
  },
  {
   "cell_type": "markdown",
   "id": "38d14207-0f94-4204-927e-444535c7dd2d",
   "metadata": {
    "slideshow": {
     "slide_type": "subslide"
    },
    "tags": [
     "id_unique-and-nunique"
    ]
   },
   "source": [
    "#### How many different types of meteorite classes are represented in this dataset?"
   ]
  },
  {
   "cell_type": "code",
   "execution_count": 38,
   "id": "0301e74e-bdfd-4b9f-bf26-edd0c3ad5f39",
   "metadata": {},
   "outputs": [
    {
     "data": {
      "text/plain": [
       "466"
      ]
     },
     "execution_count": 38,
     "metadata": {},
     "output_type": "execute_result"
    }
   ],
   "source": [
    "meteorites.recclass.nunique()"
   ]
  },
  {
   "cell_type": "markdown",
   "id": "e55fe68e-5bf4-4b5e-b2c7-6a896743a5f6",
   "metadata": {
    "slideshow": {
     "slide_type": "fragment"
    },
    "tags": []
   },
   "source": [
    "Some examples:"
   ]
  },
  {
   "cell_type": "code",
   "execution_count": 39,
   "id": "5ad8d82a-aeaf-4d8b-bf5f-22b2ba06fad3",
   "metadata": {},
   "outputs": [
    {
     "data": {
      "text/plain": [
       "array(['L5', 'H6', 'EH4', 'Acapulcoite', 'L6', 'LL3-6', 'H5', 'L',\n",
       "       'Diogenite-pm', 'Unknown', 'H4', 'H', 'Iron, IVA', 'CR2-an'],\n",
       "      dtype=object)"
      ]
     },
     "execution_count": 39,
     "metadata": {},
     "output_type": "execute_result"
    }
   ],
   "source": [
    "meteorites.recclass.unique()[:14]"
   ]
  },
  {
   "cell_type": "markdown",
   "id": "1dc4f077-48b2-49ca-a902-faac7066f479",
   "metadata": {},
   "source": [
    "*Note: All fields preceded with \"rec\" are the values recommended by The Meteoritical Society. Check out [this Wikipedia article](https://en.wikipedia.org/wiki/Meteorite_classification) for some information on meteorite classes.*"
   ]
  },
  {
   "cell_type": "markdown",
   "id": "5b506e37-2929-42be-a82d-eb31491bf352",
   "metadata": {
    "slideshow": {
     "slide_type": "subslide"
    },
    "tags": [
     "id_describe-method"
    ]
   },
   "source": [
    "#### Get some summary statistics on the data itself\n",
    "We can get common summary statistics for all columns at once. By default, this will only be numeric columns, but here, we will summarize everything together:"
   ]
  },
  {
   "cell_type": "code",
   "execution_count": 40,
   "id": "7bbf2092-31bd-4473-a98c-cfe243f9e7b1",
   "metadata": {},
   "outputs": [
    {
     "data": {
      "text/html": [
       "<div>\n",
       "<style scoped>\n",
       "    .dataframe tbody tr th:only-of-type {\n",
       "        vertical-align: middle;\n",
       "    }\n",
       "\n",
       "    .dataframe tbody tr th {\n",
       "        vertical-align: top;\n",
       "    }\n",
       "\n",
       "    .dataframe thead th {\n",
       "        text-align: right;\n",
       "    }\n",
       "</style>\n",
       "<table border=\"1\" class=\"dataframe\">\n",
       "  <thead>\n",
       "    <tr style=\"text-align: right;\">\n",
       "      <th></th>\n",
       "      <th>name</th>\n",
       "      <th>id</th>\n",
       "      <th>nametype</th>\n",
       "      <th>recclass</th>\n",
       "      <th>mass (g)</th>\n",
       "      <th>fall</th>\n",
       "      <th>year</th>\n",
       "      <th>reclat</th>\n",
       "      <th>reclong</th>\n",
       "      <th>GeoLocation</th>\n",
       "    </tr>\n",
       "  </thead>\n",
       "  <tbody>\n",
       "    <tr>\n",
       "      <th>count</th>\n",
       "      <td>45716</td>\n",
       "      <td>45716.000000</td>\n",
       "      <td>45716</td>\n",
       "      <td>45716</td>\n",
       "      <td>4.558500e+04</td>\n",
       "      <td>45716</td>\n",
       "      <td>45425</td>\n",
       "      <td>38401.000000</td>\n",
       "      <td>38401.000000</td>\n",
       "      <td>38401</td>\n",
       "    </tr>\n",
       "    <tr>\n",
       "      <th>unique</th>\n",
       "      <td>45716</td>\n",
       "      <td>NaN</td>\n",
       "      <td>2</td>\n",
       "      <td>466</td>\n",
       "      <td>NaN</td>\n",
       "      <td>2</td>\n",
       "      <td>266</td>\n",
       "      <td>NaN</td>\n",
       "      <td>NaN</td>\n",
       "      <td>17100</td>\n",
       "    </tr>\n",
       "    <tr>\n",
       "      <th>top</th>\n",
       "      <td>Aachen</td>\n",
       "      <td>NaN</td>\n",
       "      <td>Valid</td>\n",
       "      <td>L6</td>\n",
       "      <td>NaN</td>\n",
       "      <td>Found</td>\n",
       "      <td>01/01/2003 12:00:00 AM</td>\n",
       "      <td>NaN</td>\n",
       "      <td>NaN</td>\n",
       "      <td>(0.0, 0.0)</td>\n",
       "    </tr>\n",
       "    <tr>\n",
       "      <th>freq</th>\n",
       "      <td>1</td>\n",
       "      <td>NaN</td>\n",
       "      <td>45641</td>\n",
       "      <td>8285</td>\n",
       "      <td>NaN</td>\n",
       "      <td>44609</td>\n",
       "      <td>3323</td>\n",
       "      <td>NaN</td>\n",
       "      <td>NaN</td>\n",
       "      <td>6214</td>\n",
       "    </tr>\n",
       "    <tr>\n",
       "      <th>mean</th>\n",
       "      <td>NaN</td>\n",
       "      <td>26889.735104</td>\n",
       "      <td>NaN</td>\n",
       "      <td>NaN</td>\n",
       "      <td>1.327808e+04</td>\n",
       "      <td>NaN</td>\n",
       "      <td>NaN</td>\n",
       "      <td>-39.122580</td>\n",
       "      <td>61.074319</td>\n",
       "      <td>NaN</td>\n",
       "    </tr>\n",
       "    <tr>\n",
       "      <th>std</th>\n",
       "      <td>NaN</td>\n",
       "      <td>16860.683030</td>\n",
       "      <td>NaN</td>\n",
       "      <td>NaN</td>\n",
       "      <td>5.749889e+05</td>\n",
       "      <td>NaN</td>\n",
       "      <td>NaN</td>\n",
       "      <td>46.378511</td>\n",
       "      <td>80.647298</td>\n",
       "      <td>NaN</td>\n",
       "    </tr>\n",
       "    <tr>\n",
       "      <th>min</th>\n",
       "      <td>NaN</td>\n",
       "      <td>1.000000</td>\n",
       "      <td>NaN</td>\n",
       "      <td>NaN</td>\n",
       "      <td>0.000000e+00</td>\n",
       "      <td>NaN</td>\n",
       "      <td>NaN</td>\n",
       "      <td>-87.366670</td>\n",
       "      <td>-165.433330</td>\n",
       "      <td>NaN</td>\n",
       "    </tr>\n",
       "    <tr>\n",
       "      <th>25%</th>\n",
       "      <td>NaN</td>\n",
       "      <td>12688.750000</td>\n",
       "      <td>NaN</td>\n",
       "      <td>NaN</td>\n",
       "      <td>7.200000e+00</td>\n",
       "      <td>NaN</td>\n",
       "      <td>NaN</td>\n",
       "      <td>-76.714240</td>\n",
       "      <td>0.000000</td>\n",
       "      <td>NaN</td>\n",
       "    </tr>\n",
       "    <tr>\n",
       "      <th>50%</th>\n",
       "      <td>NaN</td>\n",
       "      <td>24261.500000</td>\n",
       "      <td>NaN</td>\n",
       "      <td>NaN</td>\n",
       "      <td>3.260000e+01</td>\n",
       "      <td>NaN</td>\n",
       "      <td>NaN</td>\n",
       "      <td>-71.500000</td>\n",
       "      <td>35.666670</td>\n",
       "      <td>NaN</td>\n",
       "    </tr>\n",
       "    <tr>\n",
       "      <th>75%</th>\n",
       "      <td>NaN</td>\n",
       "      <td>40656.750000</td>\n",
       "      <td>NaN</td>\n",
       "      <td>NaN</td>\n",
       "      <td>2.026000e+02</td>\n",
       "      <td>NaN</td>\n",
       "      <td>NaN</td>\n",
       "      <td>0.000000</td>\n",
       "      <td>157.166670</td>\n",
       "      <td>NaN</td>\n",
       "    </tr>\n",
       "    <tr>\n",
       "      <th>max</th>\n",
       "      <td>NaN</td>\n",
       "      <td>57458.000000</td>\n",
       "      <td>NaN</td>\n",
       "      <td>NaN</td>\n",
       "      <td>6.000000e+07</td>\n",
       "      <td>NaN</td>\n",
       "      <td>NaN</td>\n",
       "      <td>81.166670</td>\n",
       "      <td>354.473330</td>\n",
       "      <td>NaN</td>\n",
       "    </tr>\n",
       "  </tbody>\n",
       "</table>\n",
       "</div>"
      ],
      "text/plain": [
       "          name            id nametype recclass      mass (g)   fall   \n",
       "count    45716  45716.000000    45716    45716  4.558500e+04  45716  \\\n",
       "unique   45716           NaN        2      466           NaN      2   \n",
       "top     Aachen           NaN    Valid       L6           NaN  Found   \n",
       "freq         1           NaN    45641     8285           NaN  44609   \n",
       "mean       NaN  26889.735104      NaN      NaN  1.327808e+04    NaN   \n",
       "std        NaN  16860.683030      NaN      NaN  5.749889e+05    NaN   \n",
       "min        NaN      1.000000      NaN      NaN  0.000000e+00    NaN   \n",
       "25%        NaN  12688.750000      NaN      NaN  7.200000e+00    NaN   \n",
       "50%        NaN  24261.500000      NaN      NaN  3.260000e+01    NaN   \n",
       "75%        NaN  40656.750000      NaN      NaN  2.026000e+02    NaN   \n",
       "max        NaN  57458.000000      NaN      NaN  6.000000e+07    NaN   \n",
       "\n",
       "                          year        reclat       reclong GeoLocation  \n",
       "count                    45425  38401.000000  38401.000000       38401  \n",
       "unique                     266           NaN           NaN       17100  \n",
       "top     01/01/2003 12:00:00 AM           NaN           NaN  (0.0, 0.0)  \n",
       "freq                      3323           NaN           NaN        6214  \n",
       "mean                       NaN    -39.122580     61.074319         NaN  \n",
       "std                        NaN     46.378511     80.647298         NaN  \n",
       "min                        NaN    -87.366670   -165.433330         NaN  \n",
       "25%                        NaN    -76.714240      0.000000         NaN  \n",
       "50%                        NaN    -71.500000     35.666670         NaN  \n",
       "75%                        NaN      0.000000    157.166670         NaN  \n",
       "max                        NaN     81.166670    354.473330         NaN  "
      ]
     },
     "execution_count": 40,
     "metadata": {},
     "output_type": "execute_result"
    }
   ],
   "source": [
    "meteorites.describe(include='all')"
   ]
  },
  {
   "cell_type": "markdown",
   "id": "1bc16e99-4168-43e2-b770-e1939712c744",
   "metadata": {
    "slideshow": {
     "slide_type": "notes"
    }
   },
   "source": [
    "**Important**: `NaN` values signify missing data. For instance, the `fall` column contains strings, so there is no value for `mean`; likewise, `mass (g)` is numeric, so we don't have entries for the categorical summary statistics (`unique`, `top`, `freq`)."
   ]
  },
  {
   "cell_type": "markdown",
   "id": "23eb0e09-a60c-4228-a85f-cfbd7c414666",
   "metadata": {
    "slideshow": {
     "slide_type": "subslide"
    },
    "tags": []
   },
   "source": [
    "#### Check out the documentation for more descriptive statistics:\n",
    "\n",
    "- [Series](https://pandas.pydata.org/docs/reference/series.html#computations-descriptive-stats)\n",
    "- [DataFrame](https://pandas.pydata.org/docs/reference/frame.html#computations-descriptive-stats)"
   ]
  },
  {
   "cell_type": "markdown",
   "id": "c68358cf",
   "metadata": {
    "slideshow": {
     "slide_type": "subslide"
    }
   },
   "source": [
    "## Group-by operations"
   ]
  },
  {
   "cell_type": "markdown",
   "id": "636e9bee",
   "metadata": {},
   "source": [
    "Rather than perform aggregations, like `mean()` or `describe()`, on the full dataset at once, we can perform these calculations per group by first calling `groupby()`:"
   ]
  },
  {
   "cell_type": "code",
   "execution_count": 41,
   "id": "bf9db1f8",
   "metadata": {
    "slideshow": {
     "slide_type": "subslide"
    }
   },
   "outputs": [
    {
     "data": {
      "text/html": [
       "<div>\n",
       "<style scoped>\n",
       "    .dataframe tbody tr th:only-of-type {\n",
       "        vertical-align: middle;\n",
       "    }\n",
       "\n",
       "    .dataframe tbody tr th {\n",
       "        vertical-align: top;\n",
       "    }\n",
       "\n",
       "    .dataframe thead tr th {\n",
       "        text-align: left;\n",
       "    }\n",
       "\n",
       "    .dataframe thead tr:last-of-type th {\n",
       "        text-align: right;\n",
       "    }\n",
       "</style>\n",
       "<table border=\"1\" class=\"dataframe\">\n",
       "  <thead>\n",
       "    <tr>\n",
       "      <th></th>\n",
       "      <th colspan=\"8\" halign=\"left\">id</th>\n",
       "      <th colspan=\"2\" halign=\"left\">mass (g)</th>\n",
       "      <th>...</th>\n",
       "      <th colspan=\"2\" halign=\"left\">reclat</th>\n",
       "      <th colspan=\"8\" halign=\"left\">reclong</th>\n",
       "    </tr>\n",
       "    <tr>\n",
       "      <th></th>\n",
       "      <th>count</th>\n",
       "      <th>mean</th>\n",
       "      <th>std</th>\n",
       "      <th>min</th>\n",
       "      <th>25%</th>\n",
       "      <th>50%</th>\n",
       "      <th>75%</th>\n",
       "      <th>max</th>\n",
       "      <th>count</th>\n",
       "      <th>mean</th>\n",
       "      <th>...</th>\n",
       "      <th>75%</th>\n",
       "      <th>max</th>\n",
       "      <th>count</th>\n",
       "      <th>mean</th>\n",
       "      <th>std</th>\n",
       "      <th>min</th>\n",
       "      <th>25%</th>\n",
       "      <th>50%</th>\n",
       "      <th>75%</th>\n",
       "      <th>max</th>\n",
       "    </tr>\n",
       "    <tr>\n",
       "      <th>recclass</th>\n",
       "      <th></th>\n",
       "      <th></th>\n",
       "      <th></th>\n",
       "      <th></th>\n",
       "      <th></th>\n",
       "      <th></th>\n",
       "      <th></th>\n",
       "      <th></th>\n",
       "      <th></th>\n",
       "      <th></th>\n",
       "      <th></th>\n",
       "      <th></th>\n",
       "      <th></th>\n",
       "      <th></th>\n",
       "      <th></th>\n",
       "      <th></th>\n",
       "      <th></th>\n",
       "      <th></th>\n",
       "      <th></th>\n",
       "      <th></th>\n",
       "      <th></th>\n",
       "    </tr>\n",
       "  </thead>\n",
       "  <tbody>\n",
       "    <tr>\n",
       "      <th>Acapulcoite</th>\n",
       "      <td>54.0</td>\n",
       "      <td>27540.851852</td>\n",
       "      <td>17364.454850</td>\n",
       "      <td>10.0</td>\n",
       "      <td>16427.75</td>\n",
       "      <td>31242.0</td>\n",
       "      <td>38500.75</td>\n",
       "      <td>56689.0</td>\n",
       "      <td>54.0</td>\n",
       "      <td>490.424407</td>\n",
       "      <td>...</td>\n",
       "      <td>12.662498</td>\n",
       "      <td>35.23600</td>\n",
       "      <td>38.0</td>\n",
       "      <td>40.802177</td>\n",
       "      <td>96.847026</td>\n",
       "      <td>-141.50000</td>\n",
       "      <td>0.000000</td>\n",
       "      <td>30.833335</td>\n",
       "      <td>159.361125</td>\n",
       "      <td>160.41700</td>\n",
       "    </tr>\n",
       "    <tr>\n",
       "      <th>Acapulcoite/Lodranite</th>\n",
       "      <td>6.0</td>\n",
       "      <td>29920.333333</td>\n",
       "      <td>21322.728209</td>\n",
       "      <td>8041.0</td>\n",
       "      <td>11263.00</td>\n",
       "      <td>29408.5</td>\n",
       "      <td>48659.50</td>\n",
       "      <td>52373.0</td>\n",
       "      <td>6.0</td>\n",
       "      <td>31.793333</td>\n",
       "      <td>...</td>\n",
       "      <td>0.000000</td>\n",
       "      <td>0.00000</td>\n",
       "      <td>5.0</td>\n",
       "      <td>95.803296</td>\n",
       "      <td>87.469926</td>\n",
       "      <td>0.00000</td>\n",
       "      <td>0.000000</td>\n",
       "      <td>157.176110</td>\n",
       "      <td>160.491390</td>\n",
       "      <td>161.34898</td>\n",
       "    </tr>\n",
       "    <tr>\n",
       "      <th>Acapulcoite/lodranite</th>\n",
       "      <td>3.0</td>\n",
       "      <td>46316.000000</td>\n",
       "      <td>8881.227167</td>\n",
       "      <td>36290.0</td>\n",
       "      <td>42876.00</td>\n",
       "      <td>49462.0</td>\n",
       "      <td>51329.00</td>\n",
       "      <td>53196.0</td>\n",
       "      <td>3.0</td>\n",
       "      <td>44.933333</td>\n",
       "      <td>...</td>\n",
       "      <td>0.000000</td>\n",
       "      <td>0.00000</td>\n",
       "      <td>2.0</td>\n",
       "      <td>0.000000</td>\n",
       "      <td>0.000000</td>\n",
       "      <td>0.00000</td>\n",
       "      <td>0.000000</td>\n",
       "      <td>0.000000</td>\n",
       "      <td>0.000000</td>\n",
       "      <td>0.00000</td>\n",
       "    </tr>\n",
       "    <tr>\n",
       "      <th>Achondrite-prim</th>\n",
       "      <td>9.0</td>\n",
       "      <td>36680.000000</td>\n",
       "      <td>8512.903647</td>\n",
       "      <td>31230.0</td>\n",
       "      <td>31269.00</td>\n",
       "      <td>33299.0</td>\n",
       "      <td>33574.00</td>\n",
       "      <td>53843.0</td>\n",
       "      <td>9.0</td>\n",
       "      <td>1078.000000</td>\n",
       "      <td>...</td>\n",
       "      <td>0.000000</td>\n",
       "      <td>0.00000</td>\n",
       "      <td>3.0</td>\n",
       "      <td>0.000000</td>\n",
       "      <td>0.000000</td>\n",
       "      <td>0.00000</td>\n",
       "      <td>0.000000</td>\n",
       "      <td>0.000000</td>\n",
       "      <td>0.000000</td>\n",
       "      <td>0.00000</td>\n",
       "    </tr>\n",
       "    <tr>\n",
       "      <th>Achondrite-ung</th>\n",
       "      <td>57.0</td>\n",
       "      <td>41284.561404</td>\n",
       "      <td>15758.680448</td>\n",
       "      <td>4257.0</td>\n",
       "      <td>33357.00</td>\n",
       "      <td>47712.0</td>\n",
       "      <td>53609.00</td>\n",
       "      <td>57268.0</td>\n",
       "      <td>57.0</td>\n",
       "      <td>895.845614</td>\n",
       "      <td>...</td>\n",
       "      <td>0.000000</td>\n",
       "      <td>45.70000</td>\n",
       "      <td>37.0</td>\n",
       "      <td>15.765216</td>\n",
       "      <td>32.217549</td>\n",
       "      <td>-4.33333</td>\n",
       "      <td>0.000000</td>\n",
       "      <td>0.000000</td>\n",
       "      <td>26.000000</td>\n",
       "      <td>162.56681</td>\n",
       "    </tr>\n",
       "    <tr>\n",
       "      <th>...</th>\n",
       "      <td>...</td>\n",
       "      <td>...</td>\n",
       "      <td>...</td>\n",
       "      <td>...</td>\n",
       "      <td>...</td>\n",
       "      <td>...</td>\n",
       "      <td>...</td>\n",
       "      <td>...</td>\n",
       "      <td>...</td>\n",
       "      <td>...</td>\n",
       "      <td>...</td>\n",
       "      <td>...</td>\n",
       "      <td>...</td>\n",
       "      <td>...</td>\n",
       "      <td>...</td>\n",
       "      <td>...</td>\n",
       "      <td>...</td>\n",
       "      <td>...</td>\n",
       "      <td>...</td>\n",
       "      <td>...</td>\n",
       "      <td>...</td>\n",
       "    </tr>\n",
       "    <tr>\n",
       "      <th>Unknown</th>\n",
       "      <td>7.0</td>\n",
       "      <td>11619.285714</td>\n",
       "      <td>6561.200594</td>\n",
       "      <td>425.0</td>\n",
       "      <td>8808.00</td>\n",
       "      <td>12348.0</td>\n",
       "      <td>16417.50</td>\n",
       "      <td>18111.0</td>\n",
       "      <td>0.0</td>\n",
       "      <td>NaN</td>\n",
       "      <td>...</td>\n",
       "      <td>-7.216670</td>\n",
       "      <td>50.66667</td>\n",
       "      <td>5.0</td>\n",
       "      <td>44.340000</td>\n",
       "      <td>79.543348</td>\n",
       "      <td>-58.43333</td>\n",
       "      <td>2.333330</td>\n",
       "      <td>29.433330</td>\n",
       "      <td>122.000000</td>\n",
       "      <td>126.36667</td>\n",
       "    </tr>\n",
       "    <tr>\n",
       "      <th>Ureilite</th>\n",
       "      <td>300.0</td>\n",
       "      <td>28814.100000</td>\n",
       "      <td>17559.021207</td>\n",
       "      <td>285.0</td>\n",
       "      <td>11327.75</td>\n",
       "      <td>30954.0</td>\n",
       "      <td>45589.75</td>\n",
       "      <td>57374.0</td>\n",
       "      <td>300.0</td>\n",
       "      <td>490.014900</td>\n",
       "      <td>...</td>\n",
       "      <td>19.216908</td>\n",
       "      <td>60.24556</td>\n",
       "      <td>214.0</td>\n",
       "      <td>55.952609</td>\n",
       "      <td>70.744550</td>\n",
       "      <td>-141.50000</td>\n",
       "      <td>0.000000</td>\n",
       "      <td>35.666670</td>\n",
       "      <td>156.233510</td>\n",
       "      <td>175.00000</td>\n",
       "    </tr>\n",
       "    <tr>\n",
       "      <th>Ureilite-an</th>\n",
       "      <td>4.0</td>\n",
       "      <td>28119.750000</td>\n",
       "      <td>16106.130662</td>\n",
       "      <td>14511.0</td>\n",
       "      <td>15866.25</td>\n",
       "      <td>24526.5</td>\n",
       "      <td>36780.00</td>\n",
       "      <td>48915.0</td>\n",
       "      <td>4.0</td>\n",
       "      <td>1287.125000</td>\n",
       "      <td>...</td>\n",
       "      <td>-29.468790</td>\n",
       "      <td>20.74575</td>\n",
       "      <td>3.0</td>\n",
       "      <td>117.873990</td>\n",
       "      <td>74.016539</td>\n",
       "      <td>32.41275</td>\n",
       "      <td>96.081375</td>\n",
       "      <td>159.750000</td>\n",
       "      <td>160.604610</td>\n",
       "      <td>161.45922</td>\n",
       "    </tr>\n",
       "    <tr>\n",
       "      <th>Ureilite-pmict</th>\n",
       "      <td>23.0</td>\n",
       "      <td>20649.652174</td>\n",
       "      <td>16273.007538</td>\n",
       "      <td>5617.0</td>\n",
       "      <td>6364.00</td>\n",
       "      <td>16978.0</td>\n",
       "      <td>33546.00</td>\n",
       "      <td>52585.0</td>\n",
       "      <td>23.0</td>\n",
       "      <td>262.685652</td>\n",
       "      <td>...</td>\n",
       "      <td>27.033873</td>\n",
       "      <td>27.05417</td>\n",
       "      <td>18.0</td>\n",
       "      <td>65.349957</td>\n",
       "      <td>67.814906</td>\n",
       "      <td>0.00000</td>\n",
       "      <td>16.365830</td>\n",
       "      <td>16.390080</td>\n",
       "      <td>135.975000</td>\n",
       "      <td>160.53778</td>\n",
       "    </tr>\n",
       "    <tr>\n",
       "      <th>Winonaite</th>\n",
       "      <td>25.0</td>\n",
       "      <td>30857.640000</td>\n",
       "      <td>13966.904948</td>\n",
       "      <td>10169.0</td>\n",
       "      <td>20167.00</td>\n",
       "      <td>25346.0</td>\n",
       "      <td>44930.00</td>\n",
       "      <td>54512.0</td>\n",
       "      <td>25.0</td>\n",
       "      <td>1129.013200</td>\n",
       "      <td>...</td>\n",
       "      <td>20.499997</td>\n",
       "      <td>53.03639</td>\n",
       "      <td>18.0</td>\n",
       "      <td>7.926038</td>\n",
       "      <td>62.545438</td>\n",
       "      <td>-111.40000</td>\n",
       "      <td>-3.239580</td>\n",
       "      <td>0.000000</td>\n",
       "      <td>35.666670</td>\n",
       "      <td>168.00000</td>\n",
       "    </tr>\n",
       "  </tbody>\n",
       "</table>\n",
       "<p>466 rows × 32 columns</p>\n",
       "</div>"
      ],
      "text/plain": [
       "                          id                                                  \n",
       "                       count          mean           std      min       25%   \n",
       "recclass                                                                      \n",
       "Acapulcoite             54.0  27540.851852  17364.454850     10.0  16427.75  \\\n",
       "Acapulcoite/Lodranite    6.0  29920.333333  21322.728209   8041.0  11263.00   \n",
       "Acapulcoite/lodranite    3.0  46316.000000   8881.227167  36290.0  42876.00   \n",
       "Achondrite-prim          9.0  36680.000000   8512.903647  31230.0  31269.00   \n",
       "Achondrite-ung          57.0  41284.561404  15758.680448   4257.0  33357.00   \n",
       "...                      ...           ...           ...      ...       ...   \n",
       "Unknown                  7.0  11619.285714   6561.200594    425.0   8808.00   \n",
       "Ureilite               300.0  28814.100000  17559.021207    285.0  11327.75   \n",
       "Ureilite-an              4.0  28119.750000  16106.130662  14511.0  15866.25   \n",
       "Ureilite-pmict          23.0  20649.652174  16273.007538   5617.0   6364.00   \n",
       "Winonaite               25.0  30857.640000  13966.904948  10169.0  20167.00   \n",
       "\n",
       "                                                  mass (g)               ...   \n",
       "                           50%       75%      max    count         mean  ...   \n",
       "recclass                                                                 ...   \n",
       "Acapulcoite            31242.0  38500.75  56689.0     54.0   490.424407  ...  \\\n",
       "Acapulcoite/Lodranite  29408.5  48659.50  52373.0      6.0    31.793333  ...   \n",
       "Acapulcoite/lodranite  49462.0  51329.00  53196.0      3.0    44.933333  ...   \n",
       "Achondrite-prim        33299.0  33574.00  53843.0      9.0  1078.000000  ...   \n",
       "Achondrite-ung         47712.0  53609.00  57268.0     57.0   895.845614  ...   \n",
       "...                        ...       ...      ...      ...          ...  ...   \n",
       "Unknown                12348.0  16417.50  18111.0      0.0          NaN  ...   \n",
       "Ureilite               30954.0  45589.75  57374.0    300.0   490.014900  ...   \n",
       "Ureilite-an            24526.5  36780.00  48915.0      4.0  1287.125000  ...   \n",
       "Ureilite-pmict         16978.0  33546.00  52585.0     23.0   262.685652  ...   \n",
       "Winonaite              25346.0  44930.00  54512.0     25.0  1129.013200  ...   \n",
       "\n",
       "                          reclat           reclong                          \n",
       "                             75%       max   count        mean        std   \n",
       "recclass                                                                    \n",
       "Acapulcoite            12.662498  35.23600    38.0   40.802177  96.847026  \\\n",
       "Acapulcoite/Lodranite   0.000000   0.00000     5.0   95.803296  87.469926   \n",
       "Acapulcoite/lodranite   0.000000   0.00000     2.0    0.000000   0.000000   \n",
       "Achondrite-prim         0.000000   0.00000     3.0    0.000000   0.000000   \n",
       "Achondrite-ung          0.000000  45.70000    37.0   15.765216  32.217549   \n",
       "...                          ...       ...     ...         ...        ...   \n",
       "Unknown                -7.216670  50.66667     5.0   44.340000  79.543348   \n",
       "Ureilite               19.216908  60.24556   214.0   55.952609  70.744550   \n",
       "Ureilite-an           -29.468790  20.74575     3.0  117.873990  74.016539   \n",
       "Ureilite-pmict         27.033873  27.05417    18.0   65.349957  67.814906   \n",
       "Winonaite              20.499997  53.03639    18.0    7.926038  62.545438   \n",
       "\n",
       "                                                                                \n",
       "                             min        25%         50%         75%        max  \n",
       "recclass                                                                        \n",
       "Acapulcoite           -141.50000   0.000000   30.833335  159.361125  160.41700  \n",
       "Acapulcoite/Lodranite    0.00000   0.000000  157.176110  160.491390  161.34898  \n",
       "Acapulcoite/lodranite    0.00000   0.000000    0.000000    0.000000    0.00000  \n",
       "Achondrite-prim          0.00000   0.000000    0.000000    0.000000    0.00000  \n",
       "Achondrite-ung          -4.33333   0.000000    0.000000   26.000000  162.56681  \n",
       "...                          ...        ...         ...         ...        ...  \n",
       "Unknown                -58.43333   2.333330   29.433330  122.000000  126.36667  \n",
       "Ureilite              -141.50000   0.000000   35.666670  156.233510  175.00000  \n",
       "Ureilite-an             32.41275  96.081375  159.750000  160.604610  161.45922  \n",
       "Ureilite-pmict           0.00000  16.365830   16.390080  135.975000  160.53778  \n",
       "Winonaite             -111.40000  -3.239580    0.000000   35.666670  168.00000  \n",
       "\n",
       "[466 rows x 32 columns]"
      ]
     },
     "execution_count": 41,
     "metadata": {},
     "output_type": "execute_result"
    }
   ],
   "source": [
    "import numpy as np\n",
    "meteorites.groupby('recclass').describe(include=np.number)"
   ]
  },
  {
   "cell_type": "code",
   "execution_count": 42,
   "id": "771c8188",
   "metadata": {},
   "outputs": [
    {
     "data": {
      "text/plain": [
       "recclass\n",
       "Acapulcoite               490.424407\n",
       "Acapulcoite/Lodranite      31.793333\n",
       "Acapulcoite/lodranite      44.933333\n",
       "Achondrite-prim          1078.000000\n",
       "Achondrite-ung            895.845614\n",
       "Name: mass (g), dtype: float64"
      ]
     },
     "execution_count": 42,
     "metadata": {},
     "output_type": "execute_result"
    }
   ],
   "source": [
    "meteorites.groupby('recclass')['mass (g)'].mean().head()"
   ]
  },
  {
   "cell_type": "code",
   "execution_count": 43,
   "id": "213cf9c7",
   "metadata": {
    "slideshow": {
     "slide_type": "subslide"
    }
   },
   "outputs": [
    {
     "data": {
      "text/html": [
       "<div>\n",
       "<style scoped>\n",
       "    .dataframe tbody tr th:only-of-type {\n",
       "        vertical-align: middle;\n",
       "    }\n",
       "\n",
       "    .dataframe tbody tr th {\n",
       "        vertical-align: top;\n",
       "    }\n",
       "\n",
       "    .dataframe thead tr th {\n",
       "        text-align: left;\n",
       "    }\n",
       "\n",
       "    .dataframe thead tr:last-of-type th {\n",
       "        text-align: right;\n",
       "    }\n",
       "</style>\n",
       "<table border=\"1\" class=\"dataframe\">\n",
       "  <thead>\n",
       "    <tr>\n",
       "      <th></th>\n",
       "      <th colspan=\"2\" halign=\"left\">mass (g)</th>\n",
       "      <th>name</th>\n",
       "    </tr>\n",
       "    <tr>\n",
       "      <th></th>\n",
       "      <th>mean</th>\n",
       "      <th>std</th>\n",
       "      <th>count</th>\n",
       "    </tr>\n",
       "    <tr>\n",
       "      <th>recclass</th>\n",
       "      <th></th>\n",
       "      <th></th>\n",
       "      <th></th>\n",
       "    </tr>\n",
       "  </thead>\n",
       "  <tbody>\n",
       "    <tr>\n",
       "      <th>Acapulcoite</th>\n",
       "      <td>490.424407</td>\n",
       "      <td>1279.406632</td>\n",
       "      <td>54</td>\n",
       "    </tr>\n",
       "    <tr>\n",
       "      <th>Acapulcoite/Lodranite</th>\n",
       "      <td>31.793333</td>\n",
       "      <td>26.215771</td>\n",
       "      <td>6</td>\n",
       "    </tr>\n",
       "    <tr>\n",
       "      <th>Acapulcoite/lodranite</th>\n",
       "      <td>44.933333</td>\n",
       "      <td>73.678106</td>\n",
       "      <td>3</td>\n",
       "    </tr>\n",
       "    <tr>\n",
       "      <th>Achondrite-prim</th>\n",
       "      <td>1078.000000</td>\n",
       "      <td>1246.035613</td>\n",
       "      <td>9</td>\n",
       "    </tr>\n",
       "    <tr>\n",
       "      <th>Achondrite-ung</th>\n",
       "      <td>895.845614</td>\n",
       "      <td>2217.850529</td>\n",
       "      <td>57</td>\n",
       "    </tr>\n",
       "  </tbody>\n",
       "</table>\n",
       "</div>"
      ],
      "text/plain": [
       "                          mass (g)               name\n",
       "                              mean          std count\n",
       "recclass                                             \n",
       "Acapulcoite             490.424407  1279.406632    54\n",
       "Acapulcoite/Lodranite    31.793333    26.215771     6\n",
       "Acapulcoite/lodranite    44.933333    73.678106     3\n",
       "Achondrite-prim        1078.000000  1246.035613     9\n",
       "Achondrite-ung          895.845614  2217.850529    57"
      ]
     },
     "execution_count": 43,
     "metadata": {},
     "output_type": "execute_result"
    }
   ],
   "source": [
    "meteorites.groupby('recclass').agg({'mass (g)':['mean', 'std'], 'name': ['count']}).head()"
   ]
  },
  {
   "cell_type": "markdown",
   "id": "2f54371b",
   "metadata": {
    "slideshow": {
     "slide_type": "subslide"
    }
   },
   "source": [
    "We are only scratching the surface; some additional functionalities to be aware of include the following:\n",
    "- We can group by multiple columns &ndash; this creates a hierarchical index.\n",
    "- Groups can be excluded from calculations with the `filter()` method.\n",
    "- We can group on content in the index using the `level` or `name` parameters e.g., `groupby(level=0)` or `groupby(name='year')`.\n",
    "- We can group by date ranges if we use a `pd.Grouper()` object."
   ]
  },
  {
   "cell_type": "markdown",
   "id": "03ad7f69-c3e9-4ce8-a044-fd12502fd622",
   "metadata": {
    "slideshow": {
     "slide_type": "slide"
    },
    "tags": []
   },
   "source": [
    "# Lecture 13 - Pandas cont.: Data Wrangling\n"
   ]
  },
  {
   "cell_type": "markdown",
   "id": "bce897fa",
   "metadata": {
    "slideshow": {
     "slide_type": "fragment"
    }
   },
   "source": [
    "To prepare our data for analysis, we need to perform data wrangling. \n",
    "\n",
    "In this lecture, we will learn how to clean and reformat data (e.g., renaming columns and fixing data type mismatches), restructure/reshape it, and enrich it (e.g., discretizing columns, calculating aggregations, and combining data sources)."
   ]
  },
  {
   "cell_type": "markdown",
   "id": "d1acd617-c093-4406-9ea8-61289e29e12c",
   "metadata": {
    "slideshow": {
     "slide_type": "slide"
    },
    "tags": []
   },
   "source": [
    "## Data cleaning\n",
    "\n",
    "In this section, we will take a look at creating, renaming, and dropping columns; type conversion; and sorting &ndash; all of which make our analysis easier. We will be working with the 2019 Yellow Taxi Trip Data provided by NYC Open Data."
   ]
  },
  {
   "cell_type": "code",
   "execution_count": 1,
   "id": "c91ca2ea-c35b-455d-bbc9-312b47c864e4",
   "metadata": {
    "slideshow": {
     "slide_type": "subslide"
    }
   },
   "outputs": [
    {
     "data": {
      "text/html": [
       "<div>\n",
       "<style scoped>\n",
       "    .dataframe tbody tr th:only-of-type {\n",
       "        vertical-align: middle;\n",
       "    }\n",
       "\n",
       "    .dataframe tbody tr th {\n",
       "        vertical-align: top;\n",
       "    }\n",
       "\n",
       "    .dataframe thead th {\n",
       "        text-align: right;\n",
       "    }\n",
       "</style>\n",
       "<table border=\"1\" class=\"dataframe\">\n",
       "  <thead>\n",
       "    <tr style=\"text-align: right;\">\n",
       "      <th></th>\n",
       "      <th>vendorid</th>\n",
       "      <th>tpep_pickup_datetime</th>\n",
       "      <th>tpep_dropoff_datetime</th>\n",
       "      <th>passenger_count</th>\n",
       "      <th>trip_distance</th>\n",
       "      <th>ratecodeid</th>\n",
       "      <th>store_and_fwd_flag</th>\n",
       "      <th>pulocationid</th>\n",
       "      <th>dolocationid</th>\n",
       "      <th>payment_type</th>\n",
       "      <th>fare_amount</th>\n",
       "      <th>extra</th>\n",
       "      <th>mta_tax</th>\n",
       "      <th>tip_amount</th>\n",
       "      <th>tolls_amount</th>\n",
       "      <th>improvement_surcharge</th>\n",
       "      <th>total_amount</th>\n",
       "      <th>congestion_surcharge</th>\n",
       "    </tr>\n",
       "  </thead>\n",
       "  <tbody>\n",
       "    <tr>\n",
       "      <th>0</th>\n",
       "      <td>2</td>\n",
       "      <td>2019-10-23T16:39:42.000</td>\n",
       "      <td>2019-10-23T17:14:10.000</td>\n",
       "      <td>1</td>\n",
       "      <td>7.93</td>\n",
       "      <td>1</td>\n",
       "      <td>N</td>\n",
       "      <td>138</td>\n",
       "      <td>170</td>\n",
       "      <td>1</td>\n",
       "      <td>29.5</td>\n",
       "      <td>1.0</td>\n",
       "      <td>0.5</td>\n",
       "      <td>7.98</td>\n",
       "      <td>6.12</td>\n",
       "      <td>0.3</td>\n",
       "      <td>47.90</td>\n",
       "      <td>2.5</td>\n",
       "    </tr>\n",
       "    <tr>\n",
       "      <th>1</th>\n",
       "      <td>1</td>\n",
       "      <td>2019-10-23T16:32:08.000</td>\n",
       "      <td>2019-10-23T16:45:26.000</td>\n",
       "      <td>1</td>\n",
       "      <td>2.00</td>\n",
       "      <td>1</td>\n",
       "      <td>N</td>\n",
       "      <td>11</td>\n",
       "      <td>26</td>\n",
       "      <td>1</td>\n",
       "      <td>10.5</td>\n",
       "      <td>1.0</td>\n",
       "      <td>0.5</td>\n",
       "      <td>0.00</td>\n",
       "      <td>0.00</td>\n",
       "      <td>0.3</td>\n",
       "      <td>12.30</td>\n",
       "      <td>0.0</td>\n",
       "    </tr>\n",
       "    <tr>\n",
       "      <th>2</th>\n",
       "      <td>2</td>\n",
       "      <td>2019-10-23T16:08:44.000</td>\n",
       "      <td>2019-10-23T16:21:11.000</td>\n",
       "      <td>1</td>\n",
       "      <td>1.36</td>\n",
       "      <td>1</td>\n",
       "      <td>N</td>\n",
       "      <td>163</td>\n",
       "      <td>162</td>\n",
       "      <td>1</td>\n",
       "      <td>9.5</td>\n",
       "      <td>1.0</td>\n",
       "      <td>0.5</td>\n",
       "      <td>2.00</td>\n",
       "      <td>0.00</td>\n",
       "      <td>0.3</td>\n",
       "      <td>15.80</td>\n",
       "      <td>2.5</td>\n",
       "    </tr>\n",
       "    <tr>\n",
       "      <th>3</th>\n",
       "      <td>2</td>\n",
       "      <td>2019-10-23T16:22:44.000</td>\n",
       "      <td>2019-10-23T16:43:26.000</td>\n",
       "      <td>1</td>\n",
       "      <td>1.00</td>\n",
       "      <td>1</td>\n",
       "      <td>N</td>\n",
       "      <td>170</td>\n",
       "      <td>163</td>\n",
       "      <td>1</td>\n",
       "      <td>13.0</td>\n",
       "      <td>1.0</td>\n",
       "      <td>0.5</td>\n",
       "      <td>4.32</td>\n",
       "      <td>0.00</td>\n",
       "      <td>0.3</td>\n",
       "      <td>21.62</td>\n",
       "      <td>2.5</td>\n",
       "    </tr>\n",
       "    <tr>\n",
       "      <th>4</th>\n",
       "      <td>2</td>\n",
       "      <td>2019-10-23T16:45:11.000</td>\n",
       "      <td>2019-10-23T16:58:49.000</td>\n",
       "      <td>1</td>\n",
       "      <td>1.96</td>\n",
       "      <td>1</td>\n",
       "      <td>N</td>\n",
       "      <td>163</td>\n",
       "      <td>236</td>\n",
       "      <td>1</td>\n",
       "      <td>10.5</td>\n",
       "      <td>1.0</td>\n",
       "      <td>0.5</td>\n",
       "      <td>0.50</td>\n",
       "      <td>0.00</td>\n",
       "      <td>0.3</td>\n",
       "      <td>15.30</td>\n",
       "      <td>2.5</td>\n",
       "    </tr>\n",
       "  </tbody>\n",
       "</table>\n",
       "</div>"
      ],
      "text/plain": [
       "   vendorid     tpep_pickup_datetime    tpep_dropoff_datetime   \n",
       "0         2  2019-10-23T16:39:42.000  2019-10-23T17:14:10.000  \\\n",
       "1         1  2019-10-23T16:32:08.000  2019-10-23T16:45:26.000   \n",
       "2         2  2019-10-23T16:08:44.000  2019-10-23T16:21:11.000   \n",
       "3         2  2019-10-23T16:22:44.000  2019-10-23T16:43:26.000   \n",
       "4         2  2019-10-23T16:45:11.000  2019-10-23T16:58:49.000   \n",
       "\n",
       "   passenger_count  trip_distance  ratecodeid store_and_fwd_flag   \n",
       "0                1           7.93           1                  N  \\\n",
       "1                1           2.00           1                  N   \n",
       "2                1           1.36           1                  N   \n",
       "3                1           1.00           1                  N   \n",
       "4                1           1.96           1                  N   \n",
       "\n",
       "   pulocationid  dolocationid  payment_type  fare_amount  extra  mta_tax   \n",
       "0           138           170             1         29.5    1.0      0.5  \\\n",
       "1            11            26             1         10.5    1.0      0.5   \n",
       "2           163           162             1          9.5    1.0      0.5   \n",
       "3           170           163             1         13.0    1.0      0.5   \n",
       "4           163           236             1         10.5    1.0      0.5   \n",
       "\n",
       "   tip_amount  tolls_amount  improvement_surcharge  total_amount   \n",
       "0        7.98          6.12                    0.3         47.90  \\\n",
       "1        0.00          0.00                    0.3         12.30   \n",
       "2        2.00          0.00                    0.3         15.80   \n",
       "3        4.32          0.00                    0.3         21.62   \n",
       "4        0.50          0.00                    0.3         15.30   \n",
       "\n",
       "   congestion_surcharge  \n",
       "0                   2.5  \n",
       "1                   0.0  \n",
       "2                   2.5  \n",
       "3                   2.5  \n",
       "4                   2.5  "
      ]
     },
     "execution_count": 1,
     "metadata": {},
     "output_type": "execute_result"
    }
   ],
   "source": [
    "import pandas as pd\n",
    "\n",
    "taxis = pd.read_csv('public/2019_Yellow_Taxi_Trip_Data.csv')\n",
    "taxis.head()"
   ]
  },
  {
   "cell_type": "markdown",
   "id": "d65aa6c3-092a-4ed9-95aa-57e8ec41e131",
   "metadata": {},
   "source": [
    "*Source: [NYC Open Data](https://data.cityofnewyork.us/Transportation/2019-Yellow-Taxi-Trip-Data/2upf-qytp) collected via [SODA](https://dev.socrata.com/foundry/data.cityofnewyork.us/2upf-qytp).*"
   ]
  },
  {
   "cell_type": "markdown",
   "id": "79315a59-bc5b-4bd2-a25a-8f2de24217e2",
   "metadata": {
    "slideshow": {
     "slide_type": "subslide"
    },
    "tags": []
   },
   "source": [
    "### Dropping columns\n",
    "Let's start by dropping the ID columns and the `store_and_fwd_flag` column, which we won't be using."
   ]
  },
  {
   "cell_type": "code",
   "execution_count": 2,
   "id": "e782b52c-dc8c-4aac-ba6d-f3b3cd7b5f2c",
   "metadata": {
    "slideshow": {
     "slide_type": "fragment"
    },
    "tags": []
   },
   "outputs": [
    {
     "data": {
      "text/plain": [
       "Index(['vendorid', 'ratecodeid', 'store_and_fwd_flag', 'pulocationid',\n",
       "       'dolocationid'],\n",
       "      dtype='object')"
      ]
     },
     "execution_count": 2,
     "metadata": {},
     "output_type": "execute_result"
    }
   ],
   "source": [
    "mask = taxis.columns.str.contains('id$|store_and_fwd_flag', regex=True)\n",
    "columns_to_drop = taxis.columns[mask]\n",
    "columns_to_drop"
   ]
  },
  {
   "cell_type": "code",
   "execution_count": 3,
   "id": "bc0652f8-87af-43dd-82d0-07ba120b05f8",
   "metadata": {
    "slideshow": {
     "slide_type": "subslide"
    },
    "tags": []
   },
   "outputs": [
    {
     "data": {
      "text/html": [
       "<div>\n",
       "<style scoped>\n",
       "    .dataframe tbody tr th:only-of-type {\n",
       "        vertical-align: middle;\n",
       "    }\n",
       "\n",
       "    .dataframe tbody tr th {\n",
       "        vertical-align: top;\n",
       "    }\n",
       "\n",
       "    .dataframe thead th {\n",
       "        text-align: right;\n",
       "    }\n",
       "</style>\n",
       "<table border=\"1\" class=\"dataframe\">\n",
       "  <thead>\n",
       "    <tr style=\"text-align: right;\">\n",
       "      <th></th>\n",
       "      <th>tpep_pickup_datetime</th>\n",
       "      <th>tpep_dropoff_datetime</th>\n",
       "      <th>passenger_count</th>\n",
       "      <th>trip_distance</th>\n",
       "      <th>payment_type</th>\n",
       "      <th>fare_amount</th>\n",
       "      <th>extra</th>\n",
       "      <th>mta_tax</th>\n",
       "      <th>tip_amount</th>\n",
       "      <th>tolls_amount</th>\n",
       "      <th>improvement_surcharge</th>\n",
       "      <th>total_amount</th>\n",
       "      <th>congestion_surcharge</th>\n",
       "    </tr>\n",
       "  </thead>\n",
       "  <tbody>\n",
       "    <tr>\n",
       "      <th>0</th>\n",
       "      <td>2019-10-23T16:39:42.000</td>\n",
       "      <td>2019-10-23T17:14:10.000</td>\n",
       "      <td>1</td>\n",
       "      <td>7.93</td>\n",
       "      <td>1</td>\n",
       "      <td>29.5</td>\n",
       "      <td>1.0</td>\n",
       "      <td>0.5</td>\n",
       "      <td>7.98</td>\n",
       "      <td>6.12</td>\n",
       "      <td>0.3</td>\n",
       "      <td>47.90</td>\n",
       "      <td>2.5</td>\n",
       "    </tr>\n",
       "    <tr>\n",
       "      <th>1</th>\n",
       "      <td>2019-10-23T16:32:08.000</td>\n",
       "      <td>2019-10-23T16:45:26.000</td>\n",
       "      <td>1</td>\n",
       "      <td>2.00</td>\n",
       "      <td>1</td>\n",
       "      <td>10.5</td>\n",
       "      <td>1.0</td>\n",
       "      <td>0.5</td>\n",
       "      <td>0.00</td>\n",
       "      <td>0.00</td>\n",
       "      <td>0.3</td>\n",
       "      <td>12.30</td>\n",
       "      <td>0.0</td>\n",
       "    </tr>\n",
       "    <tr>\n",
       "      <th>2</th>\n",
       "      <td>2019-10-23T16:08:44.000</td>\n",
       "      <td>2019-10-23T16:21:11.000</td>\n",
       "      <td>1</td>\n",
       "      <td>1.36</td>\n",
       "      <td>1</td>\n",
       "      <td>9.5</td>\n",
       "      <td>1.0</td>\n",
       "      <td>0.5</td>\n",
       "      <td>2.00</td>\n",
       "      <td>0.00</td>\n",
       "      <td>0.3</td>\n",
       "      <td>15.80</td>\n",
       "      <td>2.5</td>\n",
       "    </tr>\n",
       "    <tr>\n",
       "      <th>3</th>\n",
       "      <td>2019-10-23T16:22:44.000</td>\n",
       "      <td>2019-10-23T16:43:26.000</td>\n",
       "      <td>1</td>\n",
       "      <td>1.00</td>\n",
       "      <td>1</td>\n",
       "      <td>13.0</td>\n",
       "      <td>1.0</td>\n",
       "      <td>0.5</td>\n",
       "      <td>4.32</td>\n",
       "      <td>0.00</td>\n",
       "      <td>0.3</td>\n",
       "      <td>21.62</td>\n",
       "      <td>2.5</td>\n",
       "    </tr>\n",
       "    <tr>\n",
       "      <th>4</th>\n",
       "      <td>2019-10-23T16:45:11.000</td>\n",
       "      <td>2019-10-23T16:58:49.000</td>\n",
       "      <td>1</td>\n",
       "      <td>1.96</td>\n",
       "      <td>1</td>\n",
       "      <td>10.5</td>\n",
       "      <td>1.0</td>\n",
       "      <td>0.5</td>\n",
       "      <td>0.50</td>\n",
       "      <td>0.00</td>\n",
       "      <td>0.3</td>\n",
       "      <td>15.30</td>\n",
       "      <td>2.5</td>\n",
       "    </tr>\n",
       "  </tbody>\n",
       "</table>\n",
       "</div>"
      ],
      "text/plain": [
       "      tpep_pickup_datetime    tpep_dropoff_datetime  passenger_count   \n",
       "0  2019-10-23T16:39:42.000  2019-10-23T17:14:10.000                1  \\\n",
       "1  2019-10-23T16:32:08.000  2019-10-23T16:45:26.000                1   \n",
       "2  2019-10-23T16:08:44.000  2019-10-23T16:21:11.000                1   \n",
       "3  2019-10-23T16:22:44.000  2019-10-23T16:43:26.000                1   \n",
       "4  2019-10-23T16:45:11.000  2019-10-23T16:58:49.000                1   \n",
       "\n",
       "   trip_distance  payment_type  fare_amount  extra  mta_tax  tip_amount   \n",
       "0           7.93             1         29.5    1.0      0.5        7.98  \\\n",
       "1           2.00             1         10.5    1.0      0.5        0.00   \n",
       "2           1.36             1          9.5    1.0      0.5        2.00   \n",
       "3           1.00             1         13.0    1.0      0.5        4.32   \n",
       "4           1.96             1         10.5    1.0      0.5        0.50   \n",
       "\n",
       "   tolls_amount  improvement_surcharge  total_amount  congestion_surcharge  \n",
       "0          6.12                    0.3         47.90                   2.5  \n",
       "1          0.00                    0.3         12.30                   0.0  \n",
       "2          0.00                    0.3         15.80                   2.5  \n",
       "3          0.00                    0.3         21.62                   2.5  \n",
       "4          0.00                    0.3         15.30                   2.5  "
      ]
     },
     "execution_count": 3,
     "metadata": {},
     "output_type": "execute_result"
    }
   ],
   "source": [
    "taxis = taxis.drop(columns=columns_to_drop)\n",
    "taxis.head()"
   ]
  },
  {
   "cell_type": "markdown",
   "id": "b6581776-8391-41a3-a7fa-c65af402da77",
   "metadata": {
    "slideshow": {
     "slide_type": "fragment"
    },
    "tags": []
   },
   "source": [
    "*Tip: Another way to do this is to select the columns we want to keep: `taxis.loc[:,~mask]`.*"
   ]
  },
  {
   "cell_type": "markdown",
   "id": "23cc920e-4af6-456b-a0ce-87ade2b189ac",
   "metadata": {
    "slideshow": {
     "slide_type": "subslide"
    },
    "tags": []
   },
   "source": [
    "### Renaming columns\n",
    "\n",
    "Next, let's rename the datetime columns:"
   ]
  },
  {
   "cell_type": "code",
   "execution_count": 4,
   "id": "32ec2dc4-c8c3-424d-ae36-d732907b9f59",
   "metadata": {},
   "outputs": [
    {
     "data": {
      "text/plain": [
       "Index(['pickup', 'dropoff', 'passenger_count', 'trip_distance', 'payment_type',\n",
       "       'fare_amount', 'extra', 'mta_tax', 'tip_amount', 'tolls_amount',\n",
       "       'improvement_surcharge', 'total_amount', 'congestion_surcharge'],\n",
       "      dtype='object')"
      ]
     },
     "execution_count": 4,
     "metadata": {},
     "output_type": "execute_result"
    }
   ],
   "source": [
    "taxis = taxis.rename(\n",
    "    columns={\n",
    "        'tpep_pickup_datetime': 'pickup', \n",
    "        'tpep_dropoff_datetime': 'dropoff'\n",
    "    }\n",
    ")\n",
    "taxis.columns"
   ]
  },
  {
   "cell_type": "markdown",
   "id": "d74d21a8-d733-4afa-a140-29ccdcd83b46",
   "metadata": {
    "slideshow": {
     "slide_type": "subslide"
    },
    "tags": []
   },
   "source": [
    "### Type conversion\n",
    "\n",
    "Notice anything off with the data types?"
   ]
  },
  {
   "cell_type": "code",
   "execution_count": 5,
   "id": "b5ff546c-4a66-4102-b947-1d9147e89369",
   "metadata": {},
   "outputs": [
    {
     "data": {
      "text/plain": [
       "pickup                    object\n",
       "dropoff                   object\n",
       "passenger_count            int64\n",
       "trip_distance            float64\n",
       "payment_type               int64\n",
       "fare_amount              float64\n",
       "extra                    float64\n",
       "mta_tax                  float64\n",
       "tip_amount               float64\n",
       "tolls_amount             float64\n",
       "improvement_surcharge    float64\n",
       "total_amount             float64\n",
       "congestion_surcharge     float64\n",
       "dtype: object"
      ]
     },
     "execution_count": 5,
     "metadata": {},
     "output_type": "execute_result"
    }
   ],
   "source": [
    "taxis.dtypes"
   ]
  },
  {
   "cell_type": "markdown",
   "id": "fa644cbb-24dd-4a62-a350-f773c54c50fe",
   "metadata": {
    "slideshow": {
     "slide_type": "subslide"
    },
    "tags": []
   },
   "source": [
    "Both `pickup` and `dropoff` should be stored as datetimes. Let's fix this:"
   ]
  },
  {
   "cell_type": "code",
   "execution_count": 6,
   "id": "01299409-aace-4d41-bea5-7bd40a85e620",
   "metadata": {},
   "outputs": [
    {
     "data": {
      "text/plain": [
       "pickup                   datetime64[ns]\n",
       "dropoff                  datetime64[ns]\n",
       "passenger_count                   int64\n",
       "trip_distance                   float64\n",
       "payment_type                      int64\n",
       "fare_amount                     float64\n",
       "extra                           float64\n",
       "mta_tax                         float64\n",
       "tip_amount                      float64\n",
       "tolls_amount                    float64\n",
       "improvement_surcharge           float64\n",
       "total_amount                    float64\n",
       "congestion_surcharge            float64\n",
       "dtype: object"
      ]
     },
     "execution_count": 6,
     "metadata": {},
     "output_type": "execute_result"
    }
   ],
   "source": [
    "taxis[['pickup', 'dropoff']] = taxis[['pickup', 'dropoff']].apply(pd.to_datetime)\n",
    "taxis.dtypes"
   ]
  },
  {
   "cell_type": "markdown",
   "id": "837ea457-45d8-4dae-aa0e-746be381f4da",
   "metadata": {
    "slideshow": {
     "slide_type": "notes"
    }
   },
   "source": [
    "*Tip: There are other ways to perform type conversion. For numeric values, we can use the `pd.to_numeric()` function, and we will see the `astype()` method, which is a more generic method, a little later.*"
   ]
  },
  {
   "cell_type": "markdown",
   "id": "5a8fafca-8cf2-4402-ab34-758dabe955e2",
   "metadata": {
    "slideshow": {
     "slide_type": "subslide"
    },
    "tags": []
   },
   "source": [
    "### Creating new columns\n",
    "\n",
    "Let's calculate the following for each row:\n",
    "\n",
    "1. elapsed time of the trip\n",
    "2. the tip percentage\n",
    "3. the total taxes, tolls, fees, and surcharges\n",
    "4. the average speed of the taxi"
   ]
  },
  {
   "cell_type": "code",
   "execution_count": 7,
   "id": "644ba83f-f834-4296-971e-5e7b07b955a8",
   "metadata": {
    "slideshow": {
     "slide_type": "fragment"
    },
    "tags": []
   },
   "outputs": [],
   "source": [
    "taxis = taxis.assign(\n",
    "    elapsed_time=lambda x: x.dropoff - x.pickup, # 1\n",
    "    cost_before_tip=lambda x: x.total_amount - x.tip_amount,\n",
    "    tip_pct=lambda x: x.tip_amount / x.cost_before_tip, # 2\n",
    "    fees=lambda x: x.cost_before_tip - x.fare_amount, # 3\n",
    "    avg_speed=lambda x: x.trip_distance.div(\n",
    "        x.elapsed_time.dt.total_seconds() / 60 / 60\n",
    "    ) # 4\n",
    ")"
   ]
  },
  {
   "cell_type": "markdown",
   "id": "b0b2af8a-0727-4e08-a07d-64ddb73a71dd",
   "metadata": {
    "slideshow": {
     "slide_type": "subslide"
    },
    "tags": []
   },
   "source": [
    "Our new columns get added to the right:"
   ]
  },
  {
   "cell_type": "code",
   "execution_count": 8,
   "id": "ec0a2df8-4f40-4bb0-8cd8-0f558d218fd6",
   "metadata": {},
   "outputs": [
    {
     "data": {
      "text/html": [
       "<div>\n",
       "<style scoped>\n",
       "    .dataframe tbody tr th:only-of-type {\n",
       "        vertical-align: middle;\n",
       "    }\n",
       "\n",
       "    .dataframe tbody tr th {\n",
       "        vertical-align: top;\n",
       "    }\n",
       "\n",
       "    .dataframe thead th {\n",
       "        text-align: right;\n",
       "    }\n",
       "</style>\n",
       "<table border=\"1\" class=\"dataframe\">\n",
       "  <thead>\n",
       "    <tr style=\"text-align: right;\">\n",
       "      <th></th>\n",
       "      <th>pickup</th>\n",
       "      <th>dropoff</th>\n",
       "      <th>passenger_count</th>\n",
       "      <th>trip_distance</th>\n",
       "      <th>payment_type</th>\n",
       "      <th>fare_amount</th>\n",
       "      <th>extra</th>\n",
       "      <th>mta_tax</th>\n",
       "      <th>tip_amount</th>\n",
       "      <th>tolls_amount</th>\n",
       "      <th>improvement_surcharge</th>\n",
       "      <th>total_amount</th>\n",
       "      <th>congestion_surcharge</th>\n",
       "      <th>elapsed_time</th>\n",
       "      <th>cost_before_tip</th>\n",
       "      <th>tip_pct</th>\n",
       "      <th>fees</th>\n",
       "      <th>avg_speed</th>\n",
       "    </tr>\n",
       "  </thead>\n",
       "  <tbody>\n",
       "    <tr>\n",
       "      <th>0</th>\n",
       "      <td>2019-10-23 16:39:42</td>\n",
       "      <td>2019-10-23 17:14:10</td>\n",
       "      <td>1</td>\n",
       "      <td>7.93</td>\n",
       "      <td>1</td>\n",
       "      <td>29.5</td>\n",
       "      <td>1.0</td>\n",
       "      <td>0.5</td>\n",
       "      <td>7.98</td>\n",
       "      <td>6.12</td>\n",
       "      <td>0.3</td>\n",
       "      <td>47.9</td>\n",
       "      <td>2.5</td>\n",
       "      <td>0 days 00:34:28</td>\n",
       "      <td>39.92</td>\n",
       "      <td>0.1999</td>\n",
       "      <td>10.42</td>\n",
       "      <td>13.804642</td>\n",
       "    </tr>\n",
       "    <tr>\n",
       "      <th>1</th>\n",
       "      <td>2019-10-23 16:32:08</td>\n",
       "      <td>2019-10-23 16:45:26</td>\n",
       "      <td>1</td>\n",
       "      <td>2.00</td>\n",
       "      <td>1</td>\n",
       "      <td>10.5</td>\n",
       "      <td>1.0</td>\n",
       "      <td>0.5</td>\n",
       "      <td>0.00</td>\n",
       "      <td>0.00</td>\n",
       "      <td>0.3</td>\n",
       "      <td>12.3</td>\n",
       "      <td>0.0</td>\n",
       "      <td>0 days 00:13:18</td>\n",
       "      <td>12.30</td>\n",
       "      <td>0.0000</td>\n",
       "      <td>1.80</td>\n",
       "      <td>9.022556</td>\n",
       "    </tr>\n",
       "  </tbody>\n",
       "</table>\n",
       "</div>"
      ],
      "text/plain": [
       "               pickup             dropoff  passenger_count  trip_distance   \n",
       "0 2019-10-23 16:39:42 2019-10-23 17:14:10                1           7.93  \\\n",
       "1 2019-10-23 16:32:08 2019-10-23 16:45:26                1           2.00   \n",
       "\n",
       "   payment_type  fare_amount  extra  mta_tax  tip_amount  tolls_amount   \n",
       "0             1         29.5    1.0      0.5        7.98          6.12  \\\n",
       "1             1         10.5    1.0      0.5        0.00          0.00   \n",
       "\n",
       "   improvement_surcharge  total_amount  congestion_surcharge    elapsed_time   \n",
       "0                    0.3          47.9                   2.5 0 days 00:34:28  \\\n",
       "1                    0.3          12.3                   0.0 0 days 00:13:18   \n",
       "\n",
       "   cost_before_tip  tip_pct   fees  avg_speed  \n",
       "0            39.92   0.1999  10.42  13.804642  \n",
       "1            12.30   0.0000   1.80   9.022556  "
      ]
     },
     "execution_count": 8,
     "metadata": {},
     "output_type": "execute_result"
    }
   ],
   "source": [
    "taxis.head(2)"
   ]
  },
  {
   "cell_type": "markdown",
   "id": "15049dfd-dd9e-4365-8ecf-0a74f5fe3498",
   "metadata": {
    "slideshow": {
     "slide_type": "subslide"
    },
    "tags": []
   },
   "source": [
    "Some things to note:\n",
    "- We used `lambda` functions to 1) avoid typing `taxis` repeatedly and 2) be able to access the `cost_before_tip` and `elapsed_time` columns in the same method that we create them.\n",
    "- To create a single new column, we can also use `df['new_col'] = <values>`."
   ]
  },
  {
   "cell_type": "markdown",
   "id": "f1ebce53-9f31-4aa0-806d-a1a9fa43ece1",
   "metadata": {
    "slideshow": {
     "slide_type": "subslide"
    },
    "tags": []
   },
   "source": [
    "### Sorting by values\n",
    "\n",
    "We can use the `sort_values()` method to sort based on any number of columns:"
   ]
  },
  {
   "cell_type": "code",
   "execution_count": 9,
   "id": "77dbdd94-e6b7-4fb9-b6b1-718633b0a38a",
   "metadata": {},
   "outputs": [
    {
     "data": {
      "text/html": [
       "<div>\n",
       "<style scoped>\n",
       "    .dataframe tbody tr th:only-of-type {\n",
       "        vertical-align: middle;\n",
       "    }\n",
       "\n",
       "    .dataframe tbody tr th {\n",
       "        vertical-align: top;\n",
       "    }\n",
       "\n",
       "    .dataframe thead th {\n",
       "        text-align: right;\n",
       "    }\n",
       "</style>\n",
       "<table border=\"1\" class=\"dataframe\">\n",
       "  <thead>\n",
       "    <tr style=\"text-align: right;\">\n",
       "      <th></th>\n",
       "      <th>pickup</th>\n",
       "      <th>dropoff</th>\n",
       "      <th>passenger_count</th>\n",
       "      <th>trip_distance</th>\n",
       "      <th>payment_type</th>\n",
       "      <th>fare_amount</th>\n",
       "      <th>extra</th>\n",
       "      <th>mta_tax</th>\n",
       "      <th>tip_amount</th>\n",
       "      <th>tolls_amount</th>\n",
       "      <th>improvement_surcharge</th>\n",
       "      <th>total_amount</th>\n",
       "      <th>congestion_surcharge</th>\n",
       "      <th>elapsed_time</th>\n",
       "      <th>cost_before_tip</th>\n",
       "      <th>tip_pct</th>\n",
       "      <th>fees</th>\n",
       "      <th>avg_speed</th>\n",
       "    </tr>\n",
       "  </thead>\n",
       "  <tbody>\n",
       "    <tr>\n",
       "      <th>5997</th>\n",
       "      <td>2019-10-23 15:55:19</td>\n",
       "      <td>2019-10-23 16:08:25</td>\n",
       "      <td>6</td>\n",
       "      <td>1.58</td>\n",
       "      <td>2</td>\n",
       "      <td>10.0</td>\n",
       "      <td>1.0</td>\n",
       "      <td>0.5</td>\n",
       "      <td>0.0</td>\n",
       "      <td>0.0</td>\n",
       "      <td>0.3</td>\n",
       "      <td>14.3</td>\n",
       "      <td>2.5</td>\n",
       "      <td>0 days 00:13:06</td>\n",
       "      <td>14.3</td>\n",
       "      <td>0.000000</td>\n",
       "      <td>4.3</td>\n",
       "      <td>7.236641</td>\n",
       "    </tr>\n",
       "    <tr>\n",
       "      <th>443</th>\n",
       "      <td>2019-10-23 15:56:59</td>\n",
       "      <td>2019-10-23 16:04:33</td>\n",
       "      <td>6</td>\n",
       "      <td>1.46</td>\n",
       "      <td>2</td>\n",
       "      <td>7.5</td>\n",
       "      <td>1.0</td>\n",
       "      <td>0.5</td>\n",
       "      <td>0.0</td>\n",
       "      <td>0.0</td>\n",
       "      <td>0.3</td>\n",
       "      <td>11.8</td>\n",
       "      <td>2.5</td>\n",
       "      <td>0 days 00:07:34</td>\n",
       "      <td>11.8</td>\n",
       "      <td>0.000000</td>\n",
       "      <td>4.3</td>\n",
       "      <td>11.577093</td>\n",
       "    </tr>\n",
       "    <tr>\n",
       "      <th>8722</th>\n",
       "      <td>2019-10-23 15:57:33</td>\n",
       "      <td>2019-10-23 16:03:34</td>\n",
       "      <td>6</td>\n",
       "      <td>0.62</td>\n",
       "      <td>1</td>\n",
       "      <td>5.5</td>\n",
       "      <td>1.0</td>\n",
       "      <td>0.5</td>\n",
       "      <td>0.7</td>\n",
       "      <td>0.0</td>\n",
       "      <td>0.3</td>\n",
       "      <td>10.5</td>\n",
       "      <td>2.5</td>\n",
       "      <td>0 days 00:06:01</td>\n",
       "      <td>9.8</td>\n",
       "      <td>0.071429</td>\n",
       "      <td>4.3</td>\n",
       "      <td>6.182825</td>\n",
       "    </tr>\n",
       "    <tr>\n",
       "      <th>4198</th>\n",
       "      <td>2019-10-23 15:57:38</td>\n",
       "      <td>2019-10-23 16:05:07</td>\n",
       "      <td>6</td>\n",
       "      <td>1.18</td>\n",
       "      <td>1</td>\n",
       "      <td>7.0</td>\n",
       "      <td>1.0</td>\n",
       "      <td>0.5</td>\n",
       "      <td>1.0</td>\n",
       "      <td>0.0</td>\n",
       "      <td>0.3</td>\n",
       "      <td>12.3</td>\n",
       "      <td>2.5</td>\n",
       "      <td>0 days 00:07:29</td>\n",
       "      <td>11.3</td>\n",
       "      <td>0.088496</td>\n",
       "      <td>4.3</td>\n",
       "      <td>9.461024</td>\n",
       "    </tr>\n",
       "    <tr>\n",
       "      <th>8238</th>\n",
       "      <td>2019-10-23 15:58:31</td>\n",
       "      <td>2019-10-23 16:29:29</td>\n",
       "      <td>6</td>\n",
       "      <td>3.23</td>\n",
       "      <td>2</td>\n",
       "      <td>19.5</td>\n",
       "      <td>1.0</td>\n",
       "      <td>0.5</td>\n",
       "      <td>0.0</td>\n",
       "      <td>0.0</td>\n",
       "      <td>0.3</td>\n",
       "      <td>23.8</td>\n",
       "      <td>2.5</td>\n",
       "      <td>0 days 00:30:58</td>\n",
       "      <td>23.8</td>\n",
       "      <td>0.000000</td>\n",
       "      <td>4.3</td>\n",
       "      <td>6.258342</td>\n",
       "    </tr>\n",
       "  </tbody>\n",
       "</table>\n",
       "</div>"
      ],
      "text/plain": [
       "                  pickup             dropoff  passenger_count  trip_distance   \n",
       "5997 2019-10-23 15:55:19 2019-10-23 16:08:25                6           1.58  \\\n",
       "443  2019-10-23 15:56:59 2019-10-23 16:04:33                6           1.46   \n",
       "8722 2019-10-23 15:57:33 2019-10-23 16:03:34                6           0.62   \n",
       "4198 2019-10-23 15:57:38 2019-10-23 16:05:07                6           1.18   \n",
       "8238 2019-10-23 15:58:31 2019-10-23 16:29:29                6           3.23   \n",
       "\n",
       "      payment_type  fare_amount  extra  mta_tax  tip_amount  tolls_amount   \n",
       "5997             2         10.0    1.0      0.5         0.0           0.0  \\\n",
       "443              2          7.5    1.0      0.5         0.0           0.0   \n",
       "8722             1          5.5    1.0      0.5         0.7           0.0   \n",
       "4198             1          7.0    1.0      0.5         1.0           0.0   \n",
       "8238             2         19.5    1.0      0.5         0.0           0.0   \n",
       "\n",
       "      improvement_surcharge  total_amount  congestion_surcharge   \n",
       "5997                    0.3          14.3                   2.5  \\\n",
       "443                     0.3          11.8                   2.5   \n",
       "8722                    0.3          10.5                   2.5   \n",
       "4198                    0.3          12.3                   2.5   \n",
       "8238                    0.3          23.8                   2.5   \n",
       "\n",
       "        elapsed_time  cost_before_tip   tip_pct  fees  avg_speed  \n",
       "5997 0 days 00:13:06             14.3  0.000000   4.3   7.236641  \n",
       "443  0 days 00:07:34             11.8  0.000000   4.3  11.577093  \n",
       "8722 0 days 00:06:01              9.8  0.071429   4.3   6.182825  \n",
       "4198 0 days 00:07:29             11.3  0.088496   4.3   9.461024  \n",
       "8238 0 days 00:30:58             23.8  0.000000   4.3   6.258342  "
      ]
     },
     "execution_count": 9,
     "metadata": {},
     "output_type": "execute_result"
    }
   ],
   "source": [
    "taxis.sort_values(['passenger_count', 'pickup'], ascending=[False, True]).head()"
   ]
  },
  {
   "cell_type": "markdown",
   "id": "e8d98a7c-7f12-43b7-9450-f0c0fa3162d3",
   "metadata": {
    "slideshow": {
     "slide_type": "subslide"
    },
    "tags": []
   },
   "source": [
    "To pick out the largest/smallest rows, use `nlargest()` / `nsmallest()` instead. Looking at the 3 trips with the longest elapsed time, we see some possible data integrity issues:"
   ]
  },
  {
   "cell_type": "code",
   "execution_count": 10,
   "id": "e1a26519-acb9-49e5-af1c-f5b055413bf8",
   "metadata": {
    "scrolled": true
   },
   "outputs": [
    {
     "data": {
      "text/html": [
       "<div>\n",
       "<style scoped>\n",
       "    .dataframe tbody tr th:only-of-type {\n",
       "        vertical-align: middle;\n",
       "    }\n",
       "\n",
       "    .dataframe tbody tr th {\n",
       "        vertical-align: top;\n",
       "    }\n",
       "\n",
       "    .dataframe thead th {\n",
       "        text-align: right;\n",
       "    }\n",
       "</style>\n",
       "<table border=\"1\" class=\"dataframe\">\n",
       "  <thead>\n",
       "    <tr style=\"text-align: right;\">\n",
       "      <th></th>\n",
       "      <th>pickup</th>\n",
       "      <th>dropoff</th>\n",
       "      <th>passenger_count</th>\n",
       "      <th>trip_distance</th>\n",
       "      <th>payment_type</th>\n",
       "      <th>fare_amount</th>\n",
       "      <th>extra</th>\n",
       "      <th>mta_tax</th>\n",
       "      <th>tip_amount</th>\n",
       "      <th>tolls_amount</th>\n",
       "      <th>improvement_surcharge</th>\n",
       "      <th>total_amount</th>\n",
       "      <th>congestion_surcharge</th>\n",
       "      <th>elapsed_time</th>\n",
       "      <th>cost_before_tip</th>\n",
       "      <th>tip_pct</th>\n",
       "      <th>fees</th>\n",
       "      <th>avg_speed</th>\n",
       "    </tr>\n",
       "  </thead>\n",
       "  <tbody>\n",
       "    <tr>\n",
       "      <th>7576</th>\n",
       "      <td>2019-10-23 16:52:51</td>\n",
       "      <td>2019-10-24 16:51:44</td>\n",
       "      <td>1</td>\n",
       "      <td>3.75</td>\n",
       "      <td>1</td>\n",
       "      <td>17.5</td>\n",
       "      <td>1.0</td>\n",
       "      <td>0.5</td>\n",
       "      <td>0.0</td>\n",
       "      <td>0.0</td>\n",
       "      <td>0.3</td>\n",
       "      <td>21.8</td>\n",
       "      <td>2.5</td>\n",
       "      <td>0 days 23:58:53</td>\n",
       "      <td>21.8</td>\n",
       "      <td>0.0</td>\n",
       "      <td>4.3</td>\n",
       "      <td>0.156371</td>\n",
       "    </tr>\n",
       "    <tr>\n",
       "      <th>6902</th>\n",
       "      <td>2019-10-23 16:51:42</td>\n",
       "      <td>2019-10-24 16:50:22</td>\n",
       "      <td>1</td>\n",
       "      <td>11.19</td>\n",
       "      <td>2</td>\n",
       "      <td>39.5</td>\n",
       "      <td>1.0</td>\n",
       "      <td>0.5</td>\n",
       "      <td>0.0</td>\n",
       "      <td>0.0</td>\n",
       "      <td>0.3</td>\n",
       "      <td>41.3</td>\n",
       "      <td>0.0</td>\n",
       "      <td>0 days 23:58:40</td>\n",
       "      <td>41.3</td>\n",
       "      <td>0.0</td>\n",
       "      <td>1.8</td>\n",
       "      <td>0.466682</td>\n",
       "    </tr>\n",
       "    <tr>\n",
       "      <th>4975</th>\n",
       "      <td>2019-10-23 16:18:51</td>\n",
       "      <td>2019-10-24 16:17:30</td>\n",
       "      <td>1</td>\n",
       "      <td>0.70</td>\n",
       "      <td>2</td>\n",
       "      <td>7.0</td>\n",
       "      <td>1.0</td>\n",
       "      <td>0.5</td>\n",
       "      <td>0.0</td>\n",
       "      <td>0.0</td>\n",
       "      <td>0.3</td>\n",
       "      <td>11.3</td>\n",
       "      <td>2.5</td>\n",
       "      <td>0 days 23:58:39</td>\n",
       "      <td>11.3</td>\n",
       "      <td>0.0</td>\n",
       "      <td>4.3</td>\n",
       "      <td>0.029194</td>\n",
       "    </tr>\n",
       "  </tbody>\n",
       "</table>\n",
       "</div>"
      ],
      "text/plain": [
       "                  pickup             dropoff  passenger_count  trip_distance   \n",
       "7576 2019-10-23 16:52:51 2019-10-24 16:51:44                1           3.75  \\\n",
       "6902 2019-10-23 16:51:42 2019-10-24 16:50:22                1          11.19   \n",
       "4975 2019-10-23 16:18:51 2019-10-24 16:17:30                1           0.70   \n",
       "\n",
       "      payment_type  fare_amount  extra  mta_tax  tip_amount  tolls_amount   \n",
       "7576             1         17.5    1.0      0.5         0.0           0.0  \\\n",
       "6902             2         39.5    1.0      0.5         0.0           0.0   \n",
       "4975             2          7.0    1.0      0.5         0.0           0.0   \n",
       "\n",
       "      improvement_surcharge  total_amount  congestion_surcharge   \n",
       "7576                    0.3          21.8                   2.5  \\\n",
       "6902                    0.3          41.3                   0.0   \n",
       "4975                    0.3          11.3                   2.5   \n",
       "\n",
       "        elapsed_time  cost_before_tip  tip_pct  fees  avg_speed  \n",
       "7576 0 days 23:58:53             21.8      0.0   4.3   0.156371  \n",
       "6902 0 days 23:58:40             41.3      0.0   1.8   0.466682  \n",
       "4975 0 days 23:58:39             11.3      0.0   4.3   0.029194  "
      ]
     },
     "execution_count": 10,
     "metadata": {},
     "output_type": "execute_result"
    }
   ],
   "source": [
    "taxis.nlargest(3, 'elapsed_time')"
   ]
  },
  {
   "cell_type": "markdown",
   "id": "8b41d003",
   "metadata": {
    "slideshow": {
     "slide_type": "subslide"
    }
   },
   "source": [
    "### Exercise 1.\n",
    "\n",
    "Read in the meteorite data from the `Meteorite_Landings.csv` file, rename the `mass (g)` column to `mass`, and drop all the latitude and longitude columns. Sort the result by mass in descending order."
   ]
  },
  {
   "cell_type": "code",
   "execution_count": 11,
   "id": "51e65953",
   "metadata": {},
   "outputs": [],
   "source": [
    "df=pd.read_csv(\"public/Meteorite_Landings.csv\")\n",
    "df = df.rename(columns={\"mass (g)\": \"mass\"}).drop(columns=['reclat', 'reclong'])\n",
    "df = df.sort_values('mass', ascending=False)"
   ]
  },
  {
   "cell_type": "markdown",
   "id": "97d61c46-b1f4-4531-8a2c-0ac8fcce6007",
   "metadata": {
    "slideshow": {
     "slide_type": "slide"
    },
    "tags": []
   },
   "source": [
    "## Working with the index\n",
    "\n",
    "So far, we haven't really worked with the index because it's just been a row number; however, we can change the values we have in the index to access additional features of the pandas library."
   ]
  },
  {
   "cell_type": "markdown",
   "id": "cacbf64c-6356-4a2d-8a86-bd143d42914d",
   "metadata": {
    "slideshow": {
     "slide_type": "subslide"
    },
    "tags": []
   },
   "source": [
    "### Setting and sorting the index\n",
    "\n",
    "Currently, we have a RangeIndex, but we can switch to a DatetimeIndex by specifying a datetime column when calling `set_index()`:"
   ]
  },
  {
   "cell_type": "code",
   "execution_count": 12,
   "id": "223e2254-fef2-463f-841b-7b62e04cab4b",
   "metadata": {},
   "outputs": [
    {
     "data": {
      "text/html": [
       "<div>\n",
       "<style scoped>\n",
       "    .dataframe tbody tr th:only-of-type {\n",
       "        vertical-align: middle;\n",
       "    }\n",
       "\n",
       "    .dataframe tbody tr th {\n",
       "        vertical-align: top;\n",
       "    }\n",
       "\n",
       "    .dataframe thead th {\n",
       "        text-align: right;\n",
       "    }\n",
       "</style>\n",
       "<table border=\"1\" class=\"dataframe\">\n",
       "  <thead>\n",
       "    <tr style=\"text-align: right;\">\n",
       "      <th></th>\n",
       "      <th>dropoff</th>\n",
       "      <th>passenger_count</th>\n",
       "      <th>trip_distance</th>\n",
       "      <th>payment_type</th>\n",
       "      <th>fare_amount</th>\n",
       "      <th>extra</th>\n",
       "      <th>mta_tax</th>\n",
       "      <th>tip_amount</th>\n",
       "      <th>tolls_amount</th>\n",
       "      <th>improvement_surcharge</th>\n",
       "      <th>total_amount</th>\n",
       "      <th>congestion_surcharge</th>\n",
       "      <th>elapsed_time</th>\n",
       "      <th>cost_before_tip</th>\n",
       "      <th>tip_pct</th>\n",
       "      <th>fees</th>\n",
       "      <th>avg_speed</th>\n",
       "    </tr>\n",
       "    <tr>\n",
       "      <th>pickup</th>\n",
       "      <th></th>\n",
       "      <th></th>\n",
       "      <th></th>\n",
       "      <th></th>\n",
       "      <th></th>\n",
       "      <th></th>\n",
       "      <th></th>\n",
       "      <th></th>\n",
       "      <th></th>\n",
       "      <th></th>\n",
       "      <th></th>\n",
       "      <th></th>\n",
       "      <th></th>\n",
       "      <th></th>\n",
       "      <th></th>\n",
       "      <th></th>\n",
       "      <th></th>\n",
       "    </tr>\n",
       "  </thead>\n",
       "  <tbody>\n",
       "    <tr>\n",
       "      <th>2019-10-23 16:39:42</th>\n",
       "      <td>2019-10-23 17:14:10</td>\n",
       "      <td>1</td>\n",
       "      <td>7.93</td>\n",
       "      <td>1</td>\n",
       "      <td>29.5</td>\n",
       "      <td>1.0</td>\n",
       "      <td>0.5</td>\n",
       "      <td>7.98</td>\n",
       "      <td>6.12</td>\n",
       "      <td>0.3</td>\n",
       "      <td>47.9</td>\n",
       "      <td>2.5</td>\n",
       "      <td>0 days 00:34:28</td>\n",
       "      <td>39.92</td>\n",
       "      <td>0.199900</td>\n",
       "      <td>10.42</td>\n",
       "      <td>13.804642</td>\n",
       "    </tr>\n",
       "    <tr>\n",
       "      <th>2019-10-23 16:32:08</th>\n",
       "      <td>2019-10-23 16:45:26</td>\n",
       "      <td>1</td>\n",
       "      <td>2.00</td>\n",
       "      <td>1</td>\n",
       "      <td>10.5</td>\n",
       "      <td>1.0</td>\n",
       "      <td>0.5</td>\n",
       "      <td>0.00</td>\n",
       "      <td>0.00</td>\n",
       "      <td>0.3</td>\n",
       "      <td>12.3</td>\n",
       "      <td>0.0</td>\n",
       "      <td>0 days 00:13:18</td>\n",
       "      <td>12.30</td>\n",
       "      <td>0.000000</td>\n",
       "      <td>1.80</td>\n",
       "      <td>9.022556</td>\n",
       "    </tr>\n",
       "    <tr>\n",
       "      <th>2019-10-23 16:08:44</th>\n",
       "      <td>2019-10-23 16:21:11</td>\n",
       "      <td>1</td>\n",
       "      <td>1.36</td>\n",
       "      <td>1</td>\n",
       "      <td>9.5</td>\n",
       "      <td>1.0</td>\n",
       "      <td>0.5</td>\n",
       "      <td>2.00</td>\n",
       "      <td>0.00</td>\n",
       "      <td>0.3</td>\n",
       "      <td>15.8</td>\n",
       "      <td>2.5</td>\n",
       "      <td>0 days 00:12:27</td>\n",
       "      <td>13.80</td>\n",
       "      <td>0.144928</td>\n",
       "      <td>4.30</td>\n",
       "      <td>6.554217</td>\n",
       "    </tr>\n",
       "  </tbody>\n",
       "</table>\n",
       "</div>"
      ],
      "text/plain": [
       "                                dropoff  passenger_count  trip_distance   \n",
       "pickup                                                                    \n",
       "2019-10-23 16:39:42 2019-10-23 17:14:10                1           7.93  \\\n",
       "2019-10-23 16:32:08 2019-10-23 16:45:26                1           2.00   \n",
       "2019-10-23 16:08:44 2019-10-23 16:21:11                1           1.36   \n",
       "\n",
       "                     payment_type  fare_amount  extra  mta_tax  tip_amount   \n",
       "pickup                                                                       \n",
       "2019-10-23 16:39:42             1         29.5    1.0      0.5        7.98  \\\n",
       "2019-10-23 16:32:08             1         10.5    1.0      0.5        0.00   \n",
       "2019-10-23 16:08:44             1          9.5    1.0      0.5        2.00   \n",
       "\n",
       "                     tolls_amount  improvement_surcharge  total_amount   \n",
       "pickup                                                                   \n",
       "2019-10-23 16:39:42          6.12                    0.3          47.9  \\\n",
       "2019-10-23 16:32:08          0.00                    0.3          12.3   \n",
       "2019-10-23 16:08:44          0.00                    0.3          15.8   \n",
       "\n",
       "                     congestion_surcharge    elapsed_time  cost_before_tip   \n",
       "pickup                                                                       \n",
       "2019-10-23 16:39:42                   2.5 0 days 00:34:28            39.92  \\\n",
       "2019-10-23 16:32:08                   0.0 0 days 00:13:18            12.30   \n",
       "2019-10-23 16:08:44                   2.5 0 days 00:12:27            13.80   \n",
       "\n",
       "                      tip_pct   fees  avg_speed  \n",
       "pickup                                           \n",
       "2019-10-23 16:39:42  0.199900  10.42  13.804642  \n",
       "2019-10-23 16:32:08  0.000000   1.80   9.022556  \n",
       "2019-10-23 16:08:44  0.144928   4.30   6.554217  "
      ]
     },
     "execution_count": 12,
     "metadata": {},
     "output_type": "execute_result"
    }
   ],
   "source": [
    "taxis = taxis.set_index('pickup')\n",
    "taxis.head(3)"
   ]
  },
  {
   "cell_type": "markdown",
   "id": "1e150b7a-cc6c-4b2a-a32c-13513e1fd518",
   "metadata": {
    "slideshow": {
     "slide_type": "subslide"
    },
    "tags": []
   },
   "source": [
    "Since we have a sample of the full dataset, let's sort the index to order by pickup time:"
   ]
  },
  {
   "cell_type": "code",
   "execution_count": 13,
   "id": "10477bf0-2d83-478c-8f9a-f15ba363b74c",
   "metadata": {},
   "outputs": [],
   "source": [
    "taxis = taxis.sort_index()"
   ]
  },
  {
   "cell_type": "markdown",
   "id": "a1c718db-b445-4290-b5bc-6afa51e45eac",
   "metadata": {
    "slideshow": {
     "slide_type": "fragment"
    },
    "tags": []
   },
   "source": [
    "*Tip: `taxis.sort_index(axis=1)` will sort the columns by name. The `axis` parameter is present throughout the pandas library: `axis=0` targets rows and `axis=1` targets columns.*"
   ]
  },
  {
   "cell_type": "markdown",
   "id": "b44074fe-6b74-4a2d-80b0-e5ed7fc7c9f6",
   "metadata": {
    "slideshow": {
     "slide_type": "subslide"
    },
    "tags": []
   },
   "source": [
    "We can now select ranges from our data based on the datetime the same way we did with row numbers:"
   ]
  },
  {
   "cell_type": "code",
   "execution_count": 14,
   "id": "825b2083-236c-4cfe-957d-4242619c659d",
   "metadata": {},
   "outputs": [
    {
     "data": {
      "text/html": [
       "<div>\n",
       "<style scoped>\n",
       "    .dataframe tbody tr th:only-of-type {\n",
       "        vertical-align: middle;\n",
       "    }\n",
       "\n",
       "    .dataframe tbody tr th {\n",
       "        vertical-align: top;\n",
       "    }\n",
       "\n",
       "    .dataframe thead th {\n",
       "        text-align: right;\n",
       "    }\n",
       "</style>\n",
       "<table border=\"1\" class=\"dataframe\">\n",
       "  <thead>\n",
       "    <tr style=\"text-align: right;\">\n",
       "      <th></th>\n",
       "      <th>dropoff</th>\n",
       "      <th>passenger_count</th>\n",
       "      <th>trip_distance</th>\n",
       "      <th>payment_type</th>\n",
       "      <th>fare_amount</th>\n",
       "      <th>extra</th>\n",
       "      <th>mta_tax</th>\n",
       "      <th>tip_amount</th>\n",
       "      <th>tolls_amount</th>\n",
       "      <th>improvement_surcharge</th>\n",
       "      <th>total_amount</th>\n",
       "      <th>congestion_surcharge</th>\n",
       "      <th>elapsed_time</th>\n",
       "      <th>cost_before_tip</th>\n",
       "      <th>tip_pct</th>\n",
       "      <th>fees</th>\n",
       "      <th>avg_speed</th>\n",
       "    </tr>\n",
       "    <tr>\n",
       "      <th>pickup</th>\n",
       "      <th></th>\n",
       "      <th></th>\n",
       "      <th></th>\n",
       "      <th></th>\n",
       "      <th></th>\n",
       "      <th></th>\n",
       "      <th></th>\n",
       "      <th></th>\n",
       "      <th></th>\n",
       "      <th></th>\n",
       "      <th></th>\n",
       "      <th></th>\n",
       "      <th></th>\n",
       "      <th></th>\n",
       "      <th></th>\n",
       "      <th></th>\n",
       "      <th></th>\n",
       "    </tr>\n",
       "  </thead>\n",
       "  <tbody>\n",
       "    <tr>\n",
       "      <th>2019-10-23 07:48:58</th>\n",
       "      <td>2019-10-23 07:52:09</td>\n",
       "      <td>1</td>\n",
       "      <td>0.67</td>\n",
       "      <td>2</td>\n",
       "      <td>4.5</td>\n",
       "      <td>1.0</td>\n",
       "      <td>0.5</td>\n",
       "      <td>0.0</td>\n",
       "      <td>0.0</td>\n",
       "      <td>0.3</td>\n",
       "      <td>8.8</td>\n",
       "      <td>2.5</td>\n",
       "      <td>0 days 00:03:11</td>\n",
       "      <td>8.8</td>\n",
       "      <td>0.0</td>\n",
       "      <td>4.3</td>\n",
       "      <td>12.628272</td>\n",
       "    </tr>\n",
       "  </tbody>\n",
       "</table>\n",
       "</div>"
      ],
      "text/plain": [
       "                                dropoff  passenger_count  trip_distance   \n",
       "pickup                                                                    \n",
       "2019-10-23 07:48:58 2019-10-23 07:52:09                1           0.67  \\\n",
       "\n",
       "                     payment_type  fare_amount  extra  mta_tax  tip_amount   \n",
       "pickup                                                                       \n",
       "2019-10-23 07:48:58             2          4.5    1.0      0.5         0.0  \\\n",
       "\n",
       "                     tolls_amount  improvement_surcharge  total_amount   \n",
       "pickup                                                                   \n",
       "2019-10-23 07:48:58           0.0                    0.3           8.8  \\\n",
       "\n",
       "                     congestion_surcharge    elapsed_time  cost_before_tip   \n",
       "pickup                                                                       \n",
       "2019-10-23 07:48:58                   2.5 0 days 00:03:11              8.8  \\\n",
       "\n",
       "                     tip_pct  fees  avg_speed  \n",
       "pickup                                         \n",
       "2019-10-23 07:48:58      0.0   4.3  12.628272  "
      ]
     },
     "execution_count": 14,
     "metadata": {},
     "output_type": "execute_result"
    }
   ],
   "source": [
    "taxis['2019-10-23 07:45':'2019-10-23 08:00']"
   ]
  },
  {
   "cell_type": "markdown",
   "id": "c88bc8bb-a159-4347-84f5-654315facd1e",
   "metadata": {
    "slideshow": {
     "slide_type": "subslide"
    },
    "tags": []
   },
   "source": [
    "When not specifying a range, we use `loc[]`:"
   ]
  },
  {
   "cell_type": "code",
   "execution_count": 15,
   "id": "fef82610-a9ca-47f3-b8f9-fca6cb8215c6",
   "metadata": {},
   "outputs": [
    {
     "data": {
      "text/html": [
       "<div>\n",
       "<style scoped>\n",
       "    .dataframe tbody tr th:only-of-type {\n",
       "        vertical-align: middle;\n",
       "    }\n",
       "\n",
       "    .dataframe tbody tr th {\n",
       "        vertical-align: top;\n",
       "    }\n",
       "\n",
       "    .dataframe thead th {\n",
       "        text-align: right;\n",
       "    }\n",
       "</style>\n",
       "<table border=\"1\" class=\"dataframe\">\n",
       "  <thead>\n",
       "    <tr style=\"text-align: right;\">\n",
       "      <th></th>\n",
       "      <th>dropoff</th>\n",
       "      <th>passenger_count</th>\n",
       "      <th>trip_distance</th>\n",
       "      <th>payment_type</th>\n",
       "      <th>fare_amount</th>\n",
       "      <th>extra</th>\n",
       "      <th>mta_tax</th>\n",
       "      <th>tip_amount</th>\n",
       "      <th>tolls_amount</th>\n",
       "      <th>improvement_surcharge</th>\n",
       "      <th>total_amount</th>\n",
       "      <th>congestion_surcharge</th>\n",
       "      <th>elapsed_time</th>\n",
       "      <th>cost_before_tip</th>\n",
       "      <th>tip_pct</th>\n",
       "      <th>fees</th>\n",
       "      <th>avg_speed</th>\n",
       "    </tr>\n",
       "    <tr>\n",
       "      <th>pickup</th>\n",
       "      <th></th>\n",
       "      <th></th>\n",
       "      <th></th>\n",
       "      <th></th>\n",
       "      <th></th>\n",
       "      <th></th>\n",
       "      <th></th>\n",
       "      <th></th>\n",
       "      <th></th>\n",
       "      <th></th>\n",
       "      <th></th>\n",
       "      <th></th>\n",
       "      <th></th>\n",
       "      <th></th>\n",
       "      <th></th>\n",
       "      <th></th>\n",
       "      <th></th>\n",
       "    </tr>\n",
       "  </thead>\n",
       "  <tbody>\n",
       "    <tr>\n",
       "      <th>2019-10-23 08:02:09</th>\n",
       "      <td>2019-10-24 07:42:32</td>\n",
       "      <td>1</td>\n",
       "      <td>8.38</td>\n",
       "      <td>1</td>\n",
       "      <td>32.0</td>\n",
       "      <td>1.0</td>\n",
       "      <td>0.5</td>\n",
       "      <td>5.5</td>\n",
       "      <td>0.0</td>\n",
       "      <td>0.3</td>\n",
       "      <td>41.8</td>\n",
       "      <td>2.5</td>\n",
       "      <td>0 days 23:40:23</td>\n",
       "      <td>36.3</td>\n",
       "      <td>0.151515</td>\n",
       "      <td>4.3</td>\n",
       "      <td>0.353989</td>\n",
       "    </tr>\n",
       "    <tr>\n",
       "      <th>2019-10-23 08:18:47</th>\n",
       "      <td>2019-10-23 08:36:05</td>\n",
       "      <td>1</td>\n",
       "      <td>2.39</td>\n",
       "      <td>2</td>\n",
       "      <td>12.5</td>\n",
       "      <td>1.0</td>\n",
       "      <td>0.5</td>\n",
       "      <td>0.0</td>\n",
       "      <td>0.0</td>\n",
       "      <td>0.3</td>\n",
       "      <td>16.8</td>\n",
       "      <td>2.5</td>\n",
       "      <td>0 days 00:17:18</td>\n",
       "      <td>16.8</td>\n",
       "      <td>0.000000</td>\n",
       "      <td>4.3</td>\n",
       "      <td>8.289017</td>\n",
       "    </tr>\n",
       "  </tbody>\n",
       "</table>\n",
       "</div>"
      ],
      "text/plain": [
       "                                dropoff  passenger_count  trip_distance   \n",
       "pickup                                                                    \n",
       "2019-10-23 08:02:09 2019-10-24 07:42:32                1           8.38  \\\n",
       "2019-10-23 08:18:47 2019-10-23 08:36:05                1           2.39   \n",
       "\n",
       "                     payment_type  fare_amount  extra  mta_tax  tip_amount   \n",
       "pickup                                                                       \n",
       "2019-10-23 08:02:09             1         32.0    1.0      0.5         5.5  \\\n",
       "2019-10-23 08:18:47             2         12.5    1.0      0.5         0.0   \n",
       "\n",
       "                     tolls_amount  improvement_surcharge  total_amount   \n",
       "pickup                                                                   \n",
       "2019-10-23 08:02:09           0.0                    0.3          41.8  \\\n",
       "2019-10-23 08:18:47           0.0                    0.3          16.8   \n",
       "\n",
       "                     congestion_surcharge    elapsed_time  cost_before_tip   \n",
       "pickup                                                                       \n",
       "2019-10-23 08:02:09                   2.5 0 days 23:40:23             36.3  \\\n",
       "2019-10-23 08:18:47                   2.5 0 days 00:17:18             16.8   \n",
       "\n",
       "                      tip_pct  fees  avg_speed  \n",
       "pickup                                          \n",
       "2019-10-23 08:02:09  0.151515   4.3   0.353989  \n",
       "2019-10-23 08:18:47  0.000000   4.3   8.289017  "
      ]
     },
     "execution_count": 15,
     "metadata": {},
     "output_type": "execute_result"
    }
   ],
   "source": [
    "taxis.loc['2019-10-23 08']"
   ]
  },
  {
   "cell_type": "markdown",
   "id": "0684e96e-6c5e-4405-8103-92ae722d9c3e",
   "metadata": {
    "slideshow": {
     "slide_type": "subslide"
    },
    "tags": []
   },
   "source": [
    "### Resetting the index\n",
    "\n",
    "We will be working with time series later this section, but sometimes we want to reset our index to row numbers and restore the columns. We can make `pickup` a column again with the `reset_index()` method:"
   ]
  },
  {
   "cell_type": "code",
   "execution_count": 16,
   "id": "18a6c75b-fa89-4602-b9df-e18ea51d73b6",
   "metadata": {
    "scrolled": true
   },
   "outputs": [
    {
     "data": {
      "text/html": [
       "<div>\n",
       "<style scoped>\n",
       "    .dataframe tbody tr th:only-of-type {\n",
       "        vertical-align: middle;\n",
       "    }\n",
       "\n",
       "    .dataframe tbody tr th {\n",
       "        vertical-align: top;\n",
       "    }\n",
       "\n",
       "    .dataframe thead th {\n",
       "        text-align: right;\n",
       "    }\n",
       "</style>\n",
       "<table border=\"1\" class=\"dataframe\">\n",
       "  <thead>\n",
       "    <tr style=\"text-align: right;\">\n",
       "      <th></th>\n",
       "      <th>pickup</th>\n",
       "      <th>dropoff</th>\n",
       "      <th>passenger_count</th>\n",
       "      <th>trip_distance</th>\n",
       "      <th>payment_type</th>\n",
       "      <th>fare_amount</th>\n",
       "      <th>extra</th>\n",
       "      <th>mta_tax</th>\n",
       "      <th>tip_amount</th>\n",
       "      <th>tolls_amount</th>\n",
       "      <th>improvement_surcharge</th>\n",
       "      <th>total_amount</th>\n",
       "      <th>congestion_surcharge</th>\n",
       "      <th>elapsed_time</th>\n",
       "      <th>cost_before_tip</th>\n",
       "      <th>tip_pct</th>\n",
       "      <th>fees</th>\n",
       "      <th>avg_speed</th>\n",
       "    </tr>\n",
       "  </thead>\n",
       "  <tbody>\n",
       "    <tr>\n",
       "      <th>0</th>\n",
       "      <td>2019-10-23 07:05:34</td>\n",
       "      <td>2019-10-23 08:03:16</td>\n",
       "      <td>3</td>\n",
       "      <td>14.68</td>\n",
       "      <td>1</td>\n",
       "      <td>50.0</td>\n",
       "      <td>1.0</td>\n",
       "      <td>0.5</td>\n",
       "      <td>4.0</td>\n",
       "      <td>0.0</td>\n",
       "      <td>0.3</td>\n",
       "      <td>55.8</td>\n",
       "      <td>0.0</td>\n",
       "      <td>0 days 00:57:42</td>\n",
       "      <td>51.8</td>\n",
       "      <td>0.077220</td>\n",
       "      <td>1.8</td>\n",
       "      <td>15.265165</td>\n",
       "    </tr>\n",
       "    <tr>\n",
       "      <th>1</th>\n",
       "      <td>2019-10-23 07:48:58</td>\n",
       "      <td>2019-10-23 07:52:09</td>\n",
       "      <td>1</td>\n",
       "      <td>0.67</td>\n",
       "      <td>2</td>\n",
       "      <td>4.5</td>\n",
       "      <td>1.0</td>\n",
       "      <td>0.5</td>\n",
       "      <td>0.0</td>\n",
       "      <td>0.0</td>\n",
       "      <td>0.3</td>\n",
       "      <td>8.8</td>\n",
       "      <td>2.5</td>\n",
       "      <td>0 days 00:03:11</td>\n",
       "      <td>8.8</td>\n",
       "      <td>0.000000</td>\n",
       "      <td>4.3</td>\n",
       "      <td>12.628272</td>\n",
       "    </tr>\n",
       "    <tr>\n",
       "      <th>2</th>\n",
       "      <td>2019-10-23 08:02:09</td>\n",
       "      <td>2019-10-24 07:42:32</td>\n",
       "      <td>1</td>\n",
       "      <td>8.38</td>\n",
       "      <td>1</td>\n",
       "      <td>32.0</td>\n",
       "      <td>1.0</td>\n",
       "      <td>0.5</td>\n",
       "      <td>5.5</td>\n",
       "      <td>0.0</td>\n",
       "      <td>0.3</td>\n",
       "      <td>41.8</td>\n",
       "      <td>2.5</td>\n",
       "      <td>0 days 23:40:23</td>\n",
       "      <td>36.3</td>\n",
       "      <td>0.151515</td>\n",
       "      <td>4.3</td>\n",
       "      <td>0.353989</td>\n",
       "    </tr>\n",
       "    <tr>\n",
       "      <th>3</th>\n",
       "      <td>2019-10-23 08:18:47</td>\n",
       "      <td>2019-10-23 08:36:05</td>\n",
       "      <td>1</td>\n",
       "      <td>2.39</td>\n",
       "      <td>2</td>\n",
       "      <td>12.5</td>\n",
       "      <td>1.0</td>\n",
       "      <td>0.5</td>\n",
       "      <td>0.0</td>\n",
       "      <td>0.0</td>\n",
       "      <td>0.3</td>\n",
       "      <td>16.8</td>\n",
       "      <td>2.5</td>\n",
       "      <td>0 days 00:17:18</td>\n",
       "      <td>16.8</td>\n",
       "      <td>0.000000</td>\n",
       "      <td>4.3</td>\n",
       "      <td>8.289017</td>\n",
       "    </tr>\n",
       "    <tr>\n",
       "      <th>4</th>\n",
       "      <td>2019-10-23 09:27:16</td>\n",
       "      <td>2019-10-23 09:33:13</td>\n",
       "      <td>2</td>\n",
       "      <td>1.11</td>\n",
       "      <td>2</td>\n",
       "      <td>6.0</td>\n",
       "      <td>1.0</td>\n",
       "      <td>0.5</td>\n",
       "      <td>0.0</td>\n",
       "      <td>0.0</td>\n",
       "      <td>0.3</td>\n",
       "      <td>7.8</td>\n",
       "      <td>0.0</td>\n",
       "      <td>0 days 00:05:57</td>\n",
       "      <td>7.8</td>\n",
       "      <td>0.000000</td>\n",
       "      <td>1.8</td>\n",
       "      <td>11.193277</td>\n",
       "    </tr>\n",
       "  </tbody>\n",
       "</table>\n",
       "</div>"
      ],
      "text/plain": [
       "               pickup             dropoff  passenger_count  trip_distance   \n",
       "0 2019-10-23 07:05:34 2019-10-23 08:03:16                3          14.68  \\\n",
       "1 2019-10-23 07:48:58 2019-10-23 07:52:09                1           0.67   \n",
       "2 2019-10-23 08:02:09 2019-10-24 07:42:32                1           8.38   \n",
       "3 2019-10-23 08:18:47 2019-10-23 08:36:05                1           2.39   \n",
       "4 2019-10-23 09:27:16 2019-10-23 09:33:13                2           1.11   \n",
       "\n",
       "   payment_type  fare_amount  extra  mta_tax  tip_amount  tolls_amount   \n",
       "0             1         50.0    1.0      0.5         4.0           0.0  \\\n",
       "1             2          4.5    1.0      0.5         0.0           0.0   \n",
       "2             1         32.0    1.0      0.5         5.5           0.0   \n",
       "3             2         12.5    1.0      0.5         0.0           0.0   \n",
       "4             2          6.0    1.0      0.5         0.0           0.0   \n",
       "\n",
       "   improvement_surcharge  total_amount  congestion_surcharge    elapsed_time   \n",
       "0                    0.3          55.8                   0.0 0 days 00:57:42  \\\n",
       "1                    0.3           8.8                   2.5 0 days 00:03:11   \n",
       "2                    0.3          41.8                   2.5 0 days 23:40:23   \n",
       "3                    0.3          16.8                   2.5 0 days 00:17:18   \n",
       "4                    0.3           7.8                   0.0 0 days 00:05:57   \n",
       "\n",
       "   cost_before_tip   tip_pct  fees  avg_speed  \n",
       "0             51.8  0.077220   1.8  15.265165  \n",
       "1              8.8  0.000000   4.3  12.628272  \n",
       "2             36.3  0.151515   4.3   0.353989  \n",
       "3             16.8  0.000000   4.3   8.289017  \n",
       "4              7.8  0.000000   1.8  11.193277  "
      ]
     },
     "execution_count": 16,
     "metadata": {},
     "output_type": "execute_result"
    }
   ],
   "source": [
    "taxis = taxis.reset_index()\n",
    "taxis.head()"
   ]
  },
  {
   "cell_type": "markdown",
   "id": "f2e80e6c",
   "metadata": {
    "slideshow": {
     "slide_type": "subslide"
    }
   },
   "source": [
    "### Exercise 2\n",
    "\n",
    "Using the meteorite data from the `Meteorite_Landings.csv` file, update the `year` column to only contain the year, convert it to a numeric data type, and create a new column indicating whether the meteorite was observed falling before 1970. \n",
    "\n",
    "Set the index to the `id` column and extract all the rows with IDs between 10,036 and 10,040 (inclusive) with `loc[]`.\n",
    "\n",
    "**Hint 1**: Use `year.str.slice()` to grab a substring.\n",
    "\n",
    "**Hint 2**: Make sure to sort the index before using `loc[]` to select the range.\n",
    "\n",
    "***Bonus**: There's a data entry error in the `year` column. Can you find it? (Don't spend too much time on this.)*"
   ]
  },
  {
   "cell_type": "code",
   "execution_count": 17,
   "id": "355ef18a",
   "metadata": {},
   "outputs": [
    {
     "data": {
      "text/html": [
       "<div>\n",
       "<style scoped>\n",
       "    .dataframe tbody tr th:only-of-type {\n",
       "        vertical-align: middle;\n",
       "    }\n",
       "\n",
       "    .dataframe tbody tr th {\n",
       "        vertical-align: top;\n",
       "    }\n",
       "\n",
       "    .dataframe thead th {\n",
       "        text-align: right;\n",
       "    }\n",
       "</style>\n",
       "<table border=\"1\" class=\"dataframe\">\n",
       "  <thead>\n",
       "    <tr style=\"text-align: right;\">\n",
       "      <th></th>\n",
       "      <th>name</th>\n",
       "      <th>nametype</th>\n",
       "      <th>recclass</th>\n",
       "      <th>mass</th>\n",
       "      <th>fall</th>\n",
       "      <th>year</th>\n",
       "      <th>GeoLocation</th>\n",
       "    </tr>\n",
       "    <tr>\n",
       "      <th>id</th>\n",
       "      <th></th>\n",
       "      <th></th>\n",
       "      <th></th>\n",
       "      <th></th>\n",
       "      <th></th>\n",
       "      <th></th>\n",
       "      <th></th>\n",
       "    </tr>\n",
       "  </thead>\n",
       "  <tbody>\n",
       "    <tr>\n",
       "      <th>11258</th>\n",
       "      <td>Grosvenor Mountains 95530</td>\n",
       "      <td>Valid</td>\n",
       "      <td>L5</td>\n",
       "      <td>603.4</td>\n",
       "      <td>Found</td>\n",
       "      <td>01/01/1995 12:00:00 AM</td>\n",
       "      <td>(-85.66667, 175.0)</td>\n",
       "    </tr>\n",
       "    <tr>\n",
       "      <th>11259</th>\n",
       "      <td>Grosvenor Mountains 95531</td>\n",
       "      <td>Valid</td>\n",
       "      <td>L6</td>\n",
       "      <td>723.3</td>\n",
       "      <td>Found</td>\n",
       "      <td>01/01/1995 12:00:00 AM</td>\n",
       "      <td>(-85.66667, 175.0)</td>\n",
       "    </tr>\n",
       "    <tr>\n",
       "      <th>11260</th>\n",
       "      <td>Grosvenor Mountains 95532</td>\n",
       "      <td>Valid</td>\n",
       "      <td>H6</td>\n",
       "      <td>348.4</td>\n",
       "      <td>Found</td>\n",
       "      <td>01/01/1995 12:00:00 AM</td>\n",
       "      <td>(-85.66667, 175.0)</td>\n",
       "    </tr>\n",
       "    <tr>\n",
       "      <th>11261</th>\n",
       "      <td>Grosvenor Mountains 95533</td>\n",
       "      <td>Valid</td>\n",
       "      <td>Eucrite-br</td>\n",
       "      <td>613.2</td>\n",
       "      <td>Found</td>\n",
       "      <td>01/01/1995 12:00:00 AM</td>\n",
       "      <td>(-85.66667, 175.0)</td>\n",
       "    </tr>\n",
       "  </tbody>\n",
       "</table>\n",
       "</div>"
      ],
      "text/plain": [
       "                            name nametype    recclass   mass   fall   \n",
       "id                                                                    \n",
       "11258  Grosvenor Mountains 95530    Valid          L5  603.4  Found  \\\n",
       "11259  Grosvenor Mountains 95531    Valid          L6  723.3  Found   \n",
       "11260  Grosvenor Mountains 95532    Valid          H6  348.4  Found   \n",
       "11261  Grosvenor Mountains 95533    Valid  Eucrite-br  613.2  Found   \n",
       "\n",
       "                         year         GeoLocation  \n",
       "id                                                 \n",
       "11258  01/01/1995 12:00:00 AM  (-85.66667, 175.0)  \n",
       "11259  01/01/1995 12:00:00 AM  (-85.66667, 175.0)  \n",
       "11260  01/01/1995 12:00:00 AM  (-85.66667, 175.0)  \n",
       "11261  01/01/1995 12:00:00 AM  (-85.66667, 175.0)  "
      ]
     },
     "execution_count": 17,
     "metadata": {},
     "output_type": "execute_result"
    }
   ],
   "source": [
    "import numpy as np\n",
    "df.set_index('id').sort_index()[10036:10040]"
   ]
  },
  {
   "cell_type": "markdown",
   "id": "25a31c80-88f8-4f4d-9192-80a7bf7e9689",
   "metadata": {
    "slideshow": {
     "slide_type": "slide"
    },
    "tags": []
   },
   "source": [
    "## Reshaping data\n",
    "\n",
    "The taxi dataset we have be working with is in a format conducive to an analysis. This isn't always the case. Let's now take a look at the TSA traveler throughput data, which compares 2021 throughput to the same day in 2020 and 2019:"
   ]
  },
  {
   "cell_type": "code",
   "execution_count": 18,
   "id": "f9fc17ff-40a4-4e01-b56a-fea6ed3ca471",
   "metadata": {
    "slideshow": {
     "slide_type": "fragment"
    },
    "tags": []
   },
   "outputs": [
    {
     "data": {
      "text/html": [
       "<div>\n",
       "<style scoped>\n",
       "    .dataframe tbody tr th:only-of-type {\n",
       "        vertical-align: middle;\n",
       "    }\n",
       "\n",
       "    .dataframe tbody tr th {\n",
       "        vertical-align: top;\n",
       "    }\n",
       "\n",
       "    .dataframe thead th {\n",
       "        text-align: right;\n",
       "    }\n",
       "</style>\n",
       "<table border=\"1\" class=\"dataframe\">\n",
       "  <thead>\n",
       "    <tr style=\"text-align: right;\">\n",
       "      <th></th>\n",
       "      <th>Date</th>\n",
       "      <th>2021 Traveler Throughput</th>\n",
       "      <th>2020 Traveler Throughput</th>\n",
       "      <th>2019 Traveler Throughput</th>\n",
       "    </tr>\n",
       "  </thead>\n",
       "  <tbody>\n",
       "    <tr>\n",
       "      <th>0</th>\n",
       "      <td>2021-05-14</td>\n",
       "      <td>1716561.0</td>\n",
       "      <td>250467</td>\n",
       "      <td>2664549</td>\n",
       "    </tr>\n",
       "    <tr>\n",
       "      <th>1</th>\n",
       "      <td>2021-05-13</td>\n",
       "      <td>1743515.0</td>\n",
       "      <td>234928</td>\n",
       "      <td>2611324</td>\n",
       "    </tr>\n",
       "    <tr>\n",
       "      <th>2</th>\n",
       "      <td>2021-05-12</td>\n",
       "      <td>1424664.0</td>\n",
       "      <td>176667</td>\n",
       "      <td>2343675</td>\n",
       "    </tr>\n",
       "    <tr>\n",
       "      <th>3</th>\n",
       "      <td>2021-05-11</td>\n",
       "      <td>1315493.0</td>\n",
       "      <td>163205</td>\n",
       "      <td>2191387</td>\n",
       "    </tr>\n",
       "    <tr>\n",
       "      <th>4</th>\n",
       "      <td>2021-05-10</td>\n",
       "      <td>1657722.0</td>\n",
       "      <td>215645</td>\n",
       "      <td>2512315</td>\n",
       "    </tr>\n",
       "  </tbody>\n",
       "</table>\n",
       "</div>"
      ],
      "text/plain": [
       "        Date  2021 Traveler Throughput  2020 Traveler Throughput   \n",
       "0 2021-05-14                 1716561.0                    250467  \\\n",
       "1 2021-05-13                 1743515.0                    234928   \n",
       "2 2021-05-12                 1424664.0                    176667   \n",
       "3 2021-05-11                 1315493.0                    163205   \n",
       "4 2021-05-10                 1657722.0                    215645   \n",
       "\n",
       "   2019 Traveler Throughput  \n",
       "0                   2664549  \n",
       "1                   2611324  \n",
       "2                   2343675  \n",
       "3                   2191387  \n",
       "4                   2512315  "
      ]
     },
     "execution_count": 18,
     "metadata": {},
     "output_type": "execute_result"
    }
   ],
   "source": [
    "import pandas as pd \n",
    "tsa = pd.read_csv('public/tsa_passenger_throughput.csv', parse_dates=['Date'])\n",
    "tsa.head()"
   ]
  },
  {
   "cell_type": "markdown",
   "id": "43a2f0b0-affe-4ec4-906c-26401b750dc0",
   "metadata": {},
   "source": [
    "*Source: [TSA.gov](https://www.tsa.gov/coronavirus/passenger-throughput)*"
   ]
  },
  {
   "cell_type": "markdown",
   "id": "71419100-c9d2-4e8d-a0e3-440d0d9ebded",
   "metadata": {
    "slideshow": {
     "slide_type": "subslide"
    },
    "tags": []
   },
   "source": [
    "First, we will lowercase the column names and take the first word (e.g., `2021` for `2021 Traveler Throughput`) to make this easier to work with:"
   ]
  },
  {
   "cell_type": "code",
   "execution_count": 19,
   "id": "cdaa7ddd-57f4-41ca-b8ff-24d93d44f0b5",
   "metadata": {},
   "outputs": [
    {
     "data": {
      "text/html": [
       "<div>\n",
       "<style scoped>\n",
       "    .dataframe tbody tr th:only-of-type {\n",
       "        vertical-align: middle;\n",
       "    }\n",
       "\n",
       "    .dataframe tbody tr th {\n",
       "        vertical-align: top;\n",
       "    }\n",
       "\n",
       "    .dataframe thead th {\n",
       "        text-align: right;\n",
       "    }\n",
       "</style>\n",
       "<table border=\"1\" class=\"dataframe\">\n",
       "  <thead>\n",
       "    <tr style=\"text-align: right;\">\n",
       "      <th></th>\n",
       "      <th>date</th>\n",
       "      <th>2021</th>\n",
       "      <th>2020</th>\n",
       "      <th>2019</th>\n",
       "    </tr>\n",
       "  </thead>\n",
       "  <tbody>\n",
       "    <tr>\n",
       "      <th>0</th>\n",
       "      <td>2021-05-14</td>\n",
       "      <td>1716561.0</td>\n",
       "      <td>250467</td>\n",
       "      <td>2664549</td>\n",
       "    </tr>\n",
       "    <tr>\n",
       "      <th>1</th>\n",
       "      <td>2021-05-13</td>\n",
       "      <td>1743515.0</td>\n",
       "      <td>234928</td>\n",
       "      <td>2611324</td>\n",
       "    </tr>\n",
       "    <tr>\n",
       "      <th>2</th>\n",
       "      <td>2021-05-12</td>\n",
       "      <td>1424664.0</td>\n",
       "      <td>176667</td>\n",
       "      <td>2343675</td>\n",
       "    </tr>\n",
       "    <tr>\n",
       "      <th>3</th>\n",
       "      <td>2021-05-11</td>\n",
       "      <td>1315493.0</td>\n",
       "      <td>163205</td>\n",
       "      <td>2191387</td>\n",
       "    </tr>\n",
       "    <tr>\n",
       "      <th>4</th>\n",
       "      <td>2021-05-10</td>\n",
       "      <td>1657722.0</td>\n",
       "      <td>215645</td>\n",
       "      <td>2512315</td>\n",
       "    </tr>\n",
       "  </tbody>\n",
       "</table>\n",
       "</div>"
      ],
      "text/plain": [
       "        date       2021    2020     2019\n",
       "0 2021-05-14  1716561.0  250467  2664549\n",
       "1 2021-05-13  1743515.0  234928  2611324\n",
       "2 2021-05-12  1424664.0  176667  2343675\n",
       "3 2021-05-11  1315493.0  163205  2191387\n",
       "4 2021-05-10  1657722.0  215645  2512315"
      ]
     },
     "execution_count": 19,
     "metadata": {},
     "output_type": "execute_result"
    }
   ],
   "source": [
    "tsa = tsa.rename(columns=lambda x: x.lower().split()[0])\n",
    "tsa.head()"
   ]
  },
  {
   "cell_type": "markdown",
   "id": "2a39b842-3f40-4951-9a38-7dfd492ef608",
   "metadata": {
    "slideshow": {
     "slide_type": "fragment"
    },
    "tags": []
   },
   "source": [
    "Now, we can work on reshaping it."
   ]
  },
  {
   "cell_type": "markdown",
   "id": "fc0b0c08-5cb6-4523-9dcc-4ea9a7e2607f",
   "metadata": {
    "slideshow": {
     "slide_type": "subslide"
    },
    "tags": []
   },
   "source": [
    "### Melting\n",
    "\n",
    "Melting helps convert our data into long format. Now, we have all the traveler throughput numbers in a single column:"
   ]
  },
  {
   "cell_type": "code",
   "execution_count": 20,
   "id": "ebcfe696-5e4c-49e9-b281-1b7722cad24b",
   "metadata": {},
   "outputs": [
    {
     "data": {
      "text/html": [
       "<div>\n",
       "<style scoped>\n",
       "    .dataframe tbody tr th:only-of-type {\n",
       "        vertical-align: middle;\n",
       "    }\n",
       "\n",
       "    .dataframe tbody tr th {\n",
       "        vertical-align: top;\n",
       "    }\n",
       "\n",
       "    .dataframe thead th {\n",
       "        text-align: right;\n",
       "    }\n",
       "</style>\n",
       "<table border=\"1\" class=\"dataframe\">\n",
       "  <thead>\n",
       "    <tr style=\"text-align: right;\">\n",
       "      <th></th>\n",
       "      <th>date</th>\n",
       "      <th>year</th>\n",
       "      <th>travelers</th>\n",
       "    </tr>\n",
       "  </thead>\n",
       "  <tbody>\n",
       "    <tr>\n",
       "      <th>974</th>\n",
       "      <td>2020-09-12</td>\n",
       "      <td>2019</td>\n",
       "      <td>1879822.0</td>\n",
       "    </tr>\n",
       "    <tr>\n",
       "      <th>435</th>\n",
       "      <td>2021-03-05</td>\n",
       "      <td>2020</td>\n",
       "      <td>2198517.0</td>\n",
       "    </tr>\n",
       "    <tr>\n",
       "      <th>1029</th>\n",
       "      <td>2020-07-19</td>\n",
       "      <td>2019</td>\n",
       "      <td>2727355.0</td>\n",
       "    </tr>\n",
       "    <tr>\n",
       "      <th>680</th>\n",
       "      <td>2020-07-03</td>\n",
       "      <td>2020</td>\n",
       "      <td>718988.0</td>\n",
       "    </tr>\n",
       "    <tr>\n",
       "      <th>867</th>\n",
       "      <td>2020-12-28</td>\n",
       "      <td>2019</td>\n",
       "      <td>2500396.0</td>\n",
       "    </tr>\n",
       "  </tbody>\n",
       "</table>\n",
       "</div>"
      ],
      "text/plain": [
       "           date  year  travelers\n",
       "974  2020-09-12  2019  1879822.0\n",
       "435  2021-03-05  2020  2198517.0\n",
       "1029 2020-07-19  2019  2727355.0\n",
       "680  2020-07-03  2020   718988.0\n",
       "867  2020-12-28  2019  2500396.0"
      ]
     },
     "execution_count": 20,
     "metadata": {},
     "output_type": "execute_result"
    }
   ],
   "source": [
    "tsa_melted = tsa.melt(\n",
    "    id_vars='date', # column that uniquely identifies a row (can be multiple)\n",
    "    var_name='year', # name for the new column created by melting\n",
    "    value_name='travelers' # name for new column containing values from melted columns\n",
    ") \n",
    "tsa_melted.sample(5, random_state=1) # show some random entries"
   ]
  },
  {
   "cell_type": "markdown",
   "id": "91ad2a4f-fd5f-4de6-b974-e37e6119b1f7",
   "metadata": {
    "slideshow": {
     "slide_type": "subslide"
    },
    "tags": []
   },
   "source": [
    "To convert this into a time series of traveler throughput, we need to replace the year in the `date` column with the one in the `year` column. Otherwise, we are marking prior years' numbers with the wrong year."
   ]
  },
  {
   "cell_type": "code",
   "execution_count": 21,
   "id": "7ad04dde-d03b-4a32-9a47-6b1a388a8169",
   "metadata": {},
   "outputs": [
    {
     "data": {
      "text/html": [
       "<div>\n",
       "<style scoped>\n",
       "    .dataframe tbody tr th:only-of-type {\n",
       "        vertical-align: middle;\n",
       "    }\n",
       "\n",
       "    .dataframe tbody tr th {\n",
       "        vertical-align: top;\n",
       "    }\n",
       "\n",
       "    .dataframe thead th {\n",
       "        text-align: right;\n",
       "    }\n",
       "</style>\n",
       "<table border=\"1\" class=\"dataframe\">\n",
       "  <thead>\n",
       "    <tr style=\"text-align: right;\">\n",
       "      <th></th>\n",
       "      <th>date</th>\n",
       "      <th>year</th>\n",
       "      <th>travelers</th>\n",
       "    </tr>\n",
       "  </thead>\n",
       "  <tbody>\n",
       "    <tr>\n",
       "      <th>974</th>\n",
       "      <td>2019-09-12</td>\n",
       "      <td>2019</td>\n",
       "      <td>1879822.0</td>\n",
       "    </tr>\n",
       "    <tr>\n",
       "      <th>435</th>\n",
       "      <td>2020-03-05</td>\n",
       "      <td>2020</td>\n",
       "      <td>2198517.0</td>\n",
       "    </tr>\n",
       "    <tr>\n",
       "      <th>1029</th>\n",
       "      <td>2019-07-19</td>\n",
       "      <td>2019</td>\n",
       "      <td>2727355.0</td>\n",
       "    </tr>\n",
       "    <tr>\n",
       "      <th>680</th>\n",
       "      <td>2020-07-03</td>\n",
       "      <td>2020</td>\n",
       "      <td>718988.0</td>\n",
       "    </tr>\n",
       "    <tr>\n",
       "      <th>867</th>\n",
       "      <td>2019-12-28</td>\n",
       "      <td>2019</td>\n",
       "      <td>2500396.0</td>\n",
       "    </tr>\n",
       "  </tbody>\n",
       "</table>\n",
       "</div>"
      ],
      "text/plain": [
       "           date  year  travelers\n",
       "974  2019-09-12  2019  1879822.0\n",
       "435  2020-03-05  2020  2198517.0\n",
       "1029 2019-07-19  2019  2727355.0\n",
       "680  2020-07-03  2020   718988.0\n",
       "867  2019-12-28  2019  2500396.0"
      ]
     },
     "execution_count": 21,
     "metadata": {},
     "output_type": "execute_result"
    }
   ],
   "source": [
    "tsa_melted = tsa_melted.assign(\n",
    "    date=lambda x: pd.to_datetime(x.year + x.date.dt.strftime('-%m-%d'))\n",
    ")\n",
    "tsa_melted.sample(5, random_state=1)"
   ]
  },
  {
   "cell_type": "markdown",
   "id": "28a312aa-f671-4df7-8e09-ea65ba7d6d70",
   "metadata": {
    "slideshow": {
     "slide_type": "subslide"
    },
    "tags": []
   },
   "source": [
    "This leaves us with some null values (the dates that aren't present in the dataset):"
   ]
  },
  {
   "cell_type": "code",
   "execution_count": 22,
   "id": "8f415932-fe42-4e11-a8ac-521c7612147e",
   "metadata": {},
   "outputs": [
    {
     "data": {
      "text/html": [
       "<div>\n",
       "<style scoped>\n",
       "    .dataframe tbody tr th:only-of-type {\n",
       "        vertical-align: middle;\n",
       "    }\n",
       "\n",
       "    .dataframe tbody tr th {\n",
       "        vertical-align: top;\n",
       "    }\n",
       "\n",
       "    .dataframe thead th {\n",
       "        text-align: right;\n",
       "    }\n",
       "</style>\n",
       "<table border=\"1\" class=\"dataframe\">\n",
       "  <thead>\n",
       "    <tr style=\"text-align: right;\">\n",
       "      <th></th>\n",
       "      <th>date</th>\n",
       "      <th>year</th>\n",
       "      <th>travelers</th>\n",
       "    </tr>\n",
       "  </thead>\n",
       "  <tbody>\n",
       "    <tr>\n",
       "      <th>136</th>\n",
       "      <td>2021-12-29</td>\n",
       "      <td>2021</td>\n",
       "      <td>NaN</td>\n",
       "    </tr>\n",
       "    <tr>\n",
       "      <th>135</th>\n",
       "      <td>2021-12-30</td>\n",
       "      <td>2021</td>\n",
       "      <td>NaN</td>\n",
       "    </tr>\n",
       "    <tr>\n",
       "      <th>134</th>\n",
       "      <td>2021-12-31</td>\n",
       "      <td>2021</td>\n",
       "      <td>NaN</td>\n",
       "    </tr>\n",
       "  </tbody>\n",
       "</table>\n",
       "</div>"
      ],
      "text/plain": [
       "          date  year  travelers\n",
       "136 2021-12-29  2021        NaN\n",
       "135 2021-12-30  2021        NaN\n",
       "134 2021-12-31  2021        NaN"
      ]
     },
     "execution_count": 22,
     "metadata": {},
     "output_type": "execute_result"
    }
   ],
   "source": [
    "tsa_melted.sort_values('date').tail(3)"
   ]
  },
  {
   "cell_type": "markdown",
   "id": "323970e9-0e9c-46f1-8910-a630fbd4d1b3",
   "metadata": {
    "slideshow": {
     "slide_type": "fragment"
    },
    "tags": []
   },
   "source": [
    "These can be dropped with the `dropna()` method:"
   ]
  },
  {
   "cell_type": "code",
   "execution_count": 23,
   "id": "c0ed0555-2467-4966-9cfb-31ff5982c0bb",
   "metadata": {},
   "outputs": [
    {
     "data": {
      "text/html": [
       "<div>\n",
       "<style scoped>\n",
       "    .dataframe tbody tr th:only-of-type {\n",
       "        vertical-align: middle;\n",
       "    }\n",
       "\n",
       "    .dataframe tbody tr th {\n",
       "        vertical-align: top;\n",
       "    }\n",
       "\n",
       "    .dataframe thead th {\n",
       "        text-align: right;\n",
       "    }\n",
       "</style>\n",
       "<table border=\"1\" class=\"dataframe\">\n",
       "  <thead>\n",
       "    <tr style=\"text-align: right;\">\n",
       "      <th></th>\n",
       "      <th>date</th>\n",
       "      <th>year</th>\n",
       "      <th>travelers</th>\n",
       "    </tr>\n",
       "  </thead>\n",
       "  <tbody>\n",
       "    <tr>\n",
       "      <th>2</th>\n",
       "      <td>2021-05-12</td>\n",
       "      <td>2021</td>\n",
       "      <td>1424664.0</td>\n",
       "    </tr>\n",
       "    <tr>\n",
       "      <th>1</th>\n",
       "      <td>2021-05-13</td>\n",
       "      <td>2021</td>\n",
       "      <td>1743515.0</td>\n",
       "    </tr>\n",
       "    <tr>\n",
       "      <th>0</th>\n",
       "      <td>2021-05-14</td>\n",
       "      <td>2021</td>\n",
       "      <td>1716561.0</td>\n",
       "    </tr>\n",
       "  </tbody>\n",
       "</table>\n",
       "</div>"
      ],
      "text/plain": [
       "        date  year  travelers\n",
       "2 2021-05-12  2021  1424664.0\n",
       "1 2021-05-13  2021  1743515.0\n",
       "0 2021-05-14  2021  1716561.0"
      ]
     },
     "execution_count": 23,
     "metadata": {},
     "output_type": "execute_result"
    }
   ],
   "source": [
    "tsa_melted = tsa_melted.dropna()\n",
    "tsa_melted.sort_values('date').tail(3)"
   ]
  },
  {
   "cell_type": "markdown",
   "id": "6a77b4fc-265e-42d8-ae27-689e3f7f8dc6",
   "metadata": {
    "slideshow": {
     "slide_type": "subslide"
    },
    "tags": []
   },
   "source": [
    "### Pivoting\n",
    "\n",
    "Using the melted data, we can pivot the data to compare TSA traveler throughput on specific days across years:"
   ]
  },
  {
   "cell_type": "code",
   "execution_count": 24,
   "id": "5deb2bd9-e4eb-4775-bbf1-b483c56edf16",
   "metadata": {},
   "outputs": [
    {
     "data": {
      "text/html": [
       "<div>\n",
       "<style scoped>\n",
       "    .dataframe tbody tr th:only-of-type {\n",
       "        vertical-align: middle;\n",
       "    }\n",
       "\n",
       "    .dataframe tbody tr th {\n",
       "        vertical-align: top;\n",
       "    }\n",
       "\n",
       "    .dataframe thead th {\n",
       "        text-align: right;\n",
       "    }\n",
       "</style>\n",
       "<table border=\"1\" class=\"dataframe\">\n",
       "  <thead>\n",
       "    <tr style=\"text-align: right;\">\n",
       "      <th>day_in_march</th>\n",
       "      <th>1</th>\n",
       "      <th>2</th>\n",
       "      <th>3</th>\n",
       "      <th>4</th>\n",
       "      <th>5</th>\n",
       "      <th>6</th>\n",
       "      <th>7</th>\n",
       "      <th>8</th>\n",
       "      <th>9</th>\n",
       "      <th>10</th>\n",
       "    </tr>\n",
       "    <tr>\n",
       "      <th>year</th>\n",
       "      <th></th>\n",
       "      <th></th>\n",
       "      <th></th>\n",
       "      <th></th>\n",
       "      <th></th>\n",
       "      <th></th>\n",
       "      <th></th>\n",
       "      <th></th>\n",
       "      <th></th>\n",
       "      <th></th>\n",
       "    </tr>\n",
       "  </thead>\n",
       "  <tbody>\n",
       "    <tr>\n",
       "      <th>2019</th>\n",
       "      <td>2257920.0</td>\n",
       "      <td>1979558.0</td>\n",
       "      <td>2143619.0</td>\n",
       "      <td>2402692.0</td>\n",
       "      <td>2543689.0</td>\n",
       "      <td>2156262.0</td>\n",
       "      <td>2485430.0</td>\n",
       "      <td>2378673.0</td>\n",
       "      <td>2122898.0</td>\n",
       "      <td>2187298.0</td>\n",
       "    </tr>\n",
       "    <tr>\n",
       "      <th>2020</th>\n",
       "      <td>2089641.0</td>\n",
       "      <td>1736393.0</td>\n",
       "      <td>1877401.0</td>\n",
       "      <td>2130015.0</td>\n",
       "      <td>2198517.0</td>\n",
       "      <td>1844811.0</td>\n",
       "      <td>2119867.0</td>\n",
       "      <td>1909363.0</td>\n",
       "      <td>1617220.0</td>\n",
       "      <td>1702686.0</td>\n",
       "    </tr>\n",
       "    <tr>\n",
       "      <th>2021</th>\n",
       "      <td>1049692.0</td>\n",
       "      <td>744812.0</td>\n",
       "      <td>826924.0</td>\n",
       "      <td>1107534.0</td>\n",
       "      <td>1168734.0</td>\n",
       "      <td>992406.0</td>\n",
       "      <td>1278557.0</td>\n",
       "      <td>1119303.0</td>\n",
       "      <td>825745.0</td>\n",
       "      <td>974221.0</td>\n",
       "    </tr>\n",
       "  </tbody>\n",
       "</table>\n",
       "</div>"
      ],
      "text/plain": [
       "day_in_march         1          2          3          4          5    \n",
       "year                                                                  \n",
       "2019          2257920.0  1979558.0  2143619.0  2402692.0  2543689.0  \\\n",
       "2020          2089641.0  1736393.0  1877401.0  2130015.0  2198517.0   \n",
       "2021          1049692.0   744812.0   826924.0  1107534.0  1168734.0   \n",
       "\n",
       "day_in_march         6          7          8          9          10  \n",
       "year                                                                 \n",
       "2019          2156262.0  2485430.0  2378673.0  2122898.0  2187298.0  \n",
       "2020          1844811.0  2119867.0  1909363.0  1617220.0  1702686.0  \n",
       "2021           992406.0  1278557.0  1119303.0   825745.0   974221.0  "
      ]
     },
     "execution_count": 24,
     "metadata": {},
     "output_type": "execute_result"
    }
   ],
   "source": [
    "tsa_pivoted = tsa_melted\\\n",
    "    .query('date.dt.month == 3 and date.dt.day <= 10')\\\n",
    "    .assign(day_in_march=lambda x: x.date.dt.day)\\\n",
    "    .pivot(index='year', columns='day_in_march', values='travelers')\n",
    "tsa_pivoted"
   ]
  },
  {
   "cell_type": "markdown",
   "id": "370ed66f-5b39-4adf-ae0d-651c4ae1981b",
   "metadata": {
    "slideshow": {
     "slide_type": "notes"
    },
    "tags": []
   },
   "source": [
    "**Important**: We aren't covering the `unstack()` and `stack()` methods, which are additional ways to pivot and melt, respectively. These come in handy when we have a multi-level index (e.g., if we ran `set_index()` with more than one column). More information can be found [here](https://pandas.pydata.org/pandas-docs/stable/user_guide/reshaping.html)."
   ]
  },
  {
   "cell_type": "markdown",
   "id": "e292be99-e3d6-403c-abce-56efa8b1948d",
   "metadata": {
    "slideshow": {
     "slide_type": "subslide"
    },
    "tags": []
   },
   "source": [
    "### Transposing\n",
    "\n",
    "The `T` attribute provides a quick way to flip rows and columns."
   ]
  },
  {
   "cell_type": "code",
   "execution_count": 25,
   "id": "c8a7bb2d-77c0-461b-9963-224b5bd633d2",
   "metadata": {},
   "outputs": [
    {
     "data": {
      "text/html": [
       "<div>\n",
       "<style scoped>\n",
       "    .dataframe tbody tr th:only-of-type {\n",
       "        vertical-align: middle;\n",
       "    }\n",
       "\n",
       "    .dataframe tbody tr th {\n",
       "        vertical-align: top;\n",
       "    }\n",
       "\n",
       "    .dataframe thead th {\n",
       "        text-align: right;\n",
       "    }\n",
       "</style>\n",
       "<table border=\"1\" class=\"dataframe\">\n",
       "  <thead>\n",
       "    <tr style=\"text-align: right;\">\n",
       "      <th>year</th>\n",
       "      <th>2019</th>\n",
       "      <th>2020</th>\n",
       "      <th>2021</th>\n",
       "    </tr>\n",
       "    <tr>\n",
       "      <th>day_in_march</th>\n",
       "      <th></th>\n",
       "      <th></th>\n",
       "      <th></th>\n",
       "    </tr>\n",
       "  </thead>\n",
       "  <tbody>\n",
       "    <tr>\n",
       "      <th>1</th>\n",
       "      <td>2257920.0</td>\n",
       "      <td>2089641.0</td>\n",
       "      <td>1049692.0</td>\n",
       "    </tr>\n",
       "    <tr>\n",
       "      <th>2</th>\n",
       "      <td>1979558.0</td>\n",
       "      <td>1736393.0</td>\n",
       "      <td>744812.0</td>\n",
       "    </tr>\n",
       "    <tr>\n",
       "      <th>3</th>\n",
       "      <td>2143619.0</td>\n",
       "      <td>1877401.0</td>\n",
       "      <td>826924.0</td>\n",
       "    </tr>\n",
       "    <tr>\n",
       "      <th>4</th>\n",
       "      <td>2402692.0</td>\n",
       "      <td>2130015.0</td>\n",
       "      <td>1107534.0</td>\n",
       "    </tr>\n",
       "    <tr>\n",
       "      <th>5</th>\n",
       "      <td>2543689.0</td>\n",
       "      <td>2198517.0</td>\n",
       "      <td>1168734.0</td>\n",
       "    </tr>\n",
       "    <tr>\n",
       "      <th>6</th>\n",
       "      <td>2156262.0</td>\n",
       "      <td>1844811.0</td>\n",
       "      <td>992406.0</td>\n",
       "    </tr>\n",
       "    <tr>\n",
       "      <th>7</th>\n",
       "      <td>2485430.0</td>\n",
       "      <td>2119867.0</td>\n",
       "      <td>1278557.0</td>\n",
       "    </tr>\n",
       "    <tr>\n",
       "      <th>8</th>\n",
       "      <td>2378673.0</td>\n",
       "      <td>1909363.0</td>\n",
       "      <td>1119303.0</td>\n",
       "    </tr>\n",
       "    <tr>\n",
       "      <th>9</th>\n",
       "      <td>2122898.0</td>\n",
       "      <td>1617220.0</td>\n",
       "      <td>825745.0</td>\n",
       "    </tr>\n",
       "    <tr>\n",
       "      <th>10</th>\n",
       "      <td>2187298.0</td>\n",
       "      <td>1702686.0</td>\n",
       "      <td>974221.0</td>\n",
       "    </tr>\n",
       "  </tbody>\n",
       "</table>\n",
       "</div>"
      ],
      "text/plain": [
       "year               2019       2020       2021\n",
       "day_in_march                                 \n",
       "1             2257920.0  2089641.0  1049692.0\n",
       "2             1979558.0  1736393.0   744812.0\n",
       "3             2143619.0  1877401.0   826924.0\n",
       "4             2402692.0  2130015.0  1107534.0\n",
       "5             2543689.0  2198517.0  1168734.0\n",
       "6             2156262.0  1844811.0   992406.0\n",
       "7             2485430.0  2119867.0  1278557.0\n",
       "8             2378673.0  1909363.0  1119303.0\n",
       "9             2122898.0  1617220.0   825745.0\n",
       "10            2187298.0  1702686.0   974221.0"
      ]
     },
     "execution_count": 25,
     "metadata": {},
     "output_type": "execute_result"
    }
   ],
   "source": [
    "tsa_pivoted.T"
   ]
  },
  {
   "cell_type": "markdown",
   "id": "65da6408-d946-4420-8fec-327094bf46e9",
   "metadata": {
    "slideshow": {
     "slide_type": "subslide"
    },
    "tags": []
   },
   "source": [
    "### Merging\n",
    "\n",
    "We typically observe changes in air travel around the holidays, so adding information about the dates in the TSA dataset provides more context. The `holidays.csv` file contains a few major holidays in the United States:"
   ]
  },
  {
   "cell_type": "code",
   "execution_count": 26,
   "id": "df6a13e1-af80-4d5e-9aa6-24495d7197cd",
   "metadata": {},
   "outputs": [
    {
     "data": {
      "text/html": [
       "<div>\n",
       "<style scoped>\n",
       "    .dataframe tbody tr th:only-of-type {\n",
       "        vertical-align: middle;\n",
       "    }\n",
       "\n",
       "    .dataframe tbody tr th {\n",
       "        vertical-align: top;\n",
       "    }\n",
       "\n",
       "    .dataframe thead th {\n",
       "        text-align: right;\n",
       "    }\n",
       "</style>\n",
       "<table border=\"1\" class=\"dataframe\">\n",
       "  <thead>\n",
       "    <tr style=\"text-align: right;\">\n",
       "      <th></th>\n",
       "      <th>holiday</th>\n",
       "    </tr>\n",
       "    <tr>\n",
       "      <th>date</th>\n",
       "      <th></th>\n",
       "    </tr>\n",
       "  </thead>\n",
       "  <tbody>\n",
       "    <tr>\n",
       "      <th>2019-01-01</th>\n",
       "      <td>New Year's Day</td>\n",
       "    </tr>\n",
       "    <tr>\n",
       "      <th>2019-05-27</th>\n",
       "      <td>Memorial Day</td>\n",
       "    </tr>\n",
       "    <tr>\n",
       "      <th>2019-07-04</th>\n",
       "      <td>July 4th</td>\n",
       "    </tr>\n",
       "    <tr>\n",
       "      <th>2019-09-02</th>\n",
       "      <td>Labor Day</td>\n",
       "    </tr>\n",
       "    <tr>\n",
       "      <th>2019-11-28</th>\n",
       "      <td>Thanksgiving</td>\n",
       "    </tr>\n",
       "    <tr>\n",
       "      <th>2019-12-24</th>\n",
       "      <td>Christmas Eve</td>\n",
       "    </tr>\n",
       "    <tr>\n",
       "      <th>2019-12-25</th>\n",
       "      <td>Christmas Day</td>\n",
       "    </tr>\n",
       "    <tr>\n",
       "      <th>2019-12-31</th>\n",
       "      <td>New Year's Eve</td>\n",
       "    </tr>\n",
       "  </tbody>\n",
       "</table>\n",
       "</div>"
      ],
      "text/plain": [
       "                   holiday\n",
       "date                      \n",
       "2019-01-01  New Year's Day\n",
       "2019-05-27    Memorial Day\n",
       "2019-07-04        July 4th\n",
       "2019-09-02       Labor Day\n",
       "2019-11-28    Thanksgiving\n",
       "2019-12-24   Christmas Eve\n",
       "2019-12-25   Christmas Day\n",
       "2019-12-31  New Year's Eve"
      ]
     },
     "execution_count": 26,
     "metadata": {},
     "output_type": "execute_result"
    }
   ],
   "source": [
    "holidays = pd.read_csv('public/holidays.csv', parse_dates=True, index_col='date')\n",
    "holidays.loc['2019']"
   ]
  },
  {
   "cell_type": "markdown",
   "id": "a0832a27-605c-48bd-b564-0901c2796b90",
   "metadata": {
    "slideshow": {
     "slide_type": "subslide"
    },
    "tags": []
   },
   "source": [
    "Merging the holidays with the TSA traveler throughput data will provide more context for our analysis:"
   ]
  },
  {
   "cell_type": "code",
   "execution_count": 27,
   "id": "367b9ccb-04f6-4400-88b2-ce548990bb6f",
   "metadata": {
    "tags": []
   },
   "outputs": [
    {
     "data": {
      "text/html": [
       "<div>\n",
       "<style scoped>\n",
       "    .dataframe tbody tr th:only-of-type {\n",
       "        vertical-align: middle;\n",
       "    }\n",
       "\n",
       "    .dataframe tbody tr th {\n",
       "        vertical-align: top;\n",
       "    }\n",
       "\n",
       "    .dataframe thead th {\n",
       "        text-align: right;\n",
       "    }\n",
       "</style>\n",
       "<table border=\"1\" class=\"dataframe\">\n",
       "  <thead>\n",
       "    <tr style=\"text-align: right;\">\n",
       "      <th></th>\n",
       "      <th>date</th>\n",
       "      <th>year</th>\n",
       "      <th>travelers</th>\n",
       "      <th>holiday</th>\n",
       "    </tr>\n",
       "  </thead>\n",
       "  <tbody>\n",
       "    <tr>\n",
       "      <th>863</th>\n",
       "      <td>2019-01-01</td>\n",
       "      <td>2019</td>\n",
       "      <td>2126398.0</td>\n",
       "      <td>New Year's Day</td>\n",
       "    </tr>\n",
       "    <tr>\n",
       "      <th>862</th>\n",
       "      <td>2019-01-02</td>\n",
       "      <td>2019</td>\n",
       "      <td>2345103.0</td>\n",
       "      <td>NaN</td>\n",
       "    </tr>\n",
       "    <tr>\n",
       "      <th>861</th>\n",
       "      <td>2019-01-03</td>\n",
       "      <td>2019</td>\n",
       "      <td>2202111.0</td>\n",
       "      <td>NaN</td>\n",
       "    </tr>\n",
       "    <tr>\n",
       "      <th>860</th>\n",
       "      <td>2019-01-04</td>\n",
       "      <td>2019</td>\n",
       "      <td>2150571.0</td>\n",
       "      <td>NaN</td>\n",
       "    </tr>\n",
       "    <tr>\n",
       "      <th>859</th>\n",
       "      <td>2019-01-05</td>\n",
       "      <td>2019</td>\n",
       "      <td>1975947.0</td>\n",
       "      <td>NaN</td>\n",
       "    </tr>\n",
       "  </tbody>\n",
       "</table>\n",
       "</div>"
      ],
      "text/plain": [
       "          date  year  travelers         holiday\n",
       "863 2019-01-01  2019  2126398.0  New Year's Day\n",
       "862 2019-01-02  2019  2345103.0             NaN\n",
       "861 2019-01-03  2019  2202111.0             NaN\n",
       "860 2019-01-04  2019  2150571.0             NaN\n",
       "859 2019-01-05  2019  1975947.0             NaN"
      ]
     },
     "execution_count": 27,
     "metadata": {},
     "output_type": "execute_result"
    }
   ],
   "source": [
    "tsa_melted_holidays = tsa_melted\\\n",
    "    .merge(holidays, left_on='date', right_index=True, how='left')\\\n",
    "    .sort_values('date')\n",
    "tsa_melted_holidays.head()"
   ]
  },
  {
   "cell_type": "markdown",
   "id": "29efc7c8-f2c6-4a28-a36f-25e9da612d14",
   "metadata": {
    "slideshow": {
     "slide_type": "notes"
    },
    "tags": []
   },
   "source": [
    "*Tip: There are many parameters for this method, so be sure to check out the [documentation](https://pandas.pydata.org/pandas-docs/stable/reference/api/pandas.DataFrame.merge.html). To append rows, take a look at the `pd.concat()` function.*"
   ]
  },
  {
   "cell_type": "markdown",
   "id": "6d79f677-5759-4790-9004-cb1a6361a0a8",
   "metadata": {
    "slideshow": {
     "slide_type": "subslide"
    },
    "tags": []
   },
   "source": [
    "We can take this a step further by marking a few days before and after each holiday as part of the holiday. This would make it easier to compare holiday travel across years and look for any uptick in travel around the holidays:"
   ]
  },
  {
   "cell_type": "code",
   "execution_count": 28,
   "id": "a589df8f-5870-41ea-b4c1-e413fa76ad31",
   "metadata": {},
   "outputs": [],
   "source": [
    "tsa_melted_holiday_travel = tsa_melted_holidays.assign(\n",
    "    holiday=lambda x:\n",
    "        x.holiday\\\n",
    "            .fillna(method='ffill', limit=1)\\\n",
    "            .fillna(method='bfill', limit=2)\n",
    ")"
   ]
  },
  {
   "cell_type": "markdown",
   "id": "eb5a331c-143a-4b3e-bb90-9d948da4d148",
   "metadata": {
    "slideshow": {
     "slide_type": "notes"
    },
    "tags": []
   },
   "source": [
    "*Tip: Check out the [documentation](https://pandas.pydata.org/pandas-docs/stable/reference/api/pandas.DataFrame.fillna.html) for the full list of functionality available with the `fillna()` method.*"
   ]
  },
  {
   "cell_type": "markdown",
   "id": "1c86a8f0-124b-4837-9c09-21923fbcb926",
   "metadata": {
    "slideshow": {
     "slide_type": "subslide"
    },
    "tags": []
   },
   "source": [
    "Notice that we now have values for the day after each holiday and the two days prior. Thanksgiving in 2019 was on November 28th, so the 26th, 27th, and 29th were filled. Since we are only replacing null values, we don't override Christmas Day with the forward fill of Christmas Eve:"
   ]
  },
  {
   "cell_type": "code",
   "execution_count": 29,
   "id": "c895269f-37b5-4246-974a-d8a91730f346",
   "metadata": {
    "scrolled": true
   },
   "outputs": [
    {
     "data": {
      "text/html": [
       "<div>\n",
       "<style scoped>\n",
       "    .dataframe tbody tr th:only-of-type {\n",
       "        vertical-align: middle;\n",
       "    }\n",
       "\n",
       "    .dataframe tbody tr th {\n",
       "        vertical-align: top;\n",
       "    }\n",
       "\n",
       "    .dataframe thead th {\n",
       "        text-align: right;\n",
       "    }\n",
       "</style>\n",
       "<table border=\"1\" class=\"dataframe\">\n",
       "  <thead>\n",
       "    <tr style=\"text-align: right;\">\n",
       "      <th></th>\n",
       "      <th>date</th>\n",
       "      <th>year</th>\n",
       "      <th>travelers</th>\n",
       "      <th>holiday</th>\n",
       "    </tr>\n",
       "  </thead>\n",
       "  <tbody>\n",
       "    <tr>\n",
       "      <th>899</th>\n",
       "      <td>2019-11-26</td>\n",
       "      <td>2019</td>\n",
       "      <td>1591158.0</td>\n",
       "      <td>Thanksgiving</td>\n",
       "    </tr>\n",
       "    <tr>\n",
       "      <th>898</th>\n",
       "      <td>2019-11-27</td>\n",
       "      <td>2019</td>\n",
       "      <td>1968137.0</td>\n",
       "      <td>Thanksgiving</td>\n",
       "    </tr>\n",
       "    <tr>\n",
       "      <th>897</th>\n",
       "      <td>2019-11-28</td>\n",
       "      <td>2019</td>\n",
       "      <td>2648268.0</td>\n",
       "      <td>Thanksgiving</td>\n",
       "    </tr>\n",
       "    <tr>\n",
       "      <th>896</th>\n",
       "      <td>2019-11-29</td>\n",
       "      <td>2019</td>\n",
       "      <td>2882915.0</td>\n",
       "      <td>Thanksgiving</td>\n",
       "    </tr>\n",
       "    <tr>\n",
       "      <th>873</th>\n",
       "      <td>2019-12-22</td>\n",
       "      <td>2019</td>\n",
       "      <td>1981433.0</td>\n",
       "      <td>Christmas Eve</td>\n",
       "    </tr>\n",
       "    <tr>\n",
       "      <th>872</th>\n",
       "      <td>2019-12-23</td>\n",
       "      <td>2019</td>\n",
       "      <td>1937235.0</td>\n",
       "      <td>Christmas Eve</td>\n",
       "    </tr>\n",
       "    <tr>\n",
       "      <th>871</th>\n",
       "      <td>2019-12-24</td>\n",
       "      <td>2019</td>\n",
       "      <td>2552194.0</td>\n",
       "      <td>Christmas Eve</td>\n",
       "    </tr>\n",
       "    <tr>\n",
       "      <th>870</th>\n",
       "      <td>2019-12-25</td>\n",
       "      <td>2019</td>\n",
       "      <td>2582580.0</td>\n",
       "      <td>Christmas Day</td>\n",
       "    </tr>\n",
       "    <tr>\n",
       "      <th>869</th>\n",
       "      <td>2019-12-26</td>\n",
       "      <td>2019</td>\n",
       "      <td>2470786.0</td>\n",
       "      <td>Christmas Day</td>\n",
       "    </tr>\n",
       "  </tbody>\n",
       "</table>\n",
       "</div>"
      ],
      "text/plain": [
       "          date  year  travelers        holiday\n",
       "899 2019-11-26  2019  1591158.0   Thanksgiving\n",
       "898 2019-11-27  2019  1968137.0   Thanksgiving\n",
       "897 2019-11-28  2019  2648268.0   Thanksgiving\n",
       "896 2019-11-29  2019  2882915.0   Thanksgiving\n",
       "873 2019-12-22  2019  1981433.0  Christmas Eve\n",
       "872 2019-12-23  2019  1937235.0  Christmas Eve\n",
       "871 2019-12-24  2019  2552194.0  Christmas Eve\n",
       "870 2019-12-25  2019  2582580.0  Christmas Day\n",
       "869 2019-12-26  2019  2470786.0  Christmas Day"
      ]
     },
     "execution_count": 29,
     "metadata": {},
     "output_type": "execute_result"
    }
   ],
   "source": [
    "tsa_melted_holiday_travel.query(\n",
    "    'year == \"2019\" and '\n",
    "    '(holiday == \"Thanksgiving\" or holiday.str.contains(\"Christmas\"))'\n",
    ")"
   ]
  },
  {
   "cell_type": "markdown",
   "id": "9e37acd0",
   "metadata": {
    "slideshow": {
     "slide_type": "subslide"
    }
   },
   "source": [
    "### Exercise 3\n",
    "\n",
    "Using the meteorite data from the `Meteorite_Landings.csv` file, create a pivot table that shows both the number of meteorites and the 95th percentile of meteorite mass for those that were found versus observed falling per year from 2005 through 2009 (inclusive). Hint: Be sure to convert the `year` column to a number as we did in the previous exercise."
   ]
  },
  {
   "cell_type": "code",
   "execution_count": null,
   "id": "671ed113",
   "metadata": {},
   "outputs": [],
   "source": []
  },
  {
   "cell_type": "markdown",
   "id": "93dc1de4",
   "metadata": {
    "slideshow": {
     "slide_type": "subslide"
    }
   },
   "source": [
    "### Exercise 4\n",
    "\n",
    "Using the meteorite data from the `Meteorite_Landings.csv` file, compare summary statistics of the mass column for the meteorites that were found versus observed falling."
   ]
  },
  {
   "cell_type": "code",
   "execution_count": null,
   "id": "ca01180c",
   "metadata": {},
   "outputs": [],
   "source": []
  },
  {
   "cell_type": "markdown",
   "id": "6f39b28e-9c9b-4b97-93be-41ade4dcd8f8",
   "metadata": {
    "slideshow": {
     "slide_type": "slide"
    },
    "tags": []
   },
   "source": [
    "## Time series\n",
    "\n",
    "- When working with time series data, pandas provides us with additional functionality to not just compare the observations in our dataset, but to use their relationship in time to analyze the data. \n",
    "- In this section, we will see a few such operations for selecting date/time ranges, calculating changes over time, performing window calculations, and resampling the data to different date/time intervals."
   ]
  },
  {
   "cell_type": "markdown",
   "id": "1bb690d8-a77e-4dd7-a8ac-4a4fcfc3a156",
   "metadata": {
    "slideshow": {
     "slide_type": "subslide"
    },
    "tags": []
   },
   "source": [
    "### Selecting based on date and time\n",
    "\n",
    "Let's switch back to the `taxis` dataset, which has timestamps of pickups and dropoffs. First, we will set the `dropoff` column as the index and sort the data:"
   ]
  },
  {
   "cell_type": "code",
   "execution_count": 31,
   "id": "e1556b7a-ccde-432b-81a9-8b2c80b67d68",
   "metadata": {},
   "outputs": [
    {
     "data": {
      "text/html": [
       "<div>\n",
       "<style scoped>\n",
       "    .dataframe tbody tr th:only-of-type {\n",
       "        vertical-align: middle;\n",
       "    }\n",
       "\n",
       "    .dataframe tbody tr th {\n",
       "        vertical-align: top;\n",
       "    }\n",
       "\n",
       "    .dataframe thead th {\n",
       "        text-align: right;\n",
       "    }\n",
       "</style>\n",
       "<table border=\"1\" class=\"dataframe\">\n",
       "  <thead>\n",
       "    <tr style=\"text-align: right;\">\n",
       "      <th></th>\n",
       "      <th>pickup</th>\n",
       "      <th>passenger_count</th>\n",
       "      <th>trip_distance</th>\n",
       "      <th>payment_type</th>\n",
       "      <th>fare_amount</th>\n",
       "      <th>extra</th>\n",
       "      <th>mta_tax</th>\n",
       "      <th>tip_amount</th>\n",
       "      <th>tolls_amount</th>\n",
       "      <th>improvement_surcharge</th>\n",
       "      <th>total_amount</th>\n",
       "      <th>congestion_surcharge</th>\n",
       "      <th>elapsed_time</th>\n",
       "      <th>cost_before_tip</th>\n",
       "      <th>tip_pct</th>\n",
       "      <th>fees</th>\n",
       "      <th>avg_speed</th>\n",
       "    </tr>\n",
       "    <tr>\n",
       "      <th>dropoff</th>\n",
       "      <th></th>\n",
       "      <th></th>\n",
       "      <th></th>\n",
       "      <th></th>\n",
       "      <th></th>\n",
       "      <th></th>\n",
       "      <th></th>\n",
       "      <th></th>\n",
       "      <th></th>\n",
       "      <th></th>\n",
       "      <th></th>\n",
       "      <th></th>\n",
       "      <th></th>\n",
       "      <th></th>\n",
       "      <th></th>\n",
       "      <th></th>\n",
       "      <th></th>\n",
       "    </tr>\n",
       "  </thead>\n",
       "  <tbody>\n",
       "    <tr>\n",
       "      <th>2019-10-23 07:52:09</th>\n",
       "      <td>2019-10-23 07:48:58</td>\n",
       "      <td>1</td>\n",
       "      <td>0.67</td>\n",
       "      <td>2</td>\n",
       "      <td>4.5</td>\n",
       "      <td>1.0</td>\n",
       "      <td>0.5</td>\n",
       "      <td>0.0</td>\n",
       "      <td>0.0</td>\n",
       "      <td>0.3</td>\n",
       "      <td>8.8</td>\n",
       "      <td>2.5</td>\n",
       "      <td>0 days 00:03:11</td>\n",
       "      <td>8.8</td>\n",
       "      <td>0.000000</td>\n",
       "      <td>4.3</td>\n",
       "      <td>12.628272</td>\n",
       "    </tr>\n",
       "    <tr>\n",
       "      <th>2019-10-23 08:03:16</th>\n",
       "      <td>2019-10-23 07:05:34</td>\n",
       "      <td>3</td>\n",
       "      <td>14.68</td>\n",
       "      <td>1</td>\n",
       "      <td>50.0</td>\n",
       "      <td>1.0</td>\n",
       "      <td>0.5</td>\n",
       "      <td>4.0</td>\n",
       "      <td>0.0</td>\n",
       "      <td>0.3</td>\n",
       "      <td>55.8</td>\n",
       "      <td>0.0</td>\n",
       "      <td>0 days 00:57:42</td>\n",
       "      <td>51.8</td>\n",
       "      <td>0.077220</td>\n",
       "      <td>1.8</td>\n",
       "      <td>15.265165</td>\n",
       "    </tr>\n",
       "    <tr>\n",
       "      <th>2019-10-23 08:36:05</th>\n",
       "      <td>2019-10-23 08:18:47</td>\n",
       "      <td>1</td>\n",
       "      <td>2.39</td>\n",
       "      <td>2</td>\n",
       "      <td>12.5</td>\n",
       "      <td>1.0</td>\n",
       "      <td>0.5</td>\n",
       "      <td>0.0</td>\n",
       "      <td>0.0</td>\n",
       "      <td>0.3</td>\n",
       "      <td>16.8</td>\n",
       "      <td>2.5</td>\n",
       "      <td>0 days 00:17:18</td>\n",
       "      <td>16.8</td>\n",
       "      <td>0.000000</td>\n",
       "      <td>4.3</td>\n",
       "      <td>8.289017</td>\n",
       "    </tr>\n",
       "    <tr>\n",
       "      <th>2019-10-23 09:33:13</th>\n",
       "      <td>2019-10-23 09:27:16</td>\n",
       "      <td>2</td>\n",
       "      <td>1.11</td>\n",
       "      <td>2</td>\n",
       "      <td>6.0</td>\n",
       "      <td>1.0</td>\n",
       "      <td>0.5</td>\n",
       "      <td>0.0</td>\n",
       "      <td>0.0</td>\n",
       "      <td>0.3</td>\n",
       "      <td>7.8</td>\n",
       "      <td>0.0</td>\n",
       "      <td>0 days 00:05:57</td>\n",
       "      <td>7.8</td>\n",
       "      <td>0.000000</td>\n",
       "      <td>1.8</td>\n",
       "      <td>11.193277</td>\n",
       "    </tr>\n",
       "    <tr>\n",
       "      <th>2019-10-23 09:49:31</th>\n",
       "      <td>2019-10-23 09:47:25</td>\n",
       "      <td>2</td>\n",
       "      <td>0.47</td>\n",
       "      <td>2</td>\n",
       "      <td>52.0</td>\n",
       "      <td>4.5</td>\n",
       "      <td>0.5</td>\n",
       "      <td>0.0</td>\n",
       "      <td>0.0</td>\n",
       "      <td>0.3</td>\n",
       "      <td>59.8</td>\n",
       "      <td>2.5</td>\n",
       "      <td>0 days 00:02:06</td>\n",
       "      <td>59.8</td>\n",
       "      <td>0.000000</td>\n",
       "      <td>7.8</td>\n",
       "      <td>13.428571</td>\n",
       "    </tr>\n",
       "    <tr>\n",
       "      <th>...</th>\n",
       "      <td>...</td>\n",
       "      <td>...</td>\n",
       "      <td>...</td>\n",
       "      <td>...</td>\n",
       "      <td>...</td>\n",
       "      <td>...</td>\n",
       "      <td>...</td>\n",
       "      <td>...</td>\n",
       "      <td>...</td>\n",
       "      <td>...</td>\n",
       "      <td>...</td>\n",
       "      <td>...</td>\n",
       "      <td>...</td>\n",
       "      <td>...</td>\n",
       "      <td>...</td>\n",
       "      <td>...</td>\n",
       "      <td>...</td>\n",
       "    </tr>\n",
       "    <tr>\n",
       "      <th>2019-10-24 16:46:42</th>\n",
       "      <td>2019-10-23 16:49:40</td>\n",
       "      <td>1</td>\n",
       "      <td>3.55</td>\n",
       "      <td>2</td>\n",
       "      <td>15.5</td>\n",
       "      <td>1.0</td>\n",
       "      <td>0.5</td>\n",
       "      <td>0.0</td>\n",
       "      <td>0.0</td>\n",
       "      <td>0.3</td>\n",
       "      <td>19.8</td>\n",
       "      <td>2.5</td>\n",
       "      <td>0 days 23:57:02</td>\n",
       "      <td>19.8</td>\n",
       "      <td>0.000000</td>\n",
       "      <td>4.3</td>\n",
       "      <td>0.148222</td>\n",
       "    </tr>\n",
       "    <tr>\n",
       "      <th>2019-10-24 16:47:40</th>\n",
       "      <td>2019-10-23 16:49:36</td>\n",
       "      <td>1</td>\n",
       "      <td>2.54</td>\n",
       "      <td>1</td>\n",
       "      <td>11.0</td>\n",
       "      <td>1.0</td>\n",
       "      <td>0.5</td>\n",
       "      <td>2.3</td>\n",
       "      <td>0.0</td>\n",
       "      <td>0.3</td>\n",
       "      <td>17.6</td>\n",
       "      <td>2.5</td>\n",
       "      <td>0 days 23:58:04</td>\n",
       "      <td>15.3</td>\n",
       "      <td>0.150327</td>\n",
       "      <td>4.3</td>\n",
       "      <td>0.105976</td>\n",
       "    </tr>\n",
       "    <tr>\n",
       "      <th>2019-10-24 16:50:22</th>\n",
       "      <td>2019-10-23 16:51:42</td>\n",
       "      <td>1</td>\n",
       "      <td>11.19</td>\n",
       "      <td>2</td>\n",
       "      <td>39.5</td>\n",
       "      <td>1.0</td>\n",
       "      <td>0.5</td>\n",
       "      <td>0.0</td>\n",
       "      <td>0.0</td>\n",
       "      <td>0.3</td>\n",
       "      <td>41.3</td>\n",
       "      <td>0.0</td>\n",
       "      <td>0 days 23:58:40</td>\n",
       "      <td>41.3</td>\n",
       "      <td>0.000000</td>\n",
       "      <td>1.8</td>\n",
       "      <td>0.466682</td>\n",
       "    </tr>\n",
       "    <tr>\n",
       "      <th>2019-10-24 16:51:44</th>\n",
       "      <td>2019-10-23 16:52:51</td>\n",
       "      <td>1</td>\n",
       "      <td>3.75</td>\n",
       "      <td>1</td>\n",
       "      <td>17.5</td>\n",
       "      <td>1.0</td>\n",
       "      <td>0.5</td>\n",
       "      <td>0.0</td>\n",
       "      <td>0.0</td>\n",
       "      <td>0.3</td>\n",
       "      <td>21.8</td>\n",
       "      <td>2.5</td>\n",
       "      <td>0 days 23:58:53</td>\n",
       "      <td>21.8</td>\n",
       "      <td>0.000000</td>\n",
       "      <td>4.3</td>\n",
       "      <td>0.156371</td>\n",
       "    </tr>\n",
       "    <tr>\n",
       "      <th>2019-10-24 17:15:47</th>\n",
       "      <td>2019-10-23 17:19:31</td>\n",
       "      <td>2</td>\n",
       "      <td>7.48</td>\n",
       "      <td>2</td>\n",
       "      <td>29.0</td>\n",
       "      <td>1.0</td>\n",
       "      <td>0.5</td>\n",
       "      <td>0.0</td>\n",
       "      <td>0.0</td>\n",
       "      <td>0.3</td>\n",
       "      <td>33.3</td>\n",
       "      <td>2.5</td>\n",
       "      <td>0 days 23:56:16</td>\n",
       "      <td>33.3</td>\n",
       "      <td>0.000000</td>\n",
       "      <td>4.3</td>\n",
       "      <td>0.312477</td>\n",
       "    </tr>\n",
       "  </tbody>\n",
       "</table>\n",
       "<p>10000 rows × 17 columns</p>\n",
       "</div>"
      ],
      "text/plain": [
       "                                 pickup  passenger_count  trip_distance   \n",
       "dropoff                                                                   \n",
       "2019-10-23 07:52:09 2019-10-23 07:48:58                1           0.67  \\\n",
       "2019-10-23 08:03:16 2019-10-23 07:05:34                3          14.68   \n",
       "2019-10-23 08:36:05 2019-10-23 08:18:47                1           2.39   \n",
       "2019-10-23 09:33:13 2019-10-23 09:27:16                2           1.11   \n",
       "2019-10-23 09:49:31 2019-10-23 09:47:25                2           0.47   \n",
       "...                                 ...              ...            ...   \n",
       "2019-10-24 16:46:42 2019-10-23 16:49:40                1           3.55   \n",
       "2019-10-24 16:47:40 2019-10-23 16:49:36                1           2.54   \n",
       "2019-10-24 16:50:22 2019-10-23 16:51:42                1          11.19   \n",
       "2019-10-24 16:51:44 2019-10-23 16:52:51                1           3.75   \n",
       "2019-10-24 17:15:47 2019-10-23 17:19:31                2           7.48   \n",
       "\n",
       "                     payment_type  fare_amount  extra  mta_tax  tip_amount   \n",
       "dropoff                                                                      \n",
       "2019-10-23 07:52:09             2          4.5    1.0      0.5         0.0  \\\n",
       "2019-10-23 08:03:16             1         50.0    1.0      0.5         4.0   \n",
       "2019-10-23 08:36:05             2         12.5    1.0      0.5         0.0   \n",
       "2019-10-23 09:33:13             2          6.0    1.0      0.5         0.0   \n",
       "2019-10-23 09:49:31             2         52.0    4.5      0.5         0.0   \n",
       "...                           ...          ...    ...      ...         ...   \n",
       "2019-10-24 16:46:42             2         15.5    1.0      0.5         0.0   \n",
       "2019-10-24 16:47:40             1         11.0    1.0      0.5         2.3   \n",
       "2019-10-24 16:50:22             2         39.5    1.0      0.5         0.0   \n",
       "2019-10-24 16:51:44             1         17.5    1.0      0.5         0.0   \n",
       "2019-10-24 17:15:47             2         29.0    1.0      0.5         0.0   \n",
       "\n",
       "                     tolls_amount  improvement_surcharge  total_amount   \n",
       "dropoff                                                                  \n",
       "2019-10-23 07:52:09           0.0                    0.3           8.8  \\\n",
       "2019-10-23 08:03:16           0.0                    0.3          55.8   \n",
       "2019-10-23 08:36:05           0.0                    0.3          16.8   \n",
       "2019-10-23 09:33:13           0.0                    0.3           7.8   \n",
       "2019-10-23 09:49:31           0.0                    0.3          59.8   \n",
       "...                           ...                    ...           ...   \n",
       "2019-10-24 16:46:42           0.0                    0.3          19.8   \n",
       "2019-10-24 16:47:40           0.0                    0.3          17.6   \n",
       "2019-10-24 16:50:22           0.0                    0.3          41.3   \n",
       "2019-10-24 16:51:44           0.0                    0.3          21.8   \n",
       "2019-10-24 17:15:47           0.0                    0.3          33.3   \n",
       "\n",
       "                     congestion_surcharge    elapsed_time  cost_before_tip   \n",
       "dropoff                                                                      \n",
       "2019-10-23 07:52:09                   2.5 0 days 00:03:11              8.8  \\\n",
       "2019-10-23 08:03:16                   0.0 0 days 00:57:42             51.8   \n",
       "2019-10-23 08:36:05                   2.5 0 days 00:17:18             16.8   \n",
       "2019-10-23 09:33:13                   0.0 0 days 00:05:57              7.8   \n",
       "2019-10-23 09:49:31                   2.5 0 days 00:02:06             59.8   \n",
       "...                                   ...             ...              ...   \n",
       "2019-10-24 16:46:42                   2.5 0 days 23:57:02             19.8   \n",
       "2019-10-24 16:47:40                   2.5 0 days 23:58:04             15.3   \n",
       "2019-10-24 16:50:22                   0.0 0 days 23:58:40             41.3   \n",
       "2019-10-24 16:51:44                   2.5 0 days 23:58:53             21.8   \n",
       "2019-10-24 17:15:47                   2.5 0 days 23:56:16             33.3   \n",
       "\n",
       "                      tip_pct  fees  avg_speed  \n",
       "dropoff                                         \n",
       "2019-10-23 07:52:09  0.000000   4.3  12.628272  \n",
       "2019-10-23 08:03:16  0.077220   1.8  15.265165  \n",
       "2019-10-23 08:36:05  0.000000   4.3   8.289017  \n",
       "2019-10-23 09:33:13  0.000000   1.8  11.193277  \n",
       "2019-10-23 09:49:31  0.000000   7.8  13.428571  \n",
       "...                       ...   ...        ...  \n",
       "2019-10-24 16:46:42  0.000000   4.3   0.148222  \n",
       "2019-10-24 16:47:40  0.150327   4.3   0.105976  \n",
       "2019-10-24 16:50:22  0.000000   1.8   0.466682  \n",
       "2019-10-24 16:51:44  0.000000   4.3   0.156371  \n",
       "2019-10-24 17:15:47  0.000000   4.3   0.312477  \n",
       "\n",
       "[10000 rows x 17 columns]"
      ]
     },
     "execution_count": 31,
     "metadata": {},
     "output_type": "execute_result"
    }
   ],
   "source": [
    "taxis = taxis.set_index('dropoff').sort_index()"
   ]
  },
  {
   "cell_type": "markdown",
   "id": "ef86c832-5ed4-4a86-8a84-93fb179b9df4",
   "metadata": {
    "slideshow": {
     "slide_type": "subslide"
    },
    "tags": []
   },
   "source": [
    "We saw earlier that we can slice on the datetimes:"
   ]
  },
  {
   "cell_type": "code",
   "execution_count": 32,
   "id": "f41a0a74-0bc8-4649-8b86-f44cdfb1062a",
   "metadata": {},
   "outputs": [
    {
     "data": {
      "text/html": [
       "<div>\n",
       "<style scoped>\n",
       "    .dataframe tbody tr th:only-of-type {\n",
       "        vertical-align: middle;\n",
       "    }\n",
       "\n",
       "    .dataframe tbody tr th {\n",
       "        vertical-align: top;\n",
       "    }\n",
       "\n",
       "    .dataframe thead th {\n",
       "        text-align: right;\n",
       "    }\n",
       "</style>\n",
       "<table border=\"1\" class=\"dataframe\">\n",
       "  <thead>\n",
       "    <tr style=\"text-align: right;\">\n",
       "      <th></th>\n",
       "      <th>pickup</th>\n",
       "      <th>passenger_count</th>\n",
       "      <th>trip_distance</th>\n",
       "      <th>payment_type</th>\n",
       "      <th>fare_amount</th>\n",
       "      <th>extra</th>\n",
       "      <th>mta_tax</th>\n",
       "      <th>tip_amount</th>\n",
       "      <th>tolls_amount</th>\n",
       "      <th>improvement_surcharge</th>\n",
       "      <th>total_amount</th>\n",
       "      <th>congestion_surcharge</th>\n",
       "      <th>elapsed_time</th>\n",
       "      <th>cost_before_tip</th>\n",
       "      <th>tip_pct</th>\n",
       "      <th>fees</th>\n",
       "      <th>avg_speed</th>\n",
       "    </tr>\n",
       "    <tr>\n",
       "      <th>dropoff</th>\n",
       "      <th></th>\n",
       "      <th></th>\n",
       "      <th></th>\n",
       "      <th></th>\n",
       "      <th></th>\n",
       "      <th></th>\n",
       "      <th></th>\n",
       "      <th></th>\n",
       "      <th></th>\n",
       "      <th></th>\n",
       "      <th></th>\n",
       "      <th></th>\n",
       "      <th></th>\n",
       "      <th></th>\n",
       "      <th></th>\n",
       "      <th></th>\n",
       "      <th></th>\n",
       "    </tr>\n",
       "  </thead>\n",
       "  <tbody>\n",
       "    <tr>\n",
       "      <th>2019-10-24 12:30:08</th>\n",
       "      <td>2019-10-23 13:25:42</td>\n",
       "      <td>4</td>\n",
       "      <td>0.76</td>\n",
       "      <td>2</td>\n",
       "      <td>5.0</td>\n",
       "      <td>1.0</td>\n",
       "      <td>0.5</td>\n",
       "      <td>0.00</td>\n",
       "      <td>0.0</td>\n",
       "      <td>0.3</td>\n",
       "      <td>9.30</td>\n",
       "      <td>2.5</td>\n",
       "      <td>0 days 23:04:26</td>\n",
       "      <td>9.3</td>\n",
       "      <td>0.0</td>\n",
       "      <td>4.3</td>\n",
       "      <td>0.032938</td>\n",
       "    </tr>\n",
       "    <tr>\n",
       "      <th>2019-10-24 12:42:01</th>\n",
       "      <td>2019-10-23 13:34:03</td>\n",
       "      <td>2</td>\n",
       "      <td>1.58</td>\n",
       "      <td>1</td>\n",
       "      <td>7.5</td>\n",
       "      <td>1.0</td>\n",
       "      <td>0.5</td>\n",
       "      <td>2.36</td>\n",
       "      <td>0.0</td>\n",
       "      <td>0.3</td>\n",
       "      <td>14.16</td>\n",
       "      <td>2.5</td>\n",
       "      <td>0 days 23:07:58</td>\n",
       "      <td>11.8</td>\n",
       "      <td>0.2</td>\n",
       "      <td>4.3</td>\n",
       "      <td>0.068301</td>\n",
       "    </tr>\n",
       "  </tbody>\n",
       "</table>\n",
       "</div>"
      ],
      "text/plain": [
       "                                 pickup  passenger_count  trip_distance   \n",
       "dropoff                                                                   \n",
       "2019-10-24 12:30:08 2019-10-23 13:25:42                4           0.76  \\\n",
       "2019-10-24 12:42:01 2019-10-23 13:34:03                2           1.58   \n",
       "\n",
       "                     payment_type  fare_amount  extra  mta_tax  tip_amount   \n",
       "dropoff                                                                      \n",
       "2019-10-24 12:30:08             2          5.0    1.0      0.5        0.00  \\\n",
       "2019-10-24 12:42:01             1          7.5    1.0      0.5        2.36   \n",
       "\n",
       "                     tolls_amount  improvement_surcharge  total_amount   \n",
       "dropoff                                                                  \n",
       "2019-10-24 12:30:08           0.0                    0.3          9.30  \\\n",
       "2019-10-24 12:42:01           0.0                    0.3         14.16   \n",
       "\n",
       "                     congestion_surcharge    elapsed_time  cost_before_tip   \n",
       "dropoff                                                                      \n",
       "2019-10-24 12:30:08                   2.5 0 days 23:04:26              9.3  \\\n",
       "2019-10-24 12:42:01                   2.5 0 days 23:07:58             11.8   \n",
       "\n",
       "                     tip_pct  fees  avg_speed  \n",
       "dropoff                                        \n",
       "2019-10-24 12:30:08      0.0   4.3   0.032938  \n",
       "2019-10-24 12:42:01      0.2   4.3   0.068301  "
      ]
     },
     "execution_count": 32,
     "metadata": {},
     "output_type": "execute_result"
    }
   ],
   "source": [
    "taxis['2019-10-24 12':'2019-10-24 13']"
   ]
  },
  {
   "cell_type": "markdown",
   "id": "c286a4f6-54fc-409d-b10a-8f6ac2734347",
   "metadata": {
    "slideshow": {
     "slide_type": "subslide"
    },
    "tags": []
   },
   "source": [
    "We can also represent this range with shorthand. Note that we must use `loc[]` here:"
   ]
  },
  {
   "cell_type": "code",
   "execution_count": 33,
   "id": "9e6b26c9-4048-4207-8454-b9f018a56816",
   "metadata": {},
   "outputs": [
    {
     "data": {
      "text/html": [
       "<div>\n",
       "<style scoped>\n",
       "    .dataframe tbody tr th:only-of-type {\n",
       "        vertical-align: middle;\n",
       "    }\n",
       "\n",
       "    .dataframe tbody tr th {\n",
       "        vertical-align: top;\n",
       "    }\n",
       "\n",
       "    .dataframe thead th {\n",
       "        text-align: right;\n",
       "    }\n",
       "</style>\n",
       "<table border=\"1\" class=\"dataframe\">\n",
       "  <thead>\n",
       "    <tr style=\"text-align: right;\">\n",
       "      <th></th>\n",
       "      <th>pickup</th>\n",
       "      <th>passenger_count</th>\n",
       "      <th>trip_distance</th>\n",
       "      <th>payment_type</th>\n",
       "      <th>fare_amount</th>\n",
       "      <th>extra</th>\n",
       "      <th>mta_tax</th>\n",
       "      <th>tip_amount</th>\n",
       "      <th>tolls_amount</th>\n",
       "      <th>improvement_surcharge</th>\n",
       "      <th>total_amount</th>\n",
       "      <th>congestion_surcharge</th>\n",
       "      <th>elapsed_time</th>\n",
       "      <th>cost_before_tip</th>\n",
       "      <th>tip_pct</th>\n",
       "      <th>fees</th>\n",
       "      <th>avg_speed</th>\n",
       "    </tr>\n",
       "    <tr>\n",
       "      <th>dropoff</th>\n",
       "      <th></th>\n",
       "      <th></th>\n",
       "      <th></th>\n",
       "      <th></th>\n",
       "      <th></th>\n",
       "      <th></th>\n",
       "      <th></th>\n",
       "      <th></th>\n",
       "      <th></th>\n",
       "      <th></th>\n",
       "      <th></th>\n",
       "      <th></th>\n",
       "      <th></th>\n",
       "      <th></th>\n",
       "      <th></th>\n",
       "      <th></th>\n",
       "      <th></th>\n",
       "    </tr>\n",
       "  </thead>\n",
       "  <tbody>\n",
       "    <tr>\n",
       "      <th>2019-10-24 12:30:08</th>\n",
       "      <td>2019-10-23 13:25:42</td>\n",
       "      <td>4</td>\n",
       "      <td>0.76</td>\n",
       "      <td>2</td>\n",
       "      <td>5.0</td>\n",
       "      <td>1.0</td>\n",
       "      <td>0.5</td>\n",
       "      <td>0.00</td>\n",
       "      <td>0.0</td>\n",
       "      <td>0.3</td>\n",
       "      <td>9.30</td>\n",
       "      <td>2.5</td>\n",
       "      <td>0 days 23:04:26</td>\n",
       "      <td>9.3</td>\n",
       "      <td>0.0</td>\n",
       "      <td>4.3</td>\n",
       "      <td>0.032938</td>\n",
       "    </tr>\n",
       "    <tr>\n",
       "      <th>2019-10-24 12:42:01</th>\n",
       "      <td>2019-10-23 13:34:03</td>\n",
       "      <td>2</td>\n",
       "      <td>1.58</td>\n",
       "      <td>1</td>\n",
       "      <td>7.5</td>\n",
       "      <td>1.0</td>\n",
       "      <td>0.5</td>\n",
       "      <td>2.36</td>\n",
       "      <td>0.0</td>\n",
       "      <td>0.3</td>\n",
       "      <td>14.16</td>\n",
       "      <td>2.5</td>\n",
       "      <td>0 days 23:07:58</td>\n",
       "      <td>11.8</td>\n",
       "      <td>0.2</td>\n",
       "      <td>4.3</td>\n",
       "      <td>0.068301</td>\n",
       "    </tr>\n",
       "  </tbody>\n",
       "</table>\n",
       "</div>"
      ],
      "text/plain": [
       "                                 pickup  passenger_count  trip_distance   \n",
       "dropoff                                                                   \n",
       "2019-10-24 12:30:08 2019-10-23 13:25:42                4           0.76  \\\n",
       "2019-10-24 12:42:01 2019-10-23 13:34:03                2           1.58   \n",
       "\n",
       "                     payment_type  fare_amount  extra  mta_tax  tip_amount   \n",
       "dropoff                                                                      \n",
       "2019-10-24 12:30:08             2          5.0    1.0      0.5        0.00  \\\n",
       "2019-10-24 12:42:01             1          7.5    1.0      0.5        2.36   \n",
       "\n",
       "                     tolls_amount  improvement_surcharge  total_amount   \n",
       "dropoff                                                                  \n",
       "2019-10-24 12:30:08           0.0                    0.3          9.30  \\\n",
       "2019-10-24 12:42:01           0.0                    0.3         14.16   \n",
       "\n",
       "                     congestion_surcharge    elapsed_time  cost_before_tip   \n",
       "dropoff                                                                      \n",
       "2019-10-24 12:30:08                   2.5 0 days 23:04:26              9.3  \\\n",
       "2019-10-24 12:42:01                   2.5 0 days 23:07:58             11.8   \n",
       "\n",
       "                     tip_pct  fees  avg_speed  \n",
       "dropoff                                        \n",
       "2019-10-24 12:30:08      0.0   4.3   0.032938  \n",
       "2019-10-24 12:42:01      0.2   4.3   0.068301  "
      ]
     },
     "execution_count": 33,
     "metadata": {},
     "output_type": "execute_result"
    }
   ],
   "source": [
    "taxis.loc['2019-10-24 12']"
   ]
  },
  {
   "cell_type": "markdown",
   "id": "8705d663-67c8-4f6f-b3e9-52bceeea122f",
   "metadata": {
    "slideshow": {
     "slide_type": "fragment"
    },
    "tags": []
   },
   "source": [
    "However, if we want to look at this time range across days, we need another strategy."
   ]
  },
  {
   "cell_type": "markdown",
   "id": "78093e7d-ce53-424b-b484-820c4d98ace0",
   "metadata": {
    "slideshow": {
     "slide_type": "subslide"
    },
    "tags": []
   },
   "source": [
    "We can pull out the dropoffs that happened between a certain time range on *any* day with the `between_time()` method:"
   ]
  },
  {
   "cell_type": "code",
   "execution_count": 34,
   "id": "915f528c-639f-4b8b-99cc-9c83bb0cad4d",
   "metadata": {},
   "outputs": [
    {
     "data": {
      "text/html": [
       "<div>\n",
       "<style scoped>\n",
       "    .dataframe tbody tr th:only-of-type {\n",
       "        vertical-align: middle;\n",
       "    }\n",
       "\n",
       "    .dataframe tbody tr th {\n",
       "        vertical-align: top;\n",
       "    }\n",
       "\n",
       "    .dataframe thead th {\n",
       "        text-align: right;\n",
       "    }\n",
       "</style>\n",
       "<table border=\"1\" class=\"dataframe\">\n",
       "  <thead>\n",
       "    <tr style=\"text-align: right;\">\n",
       "      <th></th>\n",
       "      <th>pickup</th>\n",
       "      <th>passenger_count</th>\n",
       "      <th>trip_distance</th>\n",
       "      <th>payment_type</th>\n",
       "      <th>fare_amount</th>\n",
       "      <th>extra</th>\n",
       "      <th>mta_tax</th>\n",
       "      <th>tip_amount</th>\n",
       "      <th>tolls_amount</th>\n",
       "      <th>improvement_surcharge</th>\n",
       "      <th>total_amount</th>\n",
       "      <th>congestion_surcharge</th>\n",
       "      <th>elapsed_time</th>\n",
       "      <th>cost_before_tip</th>\n",
       "      <th>tip_pct</th>\n",
       "      <th>fees</th>\n",
       "      <th>avg_speed</th>\n",
       "    </tr>\n",
       "    <tr>\n",
       "      <th>dropoff</th>\n",
       "      <th></th>\n",
       "      <th></th>\n",
       "      <th></th>\n",
       "      <th></th>\n",
       "      <th></th>\n",
       "      <th></th>\n",
       "      <th></th>\n",
       "      <th></th>\n",
       "      <th></th>\n",
       "      <th></th>\n",
       "      <th></th>\n",
       "      <th></th>\n",
       "      <th></th>\n",
       "      <th></th>\n",
       "      <th></th>\n",
       "      <th></th>\n",
       "      <th></th>\n",
       "    </tr>\n",
       "  </thead>\n",
       "  <tbody>\n",
       "    <tr>\n",
       "      <th>2019-10-23 12:53:49</th>\n",
       "      <td>2019-10-23 12:35:27</td>\n",
       "      <td>5</td>\n",
       "      <td>2.49</td>\n",
       "      <td>1</td>\n",
       "      <td>13.5</td>\n",
       "      <td>1.0</td>\n",
       "      <td>0.5</td>\n",
       "      <td>2.20</td>\n",
       "      <td>0.0</td>\n",
       "      <td>0.3</td>\n",
       "      <td>20.00</td>\n",
       "      <td>2.5</td>\n",
       "      <td>0 days 00:18:22</td>\n",
       "      <td>17.8</td>\n",
       "      <td>0.123596</td>\n",
       "      <td>4.3</td>\n",
       "      <td>8.134301</td>\n",
       "    </tr>\n",
       "    <tr>\n",
       "      <th>2019-10-24 12:30:08</th>\n",
       "      <td>2019-10-23 13:25:42</td>\n",
       "      <td>4</td>\n",
       "      <td>0.76</td>\n",
       "      <td>2</td>\n",
       "      <td>5.0</td>\n",
       "      <td>1.0</td>\n",
       "      <td>0.5</td>\n",
       "      <td>0.00</td>\n",
       "      <td>0.0</td>\n",
       "      <td>0.3</td>\n",
       "      <td>9.30</td>\n",
       "      <td>2.5</td>\n",
       "      <td>0 days 23:04:26</td>\n",
       "      <td>9.3</td>\n",
       "      <td>0.000000</td>\n",
       "      <td>4.3</td>\n",
       "      <td>0.032938</td>\n",
       "    </tr>\n",
       "    <tr>\n",
       "      <th>2019-10-24 12:42:01</th>\n",
       "      <td>2019-10-23 13:34:03</td>\n",
       "      <td>2</td>\n",
       "      <td>1.58</td>\n",
       "      <td>1</td>\n",
       "      <td>7.5</td>\n",
       "      <td>1.0</td>\n",
       "      <td>0.5</td>\n",
       "      <td>2.36</td>\n",
       "      <td>0.0</td>\n",
       "      <td>0.3</td>\n",
       "      <td>14.16</td>\n",
       "      <td>2.5</td>\n",
       "      <td>0 days 23:07:58</td>\n",
       "      <td>11.8</td>\n",
       "      <td>0.200000</td>\n",
       "      <td>4.3</td>\n",
       "      <td>0.068301</td>\n",
       "    </tr>\n",
       "  </tbody>\n",
       "</table>\n",
       "</div>"
      ],
      "text/plain": [
       "                                 pickup  passenger_count  trip_distance   \n",
       "dropoff                                                                   \n",
       "2019-10-23 12:53:49 2019-10-23 12:35:27                5           2.49  \\\n",
       "2019-10-24 12:30:08 2019-10-23 13:25:42                4           0.76   \n",
       "2019-10-24 12:42:01 2019-10-23 13:34:03                2           1.58   \n",
       "\n",
       "                     payment_type  fare_amount  extra  mta_tax  tip_amount   \n",
       "dropoff                                                                      \n",
       "2019-10-23 12:53:49             1         13.5    1.0      0.5        2.20  \\\n",
       "2019-10-24 12:30:08             2          5.0    1.0      0.5        0.00   \n",
       "2019-10-24 12:42:01             1          7.5    1.0      0.5        2.36   \n",
       "\n",
       "                     tolls_amount  improvement_surcharge  total_amount   \n",
       "dropoff                                                                  \n",
       "2019-10-23 12:53:49           0.0                    0.3         20.00  \\\n",
       "2019-10-24 12:30:08           0.0                    0.3          9.30   \n",
       "2019-10-24 12:42:01           0.0                    0.3         14.16   \n",
       "\n",
       "                     congestion_surcharge    elapsed_time  cost_before_tip   \n",
       "dropoff                                                                      \n",
       "2019-10-23 12:53:49                   2.5 0 days 00:18:22             17.8  \\\n",
       "2019-10-24 12:30:08                   2.5 0 days 23:04:26              9.3   \n",
       "2019-10-24 12:42:01                   2.5 0 days 23:07:58             11.8   \n",
       "\n",
       "                      tip_pct  fees  avg_speed  \n",
       "dropoff                                         \n",
       "2019-10-23 12:53:49  0.123596   4.3   8.134301  \n",
       "2019-10-24 12:30:08  0.000000   4.3   0.032938  \n",
       "2019-10-24 12:42:01  0.200000   4.3   0.068301  "
      ]
     },
     "execution_count": 34,
     "metadata": {},
     "output_type": "execute_result"
    }
   ],
   "source": [
    "taxis.between_time('12:00', '13:00')"
   ]
  },
  {
   "cell_type": "markdown",
   "id": "98520264-8284-414c-9c23-0c054af076f5",
   "metadata": {
    "slideshow": {
     "slide_type": "fragment"
    },
    "tags": []
   },
   "source": [
    "*Tip: The `at_time()` method can be used to extract all entries at a given time (e.g., 12:35:27).*"
   ]
  },
  {
   "cell_type": "markdown",
   "id": "6b6abd12-4ad3-47ed-be2f-c4a3bb6b1fbf",
   "metadata": {
    "slideshow": {
     "slide_type": "subslide"
    },
    "tags": []
   },
   "source": [
    "Finally, `head()` and `tail()` limit us to a number of rows, but we may be interested in rows within the first/last 2 hours (or any other time interval) of the data, in which case, we should use `first()` / `last()`:"
   ]
  },
  {
   "cell_type": "code",
   "execution_count": 40,
   "id": "e0e31dc9-dc86-4481-97b1-1cbb9d5490a6",
   "metadata": {},
   "outputs": [
    {
     "data": {
      "text/html": [
       "<div>\n",
       "<style scoped>\n",
       "    .dataframe tbody tr th:only-of-type {\n",
       "        vertical-align: middle;\n",
       "    }\n",
       "\n",
       "    .dataframe tbody tr th {\n",
       "        vertical-align: top;\n",
       "    }\n",
       "\n",
       "    .dataframe thead th {\n",
       "        text-align: right;\n",
       "    }\n",
       "</style>\n",
       "<table border=\"1\" class=\"dataframe\">\n",
       "  <thead>\n",
       "    <tr style=\"text-align: right;\">\n",
       "      <th></th>\n",
       "      <th>pickup</th>\n",
       "      <th>passenger_count</th>\n",
       "      <th>trip_distance</th>\n",
       "      <th>payment_type</th>\n",
       "      <th>fare_amount</th>\n",
       "      <th>extra</th>\n",
       "      <th>mta_tax</th>\n",
       "      <th>tip_amount</th>\n",
       "      <th>tolls_amount</th>\n",
       "      <th>improvement_surcharge</th>\n",
       "      <th>total_amount</th>\n",
       "      <th>congestion_surcharge</th>\n",
       "      <th>elapsed_time</th>\n",
       "      <th>cost_before_tip</th>\n",
       "      <th>tip_pct</th>\n",
       "      <th>fees</th>\n",
       "      <th>avg_speed</th>\n",
       "    </tr>\n",
       "    <tr>\n",
       "      <th>dropoff</th>\n",
       "      <th></th>\n",
       "      <th></th>\n",
       "      <th></th>\n",
       "      <th></th>\n",
       "      <th></th>\n",
       "      <th></th>\n",
       "      <th></th>\n",
       "      <th></th>\n",
       "      <th></th>\n",
       "      <th></th>\n",
       "      <th></th>\n",
       "      <th></th>\n",
       "      <th></th>\n",
       "      <th></th>\n",
       "      <th></th>\n",
       "      <th></th>\n",
       "      <th></th>\n",
       "    </tr>\n",
       "  </thead>\n",
       "  <tbody>\n",
       "    <tr>\n",
       "      <th>2019-10-23 07:52:09</th>\n",
       "      <td>2019-10-23 07:48:58</td>\n",
       "      <td>1</td>\n",
       "      <td>0.67</td>\n",
       "      <td>2</td>\n",
       "      <td>4.5</td>\n",
       "      <td>1.0</td>\n",
       "      <td>0.5</td>\n",
       "      <td>0.0</td>\n",
       "      <td>0.0</td>\n",
       "      <td>0.3</td>\n",
       "      <td>8.8</td>\n",
       "      <td>2.5</td>\n",
       "      <td>0 days 00:03:11</td>\n",
       "      <td>8.8</td>\n",
       "      <td>0.00000</td>\n",
       "      <td>4.3</td>\n",
       "      <td>12.628272</td>\n",
       "    </tr>\n",
       "    <tr>\n",
       "      <th>2019-10-23 08:03:16</th>\n",
       "      <td>2019-10-23 07:05:34</td>\n",
       "      <td>3</td>\n",
       "      <td>14.68</td>\n",
       "      <td>1</td>\n",
       "      <td>50.0</td>\n",
       "      <td>1.0</td>\n",
       "      <td>0.5</td>\n",
       "      <td>4.0</td>\n",
       "      <td>0.0</td>\n",
       "      <td>0.3</td>\n",
       "      <td>55.8</td>\n",
       "      <td>0.0</td>\n",
       "      <td>0 days 00:57:42</td>\n",
       "      <td>51.8</td>\n",
       "      <td>0.07722</td>\n",
       "      <td>1.8</td>\n",
       "      <td>15.265165</td>\n",
       "    </tr>\n",
       "    <tr>\n",
       "      <th>2019-10-23 08:36:05</th>\n",
       "      <td>2019-10-23 08:18:47</td>\n",
       "      <td>1</td>\n",
       "      <td>2.39</td>\n",
       "      <td>2</td>\n",
       "      <td>12.5</td>\n",
       "      <td>1.0</td>\n",
       "      <td>0.5</td>\n",
       "      <td>0.0</td>\n",
       "      <td>0.0</td>\n",
       "      <td>0.3</td>\n",
       "      <td>16.8</td>\n",
       "      <td>2.5</td>\n",
       "      <td>0 days 00:17:18</td>\n",
       "      <td>16.8</td>\n",
       "      <td>0.00000</td>\n",
       "      <td>4.3</td>\n",
       "      <td>8.289017</td>\n",
       "    </tr>\n",
       "  </tbody>\n",
       "</table>\n",
       "</div>"
      ],
      "text/plain": [
       "                                 pickup  passenger_count  trip_distance   \n",
       "dropoff                                                                   \n",
       "2019-10-23 07:52:09 2019-10-23 07:48:58                1           0.67  \\\n",
       "2019-10-23 08:03:16 2019-10-23 07:05:34                3          14.68   \n",
       "2019-10-23 08:36:05 2019-10-23 08:18:47                1           2.39   \n",
       "\n",
       "                     payment_type  fare_amount  extra  mta_tax  tip_amount   \n",
       "dropoff                                                                      \n",
       "2019-10-23 07:52:09             2          4.5    1.0      0.5         0.0  \\\n",
       "2019-10-23 08:03:16             1         50.0    1.0      0.5         4.0   \n",
       "2019-10-23 08:36:05             2         12.5    1.0      0.5         0.0   \n",
       "\n",
       "                     tolls_amount  improvement_surcharge  total_amount   \n",
       "dropoff                                                                  \n",
       "2019-10-23 07:52:09           0.0                    0.3           8.8  \\\n",
       "2019-10-23 08:03:16           0.0                    0.3          55.8   \n",
       "2019-10-23 08:36:05           0.0                    0.3          16.8   \n",
       "\n",
       "                     congestion_surcharge    elapsed_time  cost_before_tip   \n",
       "dropoff                                                                      \n",
       "2019-10-23 07:52:09                   2.5 0 days 00:03:11              8.8  \\\n",
       "2019-10-23 08:03:16                   0.0 0 days 00:57:42             51.8   \n",
       "2019-10-23 08:36:05                   2.5 0 days 00:17:18             16.8   \n",
       "\n",
       "                     tip_pct  fees  avg_speed  \n",
       "dropoff                                        \n",
       "2019-10-23 07:52:09  0.00000   4.3  12.628272  \n",
       "2019-10-23 08:03:16  0.07722   1.8  15.265165  \n",
       "2019-10-23 08:36:05  0.00000   4.3   8.289017  "
      ]
     },
     "execution_count": 40,
     "metadata": {},
     "output_type": "execute_result"
    }
   ],
   "source": [
    "taxis.first('1H')"
   ]
  },
  {
   "cell_type": "markdown",
   "id": "7f0c8566-4a05-4710-8146-773089a05a07",
   "metadata": {},
   "source": [
    "*Tip: Available date/time offsets can be found in the pandas documentation [here](https://pandas.pydata.org/pandas-docs/stable/user_guide/timeseries.html#dateoffset-objects).* "
   ]
  },
  {
   "cell_type": "markdown",
   "id": "b8c0485e-4730-4124-8e71-493e7e9c45d6",
   "metadata": {
    "slideshow": {
     "slide_type": "subslide"
    },
    "tags": []
   },
   "source": [
    "For the rest of this section, we will be working with the TSA traveler throughput data. Let's start by setting the index to the `date` column:"
   ]
  },
  {
   "cell_type": "code",
   "execution_count": 41,
   "id": "1a06c5b3-cb6b-4f02-9559-208fd94a78ed",
   "metadata": {},
   "outputs": [],
   "source": [
    "tsa_melted_holiday_travel = tsa_melted_holiday_travel.set_index('date')"
   ]
  },
  {
   "cell_type": "markdown",
   "id": "20ae3a50-f2f4-4880-8463-a16bb7932ba2",
   "metadata": {
    "slideshow": {
     "slide_type": "subslide"
    },
    "tags": []
   },
   "source": [
    "### Calculating change over time"
   ]
  },
  {
   "cell_type": "code",
   "execution_count": 42,
   "id": "7a554fda-2363-4c87-b8f3-17773c511c43",
   "metadata": {},
   "outputs": [
    {
     "data": {
      "text/html": [
       "<div>\n",
       "<style scoped>\n",
       "    .dataframe tbody tr th:only-of-type {\n",
       "        vertical-align: middle;\n",
       "    }\n",
       "\n",
       "    .dataframe tbody tr th {\n",
       "        vertical-align: top;\n",
       "    }\n",
       "\n",
       "    .dataframe thead th {\n",
       "        text-align: right;\n",
       "    }\n",
       "</style>\n",
       "<table border=\"1\" class=\"dataframe\">\n",
       "  <thead>\n",
       "    <tr style=\"text-align: right;\">\n",
       "      <th></th>\n",
       "      <th>year</th>\n",
       "      <th>travelers</th>\n",
       "      <th>holiday</th>\n",
       "      <th>one_day_change</th>\n",
       "      <th>seven_day_change</th>\n",
       "    </tr>\n",
       "    <tr>\n",
       "      <th>date</th>\n",
       "      <th></th>\n",
       "      <th></th>\n",
       "      <th></th>\n",
       "      <th></th>\n",
       "      <th></th>\n",
       "    </tr>\n",
       "  </thead>\n",
       "  <tbody>\n",
       "    <tr>\n",
       "      <th>2020-01-01</th>\n",
       "      <td>2020</td>\n",
       "      <td>2311732.0</td>\n",
       "      <td>New Year's Day</td>\n",
       "      <td>NaN</td>\n",
       "      <td>NaN</td>\n",
       "    </tr>\n",
       "    <tr>\n",
       "      <th>2020-01-02</th>\n",
       "      <td>2020</td>\n",
       "      <td>2178656.0</td>\n",
       "      <td>New Year's Day</td>\n",
       "      <td>-133076.0</td>\n",
       "      <td>NaN</td>\n",
       "    </tr>\n",
       "    <tr>\n",
       "      <th>2020-01-03</th>\n",
       "      <td>2020</td>\n",
       "      <td>2422272.0</td>\n",
       "      <td>NaN</td>\n",
       "      <td>243616.0</td>\n",
       "      <td>NaN</td>\n",
       "    </tr>\n",
       "    <tr>\n",
       "      <th>2020-01-04</th>\n",
       "      <td>2020</td>\n",
       "      <td>2210542.0</td>\n",
       "      <td>NaN</td>\n",
       "      <td>-211730.0</td>\n",
       "      <td>NaN</td>\n",
       "    </tr>\n",
       "    <tr>\n",
       "      <th>2020-01-05</th>\n",
       "      <td>2020</td>\n",
       "      <td>1806480.0</td>\n",
       "      <td>NaN</td>\n",
       "      <td>-404062.0</td>\n",
       "      <td>NaN</td>\n",
       "    </tr>\n",
       "    <tr>\n",
       "      <th>2020-01-06</th>\n",
       "      <td>2020</td>\n",
       "      <td>1815040.0</td>\n",
       "      <td>NaN</td>\n",
       "      <td>8560.0</td>\n",
       "      <td>NaN</td>\n",
       "    </tr>\n",
       "    <tr>\n",
       "      <th>2020-01-07</th>\n",
       "      <td>2020</td>\n",
       "      <td>2034472.0</td>\n",
       "      <td>NaN</td>\n",
       "      <td>219432.0</td>\n",
       "      <td>NaN</td>\n",
       "    </tr>\n",
       "    <tr>\n",
       "      <th>2020-01-08</th>\n",
       "      <td>2020</td>\n",
       "      <td>2072543.0</td>\n",
       "      <td>NaN</td>\n",
       "      <td>38071.0</td>\n",
       "      <td>-239189.0</td>\n",
       "    </tr>\n",
       "    <tr>\n",
       "      <th>2020-01-09</th>\n",
       "      <td>2020</td>\n",
       "      <td>1687974.0</td>\n",
       "      <td>NaN</td>\n",
       "      <td>-384569.0</td>\n",
       "      <td>-490682.0</td>\n",
       "    </tr>\n",
       "    <tr>\n",
       "      <th>2020-01-10</th>\n",
       "      <td>2020</td>\n",
       "      <td>2183734.0</td>\n",
       "      <td>NaN</td>\n",
       "      <td>495760.0</td>\n",
       "      <td>-238538.0</td>\n",
       "    </tr>\n",
       "  </tbody>\n",
       "</table>\n",
       "</div>"
      ],
      "text/plain": [
       "            year  travelers         holiday  one_day_change  seven_day_change\n",
       "date                                                                         \n",
       "2020-01-01  2020  2311732.0  New Year's Day             NaN               NaN\n",
       "2020-01-02  2020  2178656.0  New Year's Day       -133076.0               NaN\n",
       "2020-01-03  2020  2422272.0             NaN        243616.0               NaN\n",
       "2020-01-04  2020  2210542.0             NaN       -211730.0               NaN\n",
       "2020-01-05  2020  1806480.0             NaN       -404062.0               NaN\n",
       "2020-01-06  2020  1815040.0             NaN          8560.0               NaN\n",
       "2020-01-07  2020  2034472.0             NaN        219432.0               NaN\n",
       "2020-01-08  2020  2072543.0             NaN         38071.0         -239189.0\n",
       "2020-01-09  2020  1687974.0             NaN       -384569.0         -490682.0\n",
       "2020-01-10  2020  2183734.0             NaN        495760.0         -238538.0"
      ]
     },
     "execution_count": 42,
     "metadata": {},
     "output_type": "execute_result"
    }
   ],
   "source": [
    "tsa_melted_holiday_travel.loc['2020'].assign(\n",
    "    one_day_change=lambda x: x.travelers.diff(),\n",
    "    seven_day_change=lambda x: x.travelers.diff(7),\n",
    ").head(10)"
   ]
  },
  {
   "cell_type": "markdown",
   "id": "4938d37c-9e59-4c5b-88c1-32709c0b68d9",
   "metadata": {},
   "source": [
    "*Tip: To perform operations other than subtraction, take a look at the `shift()` method. It also makes it possible to perform operations across columns.*"
   ]
  },
  {
   "cell_type": "markdown",
   "id": "86e9b6a3-7547-4d38-93ec-1a27e64615cf",
   "metadata": {
    "slideshow": {
     "slide_type": "subslide"
    },
    "tags": []
   },
   "source": [
    "### Resampling\n",
    "We can use resampling to aggregate time series data to a new frequency:"
   ]
  },
  {
   "cell_type": "code",
   "execution_count": 43,
   "id": "0093c590-342a-4add-9999-0fb063cfa5e7",
   "metadata": {},
   "outputs": [
    {
     "data": {
      "text/html": [
       "<div>\n",
       "<style scoped>\n",
       "    .dataframe tbody tr th:only-of-type {\n",
       "        vertical-align: middle;\n",
       "    }\n",
       "\n",
       "    .dataframe tbody tr th {\n",
       "        vertical-align: top;\n",
       "    }\n",
       "\n",
       "    .dataframe thead tr th {\n",
       "        text-align: left;\n",
       "    }\n",
       "\n",
       "    .dataframe thead tr:last-of-type th {\n",
       "        text-align: right;\n",
       "    }\n",
       "</style>\n",
       "<table border=\"1\" class=\"dataframe\">\n",
       "  <thead>\n",
       "    <tr>\n",
       "      <th></th>\n",
       "      <th colspan=\"3\" halign=\"left\">travelers</th>\n",
       "    </tr>\n",
       "    <tr>\n",
       "      <th></th>\n",
       "      <th>sum</th>\n",
       "      <th>mean</th>\n",
       "      <th>std</th>\n",
       "    </tr>\n",
       "    <tr>\n",
       "      <th>date</th>\n",
       "      <th></th>\n",
       "      <th></th>\n",
       "      <th></th>\n",
       "    </tr>\n",
       "  </thead>\n",
       "  <tbody>\n",
       "    <tr>\n",
       "      <th>2019-03-31</th>\n",
       "      <td>189281658.0</td>\n",
       "      <td>2.103130e+06</td>\n",
       "      <td>282239.618354</td>\n",
       "    </tr>\n",
       "    <tr>\n",
       "      <th>2019-06-30</th>\n",
       "      <td>221756667.0</td>\n",
       "      <td>2.436886e+06</td>\n",
       "      <td>212600.697665</td>\n",
       "    </tr>\n",
       "    <tr>\n",
       "      <th>2019-09-30</th>\n",
       "      <td>220819236.0</td>\n",
       "      <td>2.400209e+06</td>\n",
       "      <td>260140.242892</td>\n",
       "    </tr>\n",
       "    <tr>\n",
       "      <th>2019-12-31</th>\n",
       "      <td>211103512.0</td>\n",
       "      <td>2.294603e+06</td>\n",
       "      <td>260510.040655</td>\n",
       "    </tr>\n",
       "    <tr>\n",
       "      <th>2020-03-31</th>\n",
       "      <td>155354148.0</td>\n",
       "      <td>1.726157e+06</td>\n",
       "      <td>685094.277420</td>\n",
       "    </tr>\n",
       "    <tr>\n",
       "      <th>2020-06-30</th>\n",
       "      <td>25049083.0</td>\n",
       "      <td>2.752646e+05</td>\n",
       "      <td>170127.402046</td>\n",
       "    </tr>\n",
       "    <tr>\n",
       "      <th>2020-09-30</th>\n",
       "      <td>63937115.0</td>\n",
       "      <td>6.949686e+05</td>\n",
       "      <td>103864.705739</td>\n",
       "    </tr>\n",
       "    <tr>\n",
       "      <th>2020-12-31</th>\n",
       "      <td>77541248.0</td>\n",
       "      <td>8.428397e+05</td>\n",
       "      <td>170245.484185</td>\n",
       "    </tr>\n",
       "    <tr>\n",
       "      <th>2021-03-31</th>\n",
       "      <td>86094635.0</td>\n",
       "      <td>9.566071e+05</td>\n",
       "      <td>280399.809061</td>\n",
       "    </tr>\n",
       "  </tbody>\n",
       "</table>\n",
       "</div>"
      ],
      "text/plain": [
       "              travelers                             \n",
       "                    sum          mean            std\n",
       "date                                                \n",
       "2019-03-31  189281658.0  2.103130e+06  282239.618354\n",
       "2019-06-30  221756667.0  2.436886e+06  212600.697665\n",
       "2019-09-30  220819236.0  2.400209e+06  260140.242892\n",
       "2019-12-31  211103512.0  2.294603e+06  260510.040655\n",
       "2020-03-31  155354148.0  1.726157e+06  685094.277420\n",
       "2020-06-30   25049083.0  2.752646e+05  170127.402046\n",
       "2020-09-30   63937115.0  6.949686e+05  103864.705739\n",
       "2020-12-31   77541248.0  8.428397e+05  170245.484185\n",
       "2021-03-31   86094635.0  9.566071e+05  280399.809061"
      ]
     },
     "execution_count": 43,
     "metadata": {},
     "output_type": "execute_result"
    }
   ],
   "source": [
    "tsa_melted_holiday_travel['2019':'2021-Q1'].select_dtypes(include='number')\\\n",
    "    .resample('Q').agg(['sum', 'mean', 'std'])"
   ]
  },
  {
   "cell_type": "markdown",
   "id": "c169d6c8-a744-462a-bfbb-a5cadd29eca9",
   "metadata": {
    "slideshow": {
     "slide_type": "subslide"
    },
    "tags": []
   },
   "source": [
    "### Window calculations\n",
    "\n",
    " - Window calculations are similar to group by calculations except the group over which the calculation is performed isn't static &ndash; it can move or expand. \n",
    " - Pandas provides functionality for constructing a variety of windows, including moving/rolling windows, expanding windows (e.g., cumulative sum or mean up to the current date in a time series), and exponentially weighted moving windows (to weight closer observations more than further ones).\n",
    " - We will only look at rolling and expanding calculations here."
   ]
  },
  {
   "cell_type": "markdown",
   "id": "acdebc2e-20f9-4963-9aeb-90a6d91db14e",
   "metadata": {
    "slideshow": {
     "slide_type": "subslide"
    },
    "tags": []
   },
   "source": [
    "Performing a window calculation is very similar to a group by calculation &ndash; we first define the window, and then we specify the aggregation:"
   ]
  },
  {
   "cell_type": "code",
   "execution_count": 44,
   "id": "d83c0d2e-16db-49de-b15b-ba30792a89e7",
   "metadata": {},
   "outputs": [
    {
     "data": {
      "text/html": [
       "<div>\n",
       "<style scoped>\n",
       "    .dataframe tbody tr th:only-of-type {\n",
       "        vertical-align: middle;\n",
       "    }\n",
       "\n",
       "    .dataframe tbody tr th {\n",
       "        vertical-align: top;\n",
       "    }\n",
       "\n",
       "    .dataframe thead th {\n",
       "        text-align: right;\n",
       "    }\n",
       "</style>\n",
       "<table border=\"1\" class=\"dataframe\">\n",
       "  <thead>\n",
       "    <tr style=\"text-align: right;\">\n",
       "      <th></th>\n",
       "      <th>year</th>\n",
       "      <th>travelers</th>\n",
       "      <th>holiday</th>\n",
       "      <th>7D MA</th>\n",
       "      <th>YTD mean</th>\n",
       "    </tr>\n",
       "    <tr>\n",
       "      <th>date</th>\n",
       "      <th></th>\n",
       "      <th></th>\n",
       "      <th></th>\n",
       "      <th></th>\n",
       "      <th></th>\n",
       "    </tr>\n",
       "  </thead>\n",
       "  <tbody>\n",
       "    <tr>\n",
       "      <th>2020-01-01</th>\n",
       "      <td>2020</td>\n",
       "      <td>2311732.0</td>\n",
       "      <td>New Year's Day</td>\n",
       "      <td>2.311732e+06</td>\n",
       "      <td>2.311732e+06</td>\n",
       "    </tr>\n",
       "    <tr>\n",
       "      <th>2020-01-02</th>\n",
       "      <td>2020</td>\n",
       "      <td>2178656.0</td>\n",
       "      <td>New Year's Day</td>\n",
       "      <td>2.245194e+06</td>\n",
       "      <td>2.245194e+06</td>\n",
       "    </tr>\n",
       "    <tr>\n",
       "      <th>2020-01-03</th>\n",
       "      <td>2020</td>\n",
       "      <td>2422272.0</td>\n",
       "      <td>NaN</td>\n",
       "      <td>2.304220e+06</td>\n",
       "      <td>2.304220e+06</td>\n",
       "    </tr>\n",
       "    <tr>\n",
       "      <th>2020-01-04</th>\n",
       "      <td>2020</td>\n",
       "      <td>2210542.0</td>\n",
       "      <td>NaN</td>\n",
       "      <td>2.280800e+06</td>\n",
       "      <td>2.280800e+06</td>\n",
       "    </tr>\n",
       "    <tr>\n",
       "      <th>2020-01-05</th>\n",
       "      <td>2020</td>\n",
       "      <td>1806480.0</td>\n",
       "      <td>NaN</td>\n",
       "      <td>2.185936e+06</td>\n",
       "      <td>2.185936e+06</td>\n",
       "    </tr>\n",
       "    <tr>\n",
       "      <th>2020-01-06</th>\n",
       "      <td>2020</td>\n",
       "      <td>1815040.0</td>\n",
       "      <td>NaN</td>\n",
       "      <td>2.124120e+06</td>\n",
       "      <td>2.124120e+06</td>\n",
       "    </tr>\n",
       "    <tr>\n",
       "      <th>2020-01-07</th>\n",
       "      <td>2020</td>\n",
       "      <td>2034472.0</td>\n",
       "      <td>NaN</td>\n",
       "      <td>2.111313e+06</td>\n",
       "      <td>2.111313e+06</td>\n",
       "    </tr>\n",
       "    <tr>\n",
       "      <th>2020-01-08</th>\n",
       "      <td>2020</td>\n",
       "      <td>2072543.0</td>\n",
       "      <td>NaN</td>\n",
       "      <td>2.077144e+06</td>\n",
       "      <td>2.106467e+06</td>\n",
       "    </tr>\n",
       "    <tr>\n",
       "      <th>2020-01-09</th>\n",
       "      <td>2020</td>\n",
       "      <td>1687974.0</td>\n",
       "      <td>NaN</td>\n",
       "      <td>2.007046e+06</td>\n",
       "      <td>2.059968e+06</td>\n",
       "    </tr>\n",
       "    <tr>\n",
       "      <th>2020-01-10</th>\n",
       "      <td>2020</td>\n",
       "      <td>2183734.0</td>\n",
       "      <td>NaN</td>\n",
       "      <td>1.972969e+06</td>\n",
       "      <td>2.072344e+06</td>\n",
       "    </tr>\n",
       "  </tbody>\n",
       "</table>\n",
       "</div>"
      ],
      "text/plain": [
       "            year  travelers         holiday         7D MA      YTD mean\n",
       "date                                                                   \n",
       "2020-01-01  2020  2311732.0  New Year's Day  2.311732e+06  2.311732e+06\n",
       "2020-01-02  2020  2178656.0  New Year's Day  2.245194e+06  2.245194e+06\n",
       "2020-01-03  2020  2422272.0             NaN  2.304220e+06  2.304220e+06\n",
       "2020-01-04  2020  2210542.0             NaN  2.280800e+06  2.280800e+06\n",
       "2020-01-05  2020  1806480.0             NaN  2.185936e+06  2.185936e+06\n",
       "2020-01-06  2020  1815040.0             NaN  2.124120e+06  2.124120e+06\n",
       "2020-01-07  2020  2034472.0             NaN  2.111313e+06  2.111313e+06\n",
       "2020-01-08  2020  2072543.0             NaN  2.077144e+06  2.106467e+06\n",
       "2020-01-09  2020  1687974.0             NaN  2.007046e+06  2.059968e+06\n",
       "2020-01-10  2020  2183734.0             NaN  1.972969e+06  2.072344e+06"
      ]
     },
     "execution_count": 44,
     "metadata": {},
     "output_type": "execute_result"
    }
   ],
   "source": [
    "tsa_melted_holiday_travel.loc['2020'].assign(\n",
    "    **{\n",
    "        '7D MA': lambda x: x.rolling('7D').travelers.mean(),\n",
    "        'YTD mean': lambda x: x.expanding().travelers.mean()\n",
    "      }\n",
    ").head(10)"
   ]
  },
  {
   "cell_type": "markdown",
   "id": "8dab1843-9179-415f-be5b-1ebafaef3690",
   "metadata": {
    "slideshow": {
     "slide_type": "subslide"
    },
    "tags": []
   },
   "source": [
    "To understand what's happening, it's best to visualize the original data and the result, so here's a sneak peek of plotting with pandas."
   ]
  },
  {
   "cell_type": "code",
   "execution_count": 47,
   "id": "3e31834c-3299-44b0-8ac3-6939b91b9be0",
   "metadata": {},
   "outputs": [
    {
     "data": {
      "image/png": "[encoded data removed]",
      "text/plain": [
       "<Figure size 640x480 with 1 Axes>"
      ]
     },
     "metadata": {},
     "output_type": "display_data"
    }
   ],
   "source": [
    "_ = tsa_melted_holiday_travel.loc['2020'].assign(\n",
    "    **{\n",
    "        '7D MA': lambda x: x.rolling('7D').travelers.mean(),\n",
    "        'YTD mean': lambda x: x.expanding().travelers.mean()\n",
    "      }\n",
    ").plot(title='2020 TSA Traveler Throughput', ylabel='travelers', alpha=.2)"
   ]
  },
  {
   "cell_type": "markdown",
   "id": "4fe90855-8228-4cf6-9c8b-375b416071b7",
   "metadata": {
    "slideshow": {
     "slide_type": "subslide"
    },
    "tags": []
   },
   "source": [
    "Other types of windows:\n",
    "- [exponentially weighted moving](https://pandas.pydata.org/pandas-docs/stable/reference/api/pandas.DataFrame.ewm.html): use the `ewm()` method\n",
    "- [custom](https://pandas.pydata.org/docs/user_guide/window.html#window-custom-rolling-window): create a subclass of `pandas.api.indexers.BaseIndexer` or use a pre-built one in `pandas.api.indexers`"
   ]
  },
  {
   "cell_type": "markdown",
   "id": "5ff9d1a5",
   "metadata": {
    "slideshow": {
     "slide_type": "subslide"
    }
   },
   "source": [
    "### Exercise 5\n",
    "\n",
    "Using the taxi trip data in the `2019_Yellow_Taxi_Trip_Data.csv` file, resample the data to an hourly frequency based on the dropoff time. Calculate the total `trip_distance`, `fare_amount`, `tolls_amount`, and `tip_amount`, then find the 5 hours with the most tips."
   ]
  },
  {
   "cell_type": "code",
   "execution_count": null,
   "id": "0c46cb57",
   "metadata": {},
   "outputs": [],
   "source": []
  }
 ],
 "metadata": {
  "kernelspec": {
   "display_name": "sio209_dev",
   "language": "python",
   "name": "python3"
  },
  "language_info": {
   "codemirror_mode": {
    "name": "ipython",
    "version": 3
   },
   "file_extension": ".py",
   "mimetype": "text/x-python",
   "name": "python",
   "nbconvert_exporter": "python",
   "pygments_lexer": "ipython3",
   "version": "3.10.14"
  }
 },
 "nbformat": 4,
 "nbformat_minor": 2
}
